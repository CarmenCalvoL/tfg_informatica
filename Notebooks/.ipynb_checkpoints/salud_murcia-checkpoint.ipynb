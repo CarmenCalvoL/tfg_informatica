{
 "cells": [
  {
   "cell_type": "markdown",
   "metadata": {},
   "source": [
    "# SALUD MURCIA"
   ]
  },
  {
   "cell_type": "markdown",
   "metadata": {},
   "source": [
    "Lectura del conjunto de datos obtenido de la pagina de salud de Murcia \n",
    "https://www.murciasalud.es/pagina.php?id=458869\n",
    "Recogidos desde el 08/03/2020 hasta el dia 25/03/2020"
   ]
  },
  {
   "cell_type": "code",
   "execution_count": 1,
   "metadata": {},
   "outputs": [],
   "source": [
    "from pandas import read_csv\n",
    "lectura = read_csv('../Datos_originales/casos_diarios_total_regional.csv', skiprows = 4, encoding='latin-1', sep = ';', index_col = 0, na_values = ['NaN', 'NaT'])\n",
    "# Headers = columnas de mi conjunto de datos. Si no especificamos asume que son las de la primera fila leida\n",
    "# Skiprows = n: con n = numero de filas que quiero saltar. Las cuatro primeras son texto -> las saltamos\n",
    "# Encoding = 'latin-1': para que no de errores de codificacion de algunos caracteres \n",
    "# Sep = ';': delimitador que separa las columnas\n",
    "# Index_col = 0: usar la primera columna (fechas) como filas del dataframe"
   ]
  },
  {
   "cell_type": "markdown",
   "metadata": {},
   "source": [
    "Renombramos los nombres de algunas de las columnas para que queden mas compactos"
   ]
  },
  {
   "cell_type": "code",
   "execution_count": 2,
   "metadata": {},
   "outputs": [],
   "source": [
    "datos = lectura.rename(columns={'Pruebas_PCR_Ag':'Pruebas_PCR_Ag',\n",
    "                                'Casos_incidentes_PCR/Ag+':'Incidentes_PCR_Ag',\n",
    "                                'Hospitalizados': 'H',\n",
    "                                'Hospitaliz_UCI':'H_UCI',\n",
    "                                'Asintomatico_hombre_<45años': 'Asint_H_<45',\n",
    "                                'Asintomatico_hombre_45a64años': 'Asint_H_45a64',\n",
    "                                'Asintomatico_hombre_+65años': 'Asint_H_+65',\n",
    "                                'Sintomatico_hombre_<45años': 'Sint_H_<45',\n",
    "                                'Sintomatico_hombre_45a64años': 'Sint_H_45a64',\n",
    "                                'Sintomatico_hombre_+65años': 'Sint_H_+65',\n",
    "                                'Asintomatico_mujer_<45años': 'Asint_M_<45',\n",
    "                                'Asintomatico_mujer_45a64años': 'Asint_M_45a64',\n",
    "                                'Asintomatico_mujer_+65años': 'Asint_M_+65',\n",
    "                                'Sintomatico_mujer_<45años': 'Sint_M_<45',\n",
    "                                'Sintomatico_mujer_45a64años': 'Sint_M_45a64',\n",
    "                                'Sintomatico_mujer_+65años': 'Sint_M_+65'})"
   ]
  },
  {
   "cell_type": "code",
   "execution_count": 3,
   "metadata": {},
   "outputs": [],
   "source": [
    "import pandas as pd\n",
    "df = pd.DataFrame(datos)"
   ]
  },
  {
   "cell_type": "code",
   "execution_count": 4,
   "metadata": {},
   "outputs": [
    {
     "data": {
      "text/html": [
       "<div>\n",
       "<style scoped>\n",
       "    .dataframe tbody tr th:only-of-type {\n",
       "        vertical-align: middle;\n",
       "    }\n",
       "\n",
       "    .dataframe tbody tr th {\n",
       "        vertical-align: top;\n",
       "    }\n",
       "\n",
       "    .dataframe thead th {\n",
       "        text-align: right;\n",
       "    }\n",
       "</style>\n",
       "<table border=\"1\" class=\"dataframe\">\n",
       "  <thead>\n",
       "    <tr style=\"text-align: right;\">\n",
       "      <th></th>\n",
       "      <th>Pruebas_PCR_Ag</th>\n",
       "      <th>Incidentes_PCR_Ag</th>\n",
       "      <th>H</th>\n",
       "      <th>H_UCI</th>\n",
       "      <th>Defunciones</th>\n",
       "      <th>Asint_H_&lt;45</th>\n",
       "      <th>Asint_H_45a64</th>\n",
       "      <th>Asint_H_+65</th>\n",
       "      <th>Sint_H_&lt;45</th>\n",
       "      <th>Sint_H_45a64</th>\n",
       "      <th>Sint_H_+65</th>\n",
       "      <th>Asint_M_&lt;45</th>\n",
       "      <th>Asint_M_45a64</th>\n",
       "      <th>Asint_M_+65</th>\n",
       "      <th>Sint_M_&lt;45</th>\n",
       "      <th>Sint_M_45a64</th>\n",
       "      <th>Sint_M_+65</th>\n",
       "    </tr>\n",
       "    <tr>\n",
       "      <th>Fecha</th>\n",
       "      <th></th>\n",
       "      <th></th>\n",
       "      <th></th>\n",
       "      <th></th>\n",
       "      <th></th>\n",
       "      <th></th>\n",
       "      <th></th>\n",
       "      <th></th>\n",
       "      <th></th>\n",
       "      <th></th>\n",
       "      <th></th>\n",
       "      <th></th>\n",
       "      <th></th>\n",
       "      <th></th>\n",
       "      <th></th>\n",
       "      <th></th>\n",
       "      <th></th>\n",
       "    </tr>\n",
       "  </thead>\n",
       "  <tbody>\n",
       "    <tr>\n",
       "      <th>08/03/2020</th>\n",
       "      <td>130.0</td>\n",
       "      <td>1.0</td>\n",
       "      <td>0.0</td>\n",
       "      <td>0.0</td>\n",
       "      <td>0.0</td>\n",
       "      <td>1.0</td>\n",
       "      <td>0.0</td>\n",
       "      <td>0.0</td>\n",
       "      <td>0.0</td>\n",
       "      <td>0.0</td>\n",
       "      <td>0.0</td>\n",
       "      <td>1.0</td>\n",
       "      <td>0.0</td>\n",
       "      <td>0.0</td>\n",
       "      <td>1.0</td>\n",
       "      <td>0.0</td>\n",
       "      <td>0.0</td>\n",
       "    </tr>\n",
       "    <tr>\n",
       "      <th>09/03/2020</th>\n",
       "      <td>21.0</td>\n",
       "      <td>3.0</td>\n",
       "      <td>0.0</td>\n",
       "      <td>0.0</td>\n",
       "      <td>0.0</td>\n",
       "      <td>0.0</td>\n",
       "      <td>0.0</td>\n",
       "      <td>0.0</td>\n",
       "      <td>0.0</td>\n",
       "      <td>1.0</td>\n",
       "      <td>0.0</td>\n",
       "      <td>0.0</td>\n",
       "      <td>0.0</td>\n",
       "      <td>0.0</td>\n",
       "      <td>3.0</td>\n",
       "      <td>0.0</td>\n",
       "      <td>0.0</td>\n",
       "    </tr>\n",
       "    <tr>\n",
       "      <th>10/03/2020</th>\n",
       "      <td>39.0</td>\n",
       "      <td>6.0</td>\n",
       "      <td>0.0</td>\n",
       "      <td>0.0</td>\n",
       "      <td>0.0</td>\n",
       "      <td>0.0</td>\n",
       "      <td>0.0</td>\n",
       "      <td>0.0</td>\n",
       "      <td>1.0</td>\n",
       "      <td>0.0</td>\n",
       "      <td>1.0</td>\n",
       "      <td>0.0</td>\n",
       "      <td>0.0</td>\n",
       "      <td>0.0</td>\n",
       "      <td>2.0</td>\n",
       "      <td>0.0</td>\n",
       "      <td>0.0</td>\n",
       "    </tr>\n",
       "    <tr>\n",
       "      <th>11/03/2020</th>\n",
       "      <td>116.0</td>\n",
       "      <td>12.0</td>\n",
       "      <td>0.0</td>\n",
       "      <td>0.0</td>\n",
       "      <td>0.0</td>\n",
       "      <td>1.0</td>\n",
       "      <td>0.0</td>\n",
       "      <td>0.0</td>\n",
       "      <td>2.0</td>\n",
       "      <td>0.0</td>\n",
       "      <td>2.0</td>\n",
       "      <td>1.0</td>\n",
       "      <td>0.0</td>\n",
       "      <td>0.0</td>\n",
       "      <td>4.0</td>\n",
       "      <td>1.0</td>\n",
       "      <td>1.0</td>\n",
       "    </tr>\n",
       "    <tr>\n",
       "      <th>12/03/2020</th>\n",
       "      <td>136.0</td>\n",
       "      <td>9.0</td>\n",
       "      <td>4.0</td>\n",
       "      <td>1.0</td>\n",
       "      <td>0.0</td>\n",
       "      <td>3.0</td>\n",
       "      <td>1.0</td>\n",
       "      <td>0.0</td>\n",
       "      <td>3.0</td>\n",
       "      <td>1.0</td>\n",
       "      <td>1.0</td>\n",
       "      <td>1.0</td>\n",
       "      <td>0.0</td>\n",
       "      <td>0.0</td>\n",
       "      <td>1.0</td>\n",
       "      <td>0.0</td>\n",
       "      <td>1.0</td>\n",
       "    </tr>\n",
       "  </tbody>\n",
       "</table>\n",
       "</div>"
      ],
      "text/plain": [
       "            Pruebas_PCR_Ag  Incidentes_PCR_Ag    H  H_UCI  Defunciones  \\\n",
       "Fecha                                                                    \n",
       "08/03/2020           130.0                1.0  0.0    0.0          0.0   \n",
       "09/03/2020            21.0                3.0  0.0    0.0          0.0   \n",
       "10/03/2020            39.0                6.0  0.0    0.0          0.0   \n",
       "11/03/2020           116.0               12.0  0.0    0.0          0.0   \n",
       "12/03/2020           136.0                9.0  4.0    1.0          0.0   \n",
       "\n",
       "            Asint_H_<45  Asint_H_45a64  Asint_H_+65  Sint_H_<45  Sint_H_45a64  \\\n",
       "Fecha                                                                           \n",
       "08/03/2020          1.0            0.0          0.0         0.0           0.0   \n",
       "09/03/2020          0.0            0.0          0.0         0.0           1.0   \n",
       "10/03/2020          0.0            0.0          0.0         1.0           0.0   \n",
       "11/03/2020          1.0            0.0          0.0         2.0           0.0   \n",
       "12/03/2020          3.0            1.0          0.0         3.0           1.0   \n",
       "\n",
       "            Sint_H_+65  Asint_M_<45  Asint_M_45a64  Asint_M_+65  Sint_M_<45  \\\n",
       "Fecha                                                                         \n",
       "08/03/2020         0.0          1.0            0.0          0.0         1.0   \n",
       "09/03/2020         0.0          0.0            0.0          0.0         3.0   \n",
       "10/03/2020         1.0          0.0            0.0          0.0         2.0   \n",
       "11/03/2020         2.0          1.0            0.0          0.0         4.0   \n",
       "12/03/2020         1.0          1.0            0.0          0.0         1.0   \n",
       "\n",
       "            Sint_M_45a64  Sint_M_+65  \n",
       "Fecha                                 \n",
       "08/03/2020           0.0         0.0  \n",
       "09/03/2020           0.0         0.0  \n",
       "10/03/2020           0.0         0.0  \n",
       "11/03/2020           1.0         1.0  \n",
       "12/03/2020           0.0         1.0  "
      ]
     },
     "execution_count": 4,
     "metadata": {},
     "output_type": "execute_result"
    }
   ],
   "source": [
    "df.head(5)"
   ]
  },
  {
   "cell_type": "markdown",
   "metadata": {},
   "source": [
    "Con la siguiente función eliminamos todos aquellos valores que se almacenan o completan como NaN"
   ]
  },
  {
   "cell_type": "code",
   "execution_count": 5,
   "metadata": {},
   "outputs": [],
   "source": [
    "df.dropna(axis = 0, inplace = True)"
   ]
  },
  {
   "cell_type": "markdown",
   "metadata": {},
   "source": [
    "A continuación vamos a coger cada una de las series y para cada una de ellas:\n",
    "-Eliminación de datos autocompletados de fechas posteriores a la actual\n",
    "-Visualización de las mismas"
   ]
  },
  {
   "cell_type": "markdown",
   "metadata": {},
   "source": [
    "## Positivos"
   ]
  },
  {
   "cell_type": "code",
   "execution_count": 6,
   "metadata": {},
   "outputs": [
    {
     "name": "stdout",
     "output_type": "stream",
     "text": [
      "Fecha\n",
      "08/03/2020     1.0\n",
      "09/03/2020     3.0\n",
      "10/03/2020     6.0\n",
      "11/03/2020    12.0\n",
      "12/03/2020     9.0\n",
      "Name: Incidentes_PCR_Ag, dtype: float64\n"
     ]
    }
   ],
   "source": [
    "df_positivos = df['Incidentes_PCR_Ag']\n",
    "print(df_positivos.head(5))"
   ]
  },
  {
   "cell_type": "code",
   "execution_count": 6,
   "metadata": {},
   "outputs": [
    {
     "data": {
      "text/plain": [
       "495"
      ]
     },
     "execution_count": 6,
     "metadata": {},
     "output_type": "execute_result"
    }
   ],
   "source": [
    "df_positivos.size"
   ]
  },
  {
   "cell_type": "markdown",
   "metadata": {},
   "source": [
    "Fijandonos en las columnas del archivo .csv vemos que hay un total de 382 filas de datos (dias)\n",
    "Como el tamaño de df_positivos es 495 > 382, podemos sospechar que existen datos de mas\n",
    "Mostramos las 113 ultimas filas para ver que en efecto existen valores NaN no definidos"
   ]
  },
  {
   "cell_type": "code",
   "execution_count": 7,
   "metadata": {},
   "outputs": [
    {
     "data": {
      "text/plain": [
       "Fecha\n",
       "25/03/2021    88.0\n",
       "NaN            NaN\n",
       "NaN            NaN\n",
       "NaN            NaN\n",
       "NaN            NaN\n",
       "              ... \n",
       "NaN            NaN\n",
       "NaN            NaN\n",
       "NaN            NaN\n",
       "NaN            NaN\n",
       "NaN            NaN\n",
       "Name: Incidentes_PCR_Ag, Length: 113, dtype: float64"
      ]
     },
     "execution_count": 7,
     "metadata": {},
     "output_type": "execute_result"
    }
   ],
   "source": [
    "df_positivos.tail(113)"
   ]
  },
  {
   "cell_type": "markdown",
   "metadata": {},
   "source": [
    "Como podemos observar, hay muchas columnas que tienen datos desconocidos (identificados con NaN)\n",
    "https://stackabuse.com/python-how-to-handle-missing-dataframe-values-in-pandas/\n",
    "En este enlace vemos como podemos eliminar las filas cuyos valores son NaN -> mediante la funcion dropna\n",
    "De esta forma los datos ya se visualizaran solo en las fechas correctas, es decir, las puestas en el .csv"
   ]
  },
  {
   "cell_type": "code",
   "execution_count": 9,
   "metadata": {},
   "outputs": [],
   "source": [
    "df_positivos.dropna(axis = 0, inplace = True)"
   ]
  },
  {
   "cell_type": "code",
   "execution_count": 7,
   "metadata": {},
   "outputs": [
    {
     "data": {
      "image/png": "[encoded data removed]",
      "text/plain": [
       "<Figure size 432x288 with 1 Axes>"
      ]
     },
     "metadata": {
      "needs_background": "light"
     },
     "output_type": "display_data"
    }
   ],
   "source": [
    "# Visualización de los datos con un plot simple\n",
    "from matplotlib import pyplot\n",
    "df_positivos.plot()\n",
    "# Rotamos 45º las fechas para que se vean correctamente\n",
    "pyplot.xticks(rotation=90)\n",
    "pyplot.show()"
   ]
  },
  {
   "cell_type": "markdown",
   "metadata": {},
   "source": [
    "Con el siguiente gráfico podemos hacer una primera aproximación sobre la presencia del virus\n",
    "en la Región de Murcia. A simple vista, la pandemia parece haber sido bien controlada, puesto que\n",
    "la nube de puntos más densa de encuentra entre los 0 y 500 casos"
   ]
  },
  {
   "cell_type": "code",
   "execution_count": 8,
   "metadata": {},
   "outputs": [
    {
     "data": {
      "image/png": "[encoded data removed]",
      "text/plain": [
       "<Figure size 432x288 with 1 Axes>"
      ]
     },
     "metadata": {
      "needs_background": "light"
     },
     "output_type": "display_data"
    }
   ],
   "source": [
    "from pandas.plotting import lag_plot\n",
    "lag_plot(df_positivos)\n",
    "pyplot.show()"
   ]
  },
  {
   "cell_type": "markdown",
   "metadata": {},
   "source": [
    "## Pruebas PCR y Ag"
   ]
  },
  {
   "cell_type": "code",
   "execution_count": 10,
   "metadata": {},
   "outputs": [
    {
     "data": {
      "image/png": "[encoded data removed]",
      "text/plain": [
       "<Figure size 432x288 with 1 Axes>"
      ]
     },
     "metadata": {
      "needs_background": "light"
     },
     "output_type": "display_data"
    }
   ],
   "source": [
    "df_pruebas = df['Pruebas_PCR_Ag']\n",
    "df_pruebas.plot()\n",
    "pyplot.xticks(rotation=90)\n",
    "pyplot.show()"
   ]
  },
  {
   "cell_type": "markdown",
   "metadata": {},
   "source": [
    "## Hospitalizaciones"
   ]
  },
  {
   "cell_type": "code",
   "execution_count": 11,
   "metadata": {},
   "outputs": [
    {
     "data": {
      "image/png": "[encoded data removed]",
      "text/plain": [
       "<Figure size 432x288 with 1 Axes>"
      ]
     },
     "metadata": {
      "needs_background": "light"
     },
     "output_type": "display_data"
    }
   ],
   "source": [
    "df_hospitalizados = df['H']\n",
    "df_hospitalizados.plot()\n",
    "pyplot.xticks(rotation=90)\n",
    "pyplot.show()"
   ]
  },
  {
   "cell_type": "markdown",
   "metadata": {},
   "source": [
    "## Hospitalizados en UCI"
   ]
  },
  {
   "cell_type": "code",
   "execution_count": 12,
   "metadata": {},
   "outputs": [
    {
     "data": {
      "image/png": "[encoded data removed]",
      "text/plain": [
       "<Figure size 432x288 with 1 Axes>"
      ]
     },
     "metadata": {
      "needs_background": "light"
     },
     "output_type": "display_data"
    }
   ],
   "source": [
    "df_UCI = df['H_UCI']\n",
    "df_UCI.plot()\n",
    "pyplot.xticks(rotation=90)\n",
    "pyplot.show()"
   ]
  },
  {
   "cell_type": "markdown",
   "metadata": {},
   "source": [
    "## Defunciones"
   ]
  },
  {
   "cell_type": "code",
   "execution_count": 13,
   "metadata": {},
   "outputs": [
    {
     "data": {
      "image/png": "[encoded data removed]",
      "text/plain": [
       "<Figure size 432x288 with 1 Axes>"
      ]
     },
     "metadata": {
      "needs_background": "light"
     },
     "output_type": "display_data"
    }
   ],
   "source": [
    "df_defunciones = df['Defunciones']\n",
    "df_defunciones.plot()\n",
    "pyplot.xticks(rotation=90)\n",
    "pyplot.show()"
   ]
  },
  {
   "cell_type": "code",
   "execution_count": 9,
   "metadata": {},
   "outputs": [
    {
     "data": {
      "text/html": [
       "<div>\n",
       "<style scoped>\n",
       "    .dataframe tbody tr th:only-of-type {\n",
       "        vertical-align: middle;\n",
       "    }\n",
       "\n",
       "    .dataframe tbody tr th {\n",
       "        vertical-align: top;\n",
       "    }\n",
       "\n",
       "    .dataframe thead th {\n",
       "        text-align: right;\n",
       "    }\n",
       "</style>\n",
       "<table border=\"1\" class=\"dataframe\">\n",
       "  <thead>\n",
       "    <tr style=\"text-align: right;\">\n",
       "      <th></th>\n",
       "      <th>Pruebas_PCR_Ag</th>\n",
       "      <th>Incidentes_PCR_Ag</th>\n",
       "      <th>H</th>\n",
       "      <th>H_UCI</th>\n",
       "      <th>Defunciones</th>\n",
       "      <th>Asint_H_&lt;45</th>\n",
       "      <th>Asint_H_45a64</th>\n",
       "      <th>Asint_H_+65</th>\n",
       "      <th>Sint_H_&lt;45</th>\n",
       "      <th>Sint_H_45a64</th>\n",
       "      <th>Sint_H_+65</th>\n",
       "      <th>Asint_M_&lt;45</th>\n",
       "      <th>Asint_M_45a64</th>\n",
       "      <th>Asint_M_+65</th>\n",
       "      <th>Sint_M_&lt;45</th>\n",
       "      <th>Sint_M_45a64</th>\n",
       "      <th>Sint_M_+65</th>\n",
       "    </tr>\n",
       "  </thead>\n",
       "  <tbody>\n",
       "    <tr>\n",
       "      <th>Pruebas_PCR_Ag</th>\n",
       "      <td>1.000000</td>\n",
       "      <td>0.924814</td>\n",
       "      <td>0.811592</td>\n",
       "      <td>0.734834</td>\n",
       "      <td>0.718329</td>\n",
       "      <td>0.933566</td>\n",
       "      <td>0.911111</td>\n",
       "      <td>0.867579</td>\n",
       "      <td>0.903061</td>\n",
       "      <td>0.892985</td>\n",
       "      <td>0.894980</td>\n",
       "      <td>0.921794</td>\n",
       "      <td>0.892010</td>\n",
       "      <td>0.824545</td>\n",
       "      <td>0.901545</td>\n",
       "      <td>0.896624</td>\n",
       "      <td>0.885204</td>\n",
       "    </tr>\n",
       "    <tr>\n",
       "      <th>Incidentes_PCR_Ag</th>\n",
       "      <td>0.924814</td>\n",
       "      <td>1.000000</td>\n",
       "      <td>0.696973</td>\n",
       "      <td>0.586305</td>\n",
       "      <td>0.601761</td>\n",
       "      <td>0.965496</td>\n",
       "      <td>0.964222</td>\n",
       "      <td>0.925786</td>\n",
       "      <td>0.990621</td>\n",
       "      <td>0.983499</td>\n",
       "      <td>0.968002</td>\n",
       "      <td>0.948945</td>\n",
       "      <td>0.935251</td>\n",
       "      <td>0.893010</td>\n",
       "      <td>0.992726</td>\n",
       "      <td>0.985723</td>\n",
       "      <td>0.959587</td>\n",
       "    </tr>\n",
       "    <tr>\n",
       "      <th>H</th>\n",
       "      <td>0.811592</td>\n",
       "      <td>0.696973</td>\n",
       "      <td>1.000000</td>\n",
       "      <td>0.944594</td>\n",
       "      <td>0.909462</td>\n",
       "      <td>0.739986</td>\n",
       "      <td>0.723352</td>\n",
       "      <td>0.698537</td>\n",
       "      <td>0.649055</td>\n",
       "      <td>0.654464</td>\n",
       "      <td>0.707222</td>\n",
       "      <td>0.742615</td>\n",
       "      <td>0.709185</td>\n",
       "      <td>0.685277</td>\n",
       "      <td>0.654741</td>\n",
       "      <td>0.664828</td>\n",
       "      <td>0.697528</td>\n",
       "    </tr>\n",
       "    <tr>\n",
       "      <th>H_UCI</th>\n",
       "      <td>0.734834</td>\n",
       "      <td>0.586305</td>\n",
       "      <td>0.944594</td>\n",
       "      <td>1.000000</td>\n",
       "      <td>0.845461</td>\n",
       "      <td>0.632167</td>\n",
       "      <td>0.617913</td>\n",
       "      <td>0.583016</td>\n",
       "      <td>0.548878</td>\n",
       "      <td>0.547027</td>\n",
       "      <td>0.588978</td>\n",
       "      <td>0.629459</td>\n",
       "      <td>0.597467</td>\n",
       "      <td>0.576001</td>\n",
       "      <td>0.549198</td>\n",
       "      <td>0.552182</td>\n",
       "      <td>0.577620</td>\n",
       "    </tr>\n",
       "    <tr>\n",
       "      <th>Defunciones</th>\n",
       "      <td>0.718329</td>\n",
       "      <td>0.601761</td>\n",
       "      <td>0.909462</td>\n",
       "      <td>0.845461</td>\n",
       "      <td>1.000000</td>\n",
       "      <td>0.633725</td>\n",
       "      <td>0.616070</td>\n",
       "      <td>0.632963</td>\n",
       "      <td>0.558880</td>\n",
       "      <td>0.576505</td>\n",
       "      <td>0.636659</td>\n",
       "      <td>0.622331</td>\n",
       "      <td>0.594146</td>\n",
       "      <td>0.613898</td>\n",
       "      <td>0.558010</td>\n",
       "      <td>0.594175</td>\n",
       "      <td>0.636567</td>\n",
       "    </tr>\n",
       "    <tr>\n",
       "      <th>Asint_H_&lt;45</th>\n",
       "      <td>0.933566</td>\n",
       "      <td>0.965496</td>\n",
       "      <td>0.739986</td>\n",
       "      <td>0.632167</td>\n",
       "      <td>0.633725</td>\n",
       "      <td>1.000000</td>\n",
       "      <td>0.958641</td>\n",
       "      <td>0.893128</td>\n",
       "      <td>0.942459</td>\n",
       "      <td>0.924098</td>\n",
       "      <td>0.917391</td>\n",
       "      <td>0.969578</td>\n",
       "      <td>0.935279</td>\n",
       "      <td>0.851640</td>\n",
       "      <td>0.946899</td>\n",
       "      <td>0.926556</td>\n",
       "      <td>0.907964</td>\n",
       "    </tr>\n",
       "    <tr>\n",
       "      <th>Asint_H_45a64</th>\n",
       "      <td>0.911111</td>\n",
       "      <td>0.964222</td>\n",
       "      <td>0.723352</td>\n",
       "      <td>0.617913</td>\n",
       "      <td>0.616070</td>\n",
       "      <td>0.958641</td>\n",
       "      <td>1.000000</td>\n",
       "      <td>0.906274</td>\n",
       "      <td>0.945410</td>\n",
       "      <td>0.934062</td>\n",
       "      <td>0.937380</td>\n",
       "      <td>0.944370</td>\n",
       "      <td>0.926839</td>\n",
       "      <td>0.878923</td>\n",
       "      <td>0.945799</td>\n",
       "      <td>0.933921</td>\n",
       "      <td>0.930376</td>\n",
       "    </tr>\n",
       "    <tr>\n",
       "      <th>Asint_H_+65</th>\n",
       "      <td>0.867579</td>\n",
       "      <td>0.925786</td>\n",
       "      <td>0.698537</td>\n",
       "      <td>0.583016</td>\n",
       "      <td>0.632963</td>\n",
       "      <td>0.893128</td>\n",
       "      <td>0.906274</td>\n",
       "      <td>1.000000</td>\n",
       "      <td>0.912942</td>\n",
       "      <td>0.910753</td>\n",
       "      <td>0.913497</td>\n",
       "      <td>0.867692</td>\n",
       "      <td>0.858492</td>\n",
       "      <td>0.906688</td>\n",
       "      <td>0.909584</td>\n",
       "      <td>0.914918</td>\n",
       "      <td>0.928057</td>\n",
       "    </tr>\n",
       "    <tr>\n",
       "      <th>Sint_H_&lt;45</th>\n",
       "      <td>0.903061</td>\n",
       "      <td>0.990621</td>\n",
       "      <td>0.649055</td>\n",
       "      <td>0.548878</td>\n",
       "      <td>0.558880</td>\n",
       "      <td>0.942459</td>\n",
       "      <td>0.945410</td>\n",
       "      <td>0.912942</td>\n",
       "      <td>1.000000</td>\n",
       "      <td>0.986354</td>\n",
       "      <td>0.958582</td>\n",
       "      <td>0.916031</td>\n",
       "      <td>0.906972</td>\n",
       "      <td>0.873665</td>\n",
       "      <td>0.990678</td>\n",
       "      <td>0.984552</td>\n",
       "      <td>0.948689</td>\n",
       "    </tr>\n",
       "    <tr>\n",
       "      <th>Sint_H_45a64</th>\n",
       "      <td>0.892985</td>\n",
       "      <td>0.983499</td>\n",
       "      <td>0.654464</td>\n",
       "      <td>0.547027</td>\n",
       "      <td>0.576505</td>\n",
       "      <td>0.924098</td>\n",
       "      <td>0.934062</td>\n",
       "      <td>0.910753</td>\n",
       "      <td>0.986354</td>\n",
       "      <td>1.000000</td>\n",
       "      <td>0.963612</td>\n",
       "      <td>0.898964</td>\n",
       "      <td>0.895694</td>\n",
       "      <td>0.870560</td>\n",
       "      <td>0.982993</td>\n",
       "      <td>0.989007</td>\n",
       "      <td>0.952831</td>\n",
       "    </tr>\n",
       "    <tr>\n",
       "      <th>Sint_H_+65</th>\n",
       "      <td>0.894980</td>\n",
       "      <td>0.968002</td>\n",
       "      <td>0.707222</td>\n",
       "      <td>0.588978</td>\n",
       "      <td>0.636659</td>\n",
       "      <td>0.917391</td>\n",
       "      <td>0.937380</td>\n",
       "      <td>0.913497</td>\n",
       "      <td>0.958582</td>\n",
       "      <td>0.963612</td>\n",
       "      <td>1.000000</td>\n",
       "      <td>0.888724</td>\n",
       "      <td>0.897052</td>\n",
       "      <td>0.895546</td>\n",
       "      <td>0.955852</td>\n",
       "      <td>0.969338</td>\n",
       "      <td>0.970506</td>\n",
       "    </tr>\n",
       "    <tr>\n",
       "      <th>Asint_M_&lt;45</th>\n",
       "      <td>0.921794</td>\n",
       "      <td>0.948945</td>\n",
       "      <td>0.742615</td>\n",
       "      <td>0.629459</td>\n",
       "      <td>0.622331</td>\n",
       "      <td>0.969578</td>\n",
       "      <td>0.944370</td>\n",
       "      <td>0.867692</td>\n",
       "      <td>0.916031</td>\n",
       "      <td>0.898964</td>\n",
       "      <td>0.888724</td>\n",
       "      <td>1.000000</td>\n",
       "      <td>0.947547</td>\n",
       "      <td>0.828248</td>\n",
       "      <td>0.925228</td>\n",
       "      <td>0.904751</td>\n",
       "      <td>0.883842</td>\n",
       "    </tr>\n",
       "    <tr>\n",
       "      <th>Asint_M_45a64</th>\n",
       "      <td>0.892010</td>\n",
       "      <td>0.935251</td>\n",
       "      <td>0.709185</td>\n",
       "      <td>0.597467</td>\n",
       "      <td>0.594146</td>\n",
       "      <td>0.935279</td>\n",
       "      <td>0.926839</td>\n",
       "      <td>0.858492</td>\n",
       "      <td>0.906972</td>\n",
       "      <td>0.895694</td>\n",
       "      <td>0.897052</td>\n",
       "      <td>0.947547</td>\n",
       "      <td>1.000000</td>\n",
       "      <td>0.826651</td>\n",
       "      <td>0.917169</td>\n",
       "      <td>0.901694</td>\n",
       "      <td>0.881962</td>\n",
       "    </tr>\n",
       "    <tr>\n",
       "      <th>Asint_M_+65</th>\n",
       "      <td>0.824545</td>\n",
       "      <td>0.893010</td>\n",
       "      <td>0.685277</td>\n",
       "      <td>0.576001</td>\n",
       "      <td>0.613898</td>\n",
       "      <td>0.851640</td>\n",
       "      <td>0.878923</td>\n",
       "      <td>0.906688</td>\n",
       "      <td>0.873665</td>\n",
       "      <td>0.870560</td>\n",
       "      <td>0.895546</td>\n",
       "      <td>0.828248</td>\n",
       "      <td>0.826651</td>\n",
       "      <td>1.000000</td>\n",
       "      <td>0.876398</td>\n",
       "      <td>0.877949</td>\n",
       "      <td>0.899355</td>\n",
       "    </tr>\n",
       "    <tr>\n",
       "      <th>Sint_M_&lt;45</th>\n",
       "      <td>0.901545</td>\n",
       "      <td>0.992726</td>\n",
       "      <td>0.654741</td>\n",
       "      <td>0.549198</td>\n",
       "      <td>0.558010</td>\n",
       "      <td>0.946899</td>\n",
       "      <td>0.945799</td>\n",
       "      <td>0.909584</td>\n",
       "      <td>0.990678</td>\n",
       "      <td>0.982993</td>\n",
       "      <td>0.955852</td>\n",
       "      <td>0.925228</td>\n",
       "      <td>0.917169</td>\n",
       "      <td>0.876398</td>\n",
       "      <td>1.000000</td>\n",
       "      <td>0.983706</td>\n",
       "      <td>0.946669</td>\n",
       "    </tr>\n",
       "    <tr>\n",
       "      <th>Sint_M_45a64</th>\n",
       "      <td>0.896624</td>\n",
       "      <td>0.985723</td>\n",
       "      <td>0.664828</td>\n",
       "      <td>0.552182</td>\n",
       "      <td>0.594175</td>\n",
       "      <td>0.926556</td>\n",
       "      <td>0.933921</td>\n",
       "      <td>0.914918</td>\n",
       "      <td>0.984552</td>\n",
       "      <td>0.989007</td>\n",
       "      <td>0.969338</td>\n",
       "      <td>0.904751</td>\n",
       "      <td>0.901694</td>\n",
       "      <td>0.877949</td>\n",
       "      <td>0.983706</td>\n",
       "      <td>1.000000</td>\n",
       "      <td>0.960159</td>\n",
       "    </tr>\n",
       "    <tr>\n",
       "      <th>Sint_M_+65</th>\n",
       "      <td>0.885204</td>\n",
       "      <td>0.959587</td>\n",
       "      <td>0.697528</td>\n",
       "      <td>0.577620</td>\n",
       "      <td>0.636567</td>\n",
       "      <td>0.907964</td>\n",
       "      <td>0.930376</td>\n",
       "      <td>0.928057</td>\n",
       "      <td>0.948689</td>\n",
       "      <td>0.952831</td>\n",
       "      <td>0.970506</td>\n",
       "      <td>0.883842</td>\n",
       "      <td>0.881962</td>\n",
       "      <td>0.899355</td>\n",
       "      <td>0.946669</td>\n",
       "      <td>0.960159</td>\n",
       "      <td>1.000000</td>\n",
       "    </tr>\n",
       "  </tbody>\n",
       "</table>\n",
       "</div>"
      ],
      "text/plain": [
       "                   Pruebas_PCR_Ag  Incidentes_PCR_Ag         H     H_UCI  \\\n",
       "Pruebas_PCR_Ag           1.000000           0.924814  0.811592  0.734834   \n",
       "Incidentes_PCR_Ag        0.924814           1.000000  0.696973  0.586305   \n",
       "H                        0.811592           0.696973  1.000000  0.944594   \n",
       "H_UCI                    0.734834           0.586305  0.944594  1.000000   \n",
       "Defunciones              0.718329           0.601761  0.909462  0.845461   \n",
       "Asint_H_<45              0.933566           0.965496  0.739986  0.632167   \n",
       "Asint_H_45a64            0.911111           0.964222  0.723352  0.617913   \n",
       "Asint_H_+65              0.867579           0.925786  0.698537  0.583016   \n",
       "Sint_H_<45               0.903061           0.990621  0.649055  0.548878   \n",
       "Sint_H_45a64             0.892985           0.983499  0.654464  0.547027   \n",
       "Sint_H_+65               0.894980           0.968002  0.707222  0.588978   \n",
       "Asint_M_<45              0.921794           0.948945  0.742615  0.629459   \n",
       "Asint_M_45a64            0.892010           0.935251  0.709185  0.597467   \n",
       "Asint_M_+65              0.824545           0.893010  0.685277  0.576001   \n",
       "Sint_M_<45               0.901545           0.992726  0.654741  0.549198   \n",
       "Sint_M_45a64             0.896624           0.985723  0.664828  0.552182   \n",
       "Sint_M_+65               0.885204           0.959587  0.697528  0.577620   \n",
       "\n",
       "                   Defunciones  Asint_H_<45  Asint_H_45a64  Asint_H_+65  \\\n",
       "Pruebas_PCR_Ag        0.718329     0.933566       0.911111     0.867579   \n",
       "Incidentes_PCR_Ag     0.601761     0.965496       0.964222     0.925786   \n",
       "H                     0.909462     0.739986       0.723352     0.698537   \n",
       "H_UCI                 0.845461     0.632167       0.617913     0.583016   \n",
       "Defunciones           1.000000     0.633725       0.616070     0.632963   \n",
       "Asint_H_<45           0.633725     1.000000       0.958641     0.893128   \n",
       "Asint_H_45a64         0.616070     0.958641       1.000000     0.906274   \n",
       "Asint_H_+65           0.632963     0.893128       0.906274     1.000000   \n",
       "Sint_H_<45            0.558880     0.942459       0.945410     0.912942   \n",
       "Sint_H_45a64          0.576505     0.924098       0.934062     0.910753   \n",
       "Sint_H_+65            0.636659     0.917391       0.937380     0.913497   \n",
       "Asint_M_<45           0.622331     0.969578       0.944370     0.867692   \n",
       "Asint_M_45a64         0.594146     0.935279       0.926839     0.858492   \n",
       "Asint_M_+65           0.613898     0.851640       0.878923     0.906688   \n",
       "Sint_M_<45            0.558010     0.946899       0.945799     0.909584   \n",
       "Sint_M_45a64          0.594175     0.926556       0.933921     0.914918   \n",
       "Sint_M_+65            0.636567     0.907964       0.930376     0.928057   \n",
       "\n",
       "                   Sint_H_<45  Sint_H_45a64  Sint_H_+65  Asint_M_<45  \\\n",
       "Pruebas_PCR_Ag       0.903061      0.892985    0.894980     0.921794   \n",
       "Incidentes_PCR_Ag    0.990621      0.983499    0.968002     0.948945   \n",
       "H                    0.649055      0.654464    0.707222     0.742615   \n",
       "H_UCI                0.548878      0.547027    0.588978     0.629459   \n",
       "Defunciones          0.558880      0.576505    0.636659     0.622331   \n",
       "Asint_H_<45          0.942459      0.924098    0.917391     0.969578   \n",
       "Asint_H_45a64        0.945410      0.934062    0.937380     0.944370   \n",
       "Asint_H_+65          0.912942      0.910753    0.913497     0.867692   \n",
       "Sint_H_<45           1.000000      0.986354    0.958582     0.916031   \n",
       "Sint_H_45a64         0.986354      1.000000    0.963612     0.898964   \n",
       "Sint_H_+65           0.958582      0.963612    1.000000     0.888724   \n",
       "Asint_M_<45          0.916031      0.898964    0.888724     1.000000   \n",
       "Asint_M_45a64        0.906972      0.895694    0.897052     0.947547   \n",
       "Asint_M_+65          0.873665      0.870560    0.895546     0.828248   \n",
       "Sint_M_<45           0.990678      0.982993    0.955852     0.925228   \n",
       "Sint_M_45a64         0.984552      0.989007    0.969338     0.904751   \n",
       "Sint_M_+65           0.948689      0.952831    0.970506     0.883842   \n",
       "\n",
       "                   Asint_M_45a64  Asint_M_+65  Sint_M_<45  Sint_M_45a64  \\\n",
       "Pruebas_PCR_Ag          0.892010     0.824545    0.901545      0.896624   \n",
       "Incidentes_PCR_Ag       0.935251     0.893010    0.992726      0.985723   \n",
       "H                       0.709185     0.685277    0.654741      0.664828   \n",
       "H_UCI                   0.597467     0.576001    0.549198      0.552182   \n",
       "Defunciones             0.594146     0.613898    0.558010      0.594175   \n",
       "Asint_H_<45             0.935279     0.851640    0.946899      0.926556   \n",
       "Asint_H_45a64           0.926839     0.878923    0.945799      0.933921   \n",
       "Asint_H_+65             0.858492     0.906688    0.909584      0.914918   \n",
       "Sint_H_<45              0.906972     0.873665    0.990678      0.984552   \n",
       "Sint_H_45a64            0.895694     0.870560    0.982993      0.989007   \n",
       "Sint_H_+65              0.897052     0.895546    0.955852      0.969338   \n",
       "Asint_M_<45             0.947547     0.828248    0.925228      0.904751   \n",
       "Asint_M_45a64           1.000000     0.826651    0.917169      0.901694   \n",
       "Asint_M_+65             0.826651     1.000000    0.876398      0.877949   \n",
       "Sint_M_<45              0.917169     0.876398    1.000000      0.983706   \n",
       "Sint_M_45a64            0.901694     0.877949    0.983706      1.000000   \n",
       "Sint_M_+65              0.881962     0.899355    0.946669      0.960159   \n",
       "\n",
       "                   Sint_M_+65  \n",
       "Pruebas_PCR_Ag       0.885204  \n",
       "Incidentes_PCR_Ag    0.959587  \n",
       "H                    0.697528  \n",
       "H_UCI                0.577620  \n",
       "Defunciones          0.636567  \n",
       "Asint_H_<45          0.907964  \n",
       "Asint_H_45a64        0.930376  \n",
       "Asint_H_+65          0.928057  \n",
       "Sint_H_<45           0.948689  \n",
       "Sint_H_45a64         0.952831  \n",
       "Sint_H_+65           0.970506  \n",
       "Asint_M_<45          0.883842  \n",
       "Asint_M_45a64        0.881962  \n",
       "Asint_M_+65          0.899355  \n",
       "Sint_M_<45           0.946669  \n",
       "Sint_M_45a64         0.960159  \n",
       "Sint_M_+65           1.000000  "
      ]
     },
     "execution_count": 9,
     "metadata": {},
     "output_type": "execute_result"
    }
   ],
   "source": [
    "df.corr()"
   ]
  },
  {
   "cell_type": "markdown",
   "metadata": {},
   "source": []
  },
  {
   "cell_type": "code",
   "execution_count": 15,
   "metadata": {},
   "outputs": [],
   "source": [
    "df2 = df[['Pruebas_PCR_Ag', 'Incidentes_PCR_Ag','H', 'H_UCI', 'Defunciones']]"
   ]
  },
  {
   "cell_type": "code",
   "execution_count": 16,
   "metadata": {},
   "outputs": [
    {
     "data": {
      "text/html": [
       "<div>\n",
       "<style scoped>\n",
       "    .dataframe tbody tr th:only-of-type {\n",
       "        vertical-align: middle;\n",
       "    }\n",
       "\n",
       "    .dataframe tbody tr th {\n",
       "        vertical-align: top;\n",
       "    }\n",
       "\n",
       "    .dataframe thead th {\n",
       "        text-align: right;\n",
       "    }\n",
       "</style>\n",
       "<table border=\"1\" class=\"dataframe\">\n",
       "  <thead>\n",
       "    <tr style=\"text-align: right;\">\n",
       "      <th></th>\n",
       "      <th>Pruebas_PCR_Ag</th>\n",
       "      <th>Incidentes_PCR_Ag</th>\n",
       "      <th>H</th>\n",
       "      <th>H_UCI</th>\n",
       "      <th>Defunciones</th>\n",
       "    </tr>\n",
       "    <tr>\n",
       "      <th>Fecha</th>\n",
       "      <th></th>\n",
       "      <th></th>\n",
       "      <th></th>\n",
       "      <th></th>\n",
       "      <th></th>\n",
       "    </tr>\n",
       "  </thead>\n",
       "  <tbody>\n",
       "    <tr>\n",
       "      <th>08/03/2020</th>\n",
       "      <td>130.0</td>\n",
       "      <td>1.0</td>\n",
       "      <td>0.0</td>\n",
       "      <td>0.0</td>\n",
       "      <td>0.0</td>\n",
       "    </tr>\n",
       "    <tr>\n",
       "      <th>09/03/2020</th>\n",
       "      <td>21.0</td>\n",
       "      <td>3.0</td>\n",
       "      <td>0.0</td>\n",
       "      <td>0.0</td>\n",
       "      <td>0.0</td>\n",
       "    </tr>\n",
       "    <tr>\n",
       "      <th>10/03/2020</th>\n",
       "      <td>39.0</td>\n",
       "      <td>6.0</td>\n",
       "      <td>0.0</td>\n",
       "      <td>0.0</td>\n",
       "      <td>0.0</td>\n",
       "    </tr>\n",
       "    <tr>\n",
       "      <th>11/03/2020</th>\n",
       "      <td>116.0</td>\n",
       "      <td>12.0</td>\n",
       "      <td>0.0</td>\n",
       "      <td>0.0</td>\n",
       "      <td>0.0</td>\n",
       "    </tr>\n",
       "    <tr>\n",
       "      <th>12/03/2020</th>\n",
       "      <td>136.0</td>\n",
       "      <td>9.0</td>\n",
       "      <td>4.0</td>\n",
       "      <td>1.0</td>\n",
       "      <td>0.0</td>\n",
       "    </tr>\n",
       "  </tbody>\n",
       "</table>\n",
       "</div>"
      ],
      "text/plain": [
       "            Pruebas_PCR_Ag  Incidentes_PCR_Ag    H  H_UCI  Defunciones\n",
       "Fecha                                                                 \n",
       "08/03/2020           130.0                1.0  0.0    0.0          0.0\n",
       "09/03/2020            21.0                3.0  0.0    0.0          0.0\n",
       "10/03/2020            39.0                6.0  0.0    0.0          0.0\n",
       "11/03/2020           116.0               12.0  0.0    0.0          0.0\n",
       "12/03/2020           136.0                9.0  4.0    1.0          0.0"
      ]
     },
     "execution_count": 16,
     "metadata": {},
     "output_type": "execute_result"
    }
   ],
   "source": [
    "df2.head(5)"
   ]
  },
  {
   "cell_type": "code",
   "execution_count": 17,
   "metadata": {},
   "outputs": [],
   "source": [
    "# Creamos la matriz de correlaciones para el dataframe que acabamos de obtener\n",
    "# Esto nos permite ver si los datos están correlacionados entre si\n",
    "matriz_corr = df2.corr()"
   ]
  },
  {
   "cell_type": "code",
   "execution_count": 18,
   "metadata": {},
   "outputs": [
    {
     "data": {
      "image/png": "[encoded data removed]",
      "text/plain": [
       "<Figure size 432x288 with 2 Axes>"
      ]
     },
     "metadata": {
      "needs_background": "light"
     },
     "output_type": "display_data"
    }
   ],
   "source": [
    "import seaborn as sn\n",
    "import matplotlib.pyplot as plt\n",
    "sn.heatmap(matriz_corr, annot=True)\n",
    "plt.show()\n",
    "# La siguiente tabla muestra la correlacion entre los datos de forma grafica\n",
    "# Para cada una de las series se muestra la correlacion entre sus valores\n",
    "# Podriamos comentar, por ejemplo, la alta correlacion (0.85) entre el numero de\n",
    "# enfermos en UCI y las defunciones\n",
    "# Todos los datos están positivamente correlados, y esto en principio tiene\n",
    "# bastante sentido. En general, a más pruebas, más casos, más posibles hospitalizaciones\n",
    "# y por tanto más posibles enfermos en UCI y defunciones"
   ]
  }
 ],
 "metadata": {
  "kernelspec": {
   "display_name": "Python 3",
   "language": "python",
   "name": "python3"
  },
  "language_info": {
   "codemirror_mode": {
    "name": "ipython",
    "version": 3
   },
   "file_extension": ".py",
   "mimetype": "text/x-python",
   "name": "python",
   "nbconvert_exporter": "python",
   "pygments_lexer": "ipython3",
   "version": "3.8.5"
  }
 },
 "nbformat": 4,
 "nbformat_minor": 4
}

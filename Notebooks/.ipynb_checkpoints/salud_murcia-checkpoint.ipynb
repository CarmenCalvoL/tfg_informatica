{
 "cells": [
  {
   "cell_type": "markdown",
   "metadata": {},
   "source": [
    "# SALUD MURCIA"
   ]
  },
  {
   "cell_type": "code",
   "execution_count": 1,
   "metadata": {},
   "outputs": [],
   "source": [
    "from pandas import read_csv\n",
    "import pandas as pd\n",
    "from pandas.plotting import lag_plot\n",
    "import seaborn as sn\n",
    "import matplotlib.pyplot as plt\n",
    "import numpy as np\n",
    "import os\n",
    "import zipfile\n",
    "import io"
   ]
  },
  {
   "cell_type": "markdown",
   "metadata": {},
   "source": [
    "Lectura del conjunto de datos obtenido de la pagina de salud de Murcia \n",
    "https://www.murciasalud.es/pagina.php?id=458869\n",
    "Recogidos desde el 08/03/2020 hasta el dia 25/03/2020"
   ]
  },
  {
   "cell_type": "code",
   "execution_count": 2,
   "metadata": {},
   "outputs": [],
   "source": [
    "lectura = read_csv('../Datos_originales/casos_diarios_total_regional.csv', skiprows = 4, encoding='latin-1', sep = ';', na_values = ['NaN', 'NaT'])\n",
    "\n",
    "# Headers = columnas de mi conjunto de datos. Si no especificamos asume que son las de la primera fila leida\n",
    "# Skiprows = n: con n = numero de filas que quiero saltar. Las cuatro primeras son texto -> las saltamos\n",
    "# Encoding = 'latin-1': para que no de errores de codificacion de algunos caracteres \n",
    "# Sep = ';': delimitador que separa las columnas\n",
    "# Index_col = 0: usar la primera columna (fechas) como filas del dataframe"
   ]
  },
  {
   "cell_type": "markdown",
   "metadata": {},
   "source": [
    "Renombramos los nombres de algunas de las columnas para que queden mas compactos"
   ]
  },
  {
   "cell_type": "code",
   "execution_count": 3,
   "metadata": {},
   "outputs": [],
   "source": [
    "datos = lectura.rename(columns={'Pruebas_PCR_Ag':'Pruebas',\n",
    "                                'Casos_incidentes_PCR/Ag+':'Incidentes',\n",
    "                                'Hospitalizados': 'H',\n",
    "                                'Hospitaliz_UCI':'H_UCI',\n",
    "                                'Asintomatico_hombre_<45años': 'Asint_H_<45',\n",
    "                                'Asintomatico_hombre_45a64años': 'Asint_H_45a64',\n",
    "                                'Asintomatico_hombre_+65años': 'Asint_H_+65',\n",
    "                                'Sintomatico_hombre_<45años': 'Sint_H_<45',\n",
    "                                'Sintomatico_hombre_45a64años': 'Sint_H_45a64',\n",
    "                                'Sintomatico_hombre_+65años': 'Sint_H_+65',\n",
    "                                'Asintomatico_mujer_<45años': 'Asint_M_<45',\n",
    "                                'Asintomatico_mujer_45a64años': 'Asint_M_45a64',\n",
    "                                'Asintomatico_mujer_+65años': 'Asint_M_+65',\n",
    "                                'Sintomatico_mujer_<45años': 'Sint_M_<45',\n",
    "                                'Sintomatico_mujer_45a64años': 'Sint_M_45a64',\n",
    "                                'Sintomatico_mujer_+65años': 'Sint_M_+65'})"
   ]
  },
  {
   "cell_type": "markdown",
   "metadata": {},
   "source": [
    "Convertimos los datos leidos en un dataFrame y lo mostramos para ver su apariencia"
   ]
  },
  {
   "cell_type": "code",
   "execution_count": 4,
   "metadata": {},
   "outputs": [
    {
     "data": {
      "text/html": [
       "<div>\n",
       "<style scoped>\n",
       "    .dataframe tbody tr th:only-of-type {\n",
       "        vertical-align: middle;\n",
       "    }\n",
       "\n",
       "    .dataframe tbody tr th {\n",
       "        vertical-align: top;\n",
       "    }\n",
       "\n",
       "    .dataframe thead th {\n",
       "        text-align: right;\n",
       "    }\n",
       "</style>\n",
       "<table border=\"1\" class=\"dataframe\">\n",
       "  <thead>\n",
       "    <tr style=\"text-align: right;\">\n",
       "      <th></th>\n",
       "      <th>Fecha</th>\n",
       "      <th>Pruebas</th>\n",
       "      <th>Incidentes</th>\n",
       "      <th>H</th>\n",
       "      <th>H_UCI</th>\n",
       "      <th>Defunciones</th>\n",
       "      <th>Asint_H_&lt;45</th>\n",
       "      <th>Asint_H_45a64</th>\n",
       "      <th>Asint_H_+65</th>\n",
       "      <th>Sint_H_&lt;45</th>\n",
       "      <th>Sint_H_45a64</th>\n",
       "      <th>Sint_H_+65</th>\n",
       "      <th>Asint_M_&lt;45</th>\n",
       "      <th>Asint_M_45a64</th>\n",
       "      <th>Asint_M_+65</th>\n",
       "      <th>Sint_M_&lt;45</th>\n",
       "      <th>Sint_M_45a64</th>\n",
       "      <th>Sint_M_+65</th>\n",
       "    </tr>\n",
       "  </thead>\n",
       "  <tbody>\n",
       "    <tr>\n",
       "      <th>0</th>\n",
       "      <td>08/03/2020</td>\n",
       "      <td>130.0</td>\n",
       "      <td>1.0</td>\n",
       "      <td>0.0</td>\n",
       "      <td>0.0</td>\n",
       "      <td>0.0</td>\n",
       "      <td>1.0</td>\n",
       "      <td>0.0</td>\n",
       "      <td>0.0</td>\n",
       "      <td>0.0</td>\n",
       "      <td>0.0</td>\n",
       "      <td>0.0</td>\n",
       "      <td>1.0</td>\n",
       "      <td>0.0</td>\n",
       "      <td>0.0</td>\n",
       "      <td>1.0</td>\n",
       "      <td>0.0</td>\n",
       "      <td>0.0</td>\n",
       "    </tr>\n",
       "    <tr>\n",
       "      <th>1</th>\n",
       "      <td>09/03/2020</td>\n",
       "      <td>21.0</td>\n",
       "      <td>3.0</td>\n",
       "      <td>0.0</td>\n",
       "      <td>0.0</td>\n",
       "      <td>0.0</td>\n",
       "      <td>0.0</td>\n",
       "      <td>0.0</td>\n",
       "      <td>0.0</td>\n",
       "      <td>0.0</td>\n",
       "      <td>1.0</td>\n",
       "      <td>0.0</td>\n",
       "      <td>0.0</td>\n",
       "      <td>0.0</td>\n",
       "      <td>0.0</td>\n",
       "      <td>3.0</td>\n",
       "      <td>0.0</td>\n",
       "      <td>0.0</td>\n",
       "    </tr>\n",
       "    <tr>\n",
       "      <th>2</th>\n",
       "      <td>10/03/2020</td>\n",
       "      <td>39.0</td>\n",
       "      <td>6.0</td>\n",
       "      <td>0.0</td>\n",
       "      <td>0.0</td>\n",
       "      <td>0.0</td>\n",
       "      <td>0.0</td>\n",
       "      <td>0.0</td>\n",
       "      <td>0.0</td>\n",
       "      <td>1.0</td>\n",
       "      <td>0.0</td>\n",
       "      <td>1.0</td>\n",
       "      <td>0.0</td>\n",
       "      <td>0.0</td>\n",
       "      <td>0.0</td>\n",
       "      <td>2.0</td>\n",
       "      <td>0.0</td>\n",
       "      <td>0.0</td>\n",
       "    </tr>\n",
       "  </tbody>\n",
       "</table>\n",
       "</div>"
      ],
      "text/plain": [
       "        Fecha  Pruebas  Incidentes    H  H_UCI  Defunciones  Asint_H_<45  \\\n",
       "0  08/03/2020    130.0         1.0  0.0    0.0          0.0          1.0   \n",
       "1  09/03/2020     21.0         3.0  0.0    0.0          0.0          0.0   \n",
       "2  10/03/2020     39.0         6.0  0.0    0.0          0.0          0.0   \n",
       "\n",
       "   Asint_H_45a64  Asint_H_+65  Sint_H_<45  Sint_H_45a64  Sint_H_+65  \\\n",
       "0            0.0          0.0         0.0           0.0         0.0   \n",
       "1            0.0          0.0         0.0           1.0         0.0   \n",
       "2            0.0          0.0         1.0           0.0         1.0   \n",
       "\n",
       "   Asint_M_<45  Asint_M_45a64  Asint_M_+65  Sint_M_<45  Sint_M_45a64  \\\n",
       "0          1.0            0.0          0.0         1.0           0.0   \n",
       "1          0.0            0.0          0.0         3.0           0.0   \n",
       "2          0.0            0.0          0.0         2.0           0.0   \n",
       "\n",
       "   Sint_M_+65  \n",
       "0         0.0  \n",
       "1         0.0  \n",
       "2         0.0  "
      ]
     },
     "execution_count": 4,
     "metadata": {},
     "output_type": "execute_result"
    }
   ],
   "source": [
    "df_salud_murcia = pd.DataFrame(datos)\n",
    "df_salud_murcia.head(3)"
   ]
  },
  {
   "cell_type": "markdown",
   "metadata": {},
   "source": [
    "Lo siguiente que haremos es indexar el dataframe por la columna 'Fecha'. Para ello, primero debemos convertir la misma en un objeto de tipo DatatimeIndex. Usamos la funcion 'to_datetime' y le indicamos el formato en el que se encuentran las fechas para que se lea y procese bien. Posteriormente eliminamos la columna del dataFrame e insertamos el nuevo DatatimeIndex como íncide del dataframe. Finalmente mostramos el resultado."
   ]
  },
  {
   "cell_type": "code",
   "execution_count": 5,
   "metadata": {},
   "outputs": [
    {
     "data": {
      "text/html": [
       "<div>\n",
       "<style scoped>\n",
       "    .dataframe tbody tr th:only-of-type {\n",
       "        vertical-align: middle;\n",
       "    }\n",
       "\n",
       "    .dataframe tbody tr th {\n",
       "        vertical-align: top;\n",
       "    }\n",
       "\n",
       "    .dataframe thead th {\n",
       "        text-align: right;\n",
       "    }\n",
       "</style>\n",
       "<table border=\"1\" class=\"dataframe\">\n",
       "  <thead>\n",
       "    <tr style=\"text-align: right;\">\n",
       "      <th></th>\n",
       "      <th>Pruebas</th>\n",
       "      <th>Incidentes</th>\n",
       "      <th>H</th>\n",
       "      <th>H_UCI</th>\n",
       "      <th>Defunciones</th>\n",
       "      <th>Asint_H_&lt;45</th>\n",
       "      <th>Asint_H_45a64</th>\n",
       "      <th>Asint_H_+65</th>\n",
       "      <th>Sint_H_&lt;45</th>\n",
       "      <th>Sint_H_45a64</th>\n",
       "      <th>Sint_H_+65</th>\n",
       "      <th>Asint_M_&lt;45</th>\n",
       "      <th>Asint_M_45a64</th>\n",
       "      <th>Asint_M_+65</th>\n",
       "      <th>Sint_M_&lt;45</th>\n",
       "      <th>Sint_M_45a64</th>\n",
       "      <th>Sint_M_+65</th>\n",
       "    </tr>\n",
       "    <tr>\n",
       "      <th>Fecha</th>\n",
       "      <th></th>\n",
       "      <th></th>\n",
       "      <th></th>\n",
       "      <th></th>\n",
       "      <th></th>\n",
       "      <th></th>\n",
       "      <th></th>\n",
       "      <th></th>\n",
       "      <th></th>\n",
       "      <th></th>\n",
       "      <th></th>\n",
       "      <th></th>\n",
       "      <th></th>\n",
       "      <th></th>\n",
       "      <th></th>\n",
       "      <th></th>\n",
       "      <th></th>\n",
       "    </tr>\n",
       "  </thead>\n",
       "  <tbody>\n",
       "    <tr>\n",
       "      <th>2020-03-08</th>\n",
       "      <td>130.0</td>\n",
       "      <td>1.0</td>\n",
       "      <td>0.0</td>\n",
       "      <td>0.0</td>\n",
       "      <td>0.0</td>\n",
       "      <td>1.0</td>\n",
       "      <td>0.0</td>\n",
       "      <td>0.0</td>\n",
       "      <td>0.0</td>\n",
       "      <td>0.0</td>\n",
       "      <td>0.0</td>\n",
       "      <td>1.0</td>\n",
       "      <td>0.0</td>\n",
       "      <td>0.0</td>\n",
       "      <td>1.0</td>\n",
       "      <td>0.0</td>\n",
       "      <td>0.0</td>\n",
       "    </tr>\n",
       "    <tr>\n",
       "      <th>2020-03-09</th>\n",
       "      <td>21.0</td>\n",
       "      <td>3.0</td>\n",
       "      <td>0.0</td>\n",
       "      <td>0.0</td>\n",
       "      <td>0.0</td>\n",
       "      <td>0.0</td>\n",
       "      <td>0.0</td>\n",
       "      <td>0.0</td>\n",
       "      <td>0.0</td>\n",
       "      <td>1.0</td>\n",
       "      <td>0.0</td>\n",
       "      <td>0.0</td>\n",
       "      <td>0.0</td>\n",
       "      <td>0.0</td>\n",
       "      <td>3.0</td>\n",
       "      <td>0.0</td>\n",
       "      <td>0.0</td>\n",
       "    </tr>\n",
       "    <tr>\n",
       "      <th>2020-03-10</th>\n",
       "      <td>39.0</td>\n",
       "      <td>6.0</td>\n",
       "      <td>0.0</td>\n",
       "      <td>0.0</td>\n",
       "      <td>0.0</td>\n",
       "      <td>0.0</td>\n",
       "      <td>0.0</td>\n",
       "      <td>0.0</td>\n",
       "      <td>1.0</td>\n",
       "      <td>0.0</td>\n",
       "      <td>1.0</td>\n",
       "      <td>0.0</td>\n",
       "      <td>0.0</td>\n",
       "      <td>0.0</td>\n",
       "      <td>2.0</td>\n",
       "      <td>0.0</td>\n",
       "      <td>0.0</td>\n",
       "    </tr>\n",
       "  </tbody>\n",
       "</table>\n",
       "</div>"
      ],
      "text/plain": [
       "            Pruebas  Incidentes    H  H_UCI  Defunciones  Asint_H_<45  \\\n",
       "Fecha                                                                   \n",
       "2020-03-08    130.0         1.0  0.0    0.0          0.0          1.0   \n",
       "2020-03-09     21.0         3.0  0.0    0.0          0.0          0.0   \n",
       "2020-03-10     39.0         6.0  0.0    0.0          0.0          0.0   \n",
       "\n",
       "            Asint_H_45a64  Asint_H_+65  Sint_H_<45  Sint_H_45a64  Sint_H_+65  \\\n",
       "Fecha                                                                          \n",
       "2020-03-08            0.0          0.0         0.0           0.0         0.0   \n",
       "2020-03-09            0.0          0.0         0.0           1.0         0.0   \n",
       "2020-03-10            0.0          0.0         1.0           0.0         1.0   \n",
       "\n",
       "            Asint_M_<45  Asint_M_45a64  Asint_M_+65  Sint_M_<45  Sint_M_45a64  \\\n",
       "Fecha                                                                           \n",
       "2020-03-08          1.0            0.0          0.0         1.0           0.0   \n",
       "2020-03-09          0.0            0.0          0.0         3.0           0.0   \n",
       "2020-03-10          0.0            0.0          0.0         2.0           0.0   \n",
       "\n",
       "            Sint_M_+65  \n",
       "Fecha                   \n",
       "2020-03-08         0.0  \n",
       "2020-03-09         0.0  \n",
       "2020-03-10         0.0  "
      ]
     },
     "execution_count": 5,
     "metadata": {},
     "output_type": "execute_result"
    }
   ],
   "source": [
    "format = '%d/%m/%Y'\n",
    "datetime_fecha = pd.to_datetime(df_salud_murcia['Fecha'], format = format)\n",
    "df_salud_murcia = df_salud_murcia.drop(['Fecha'], axis=1)\n",
    "df_salud_murcia.insert(0,'Fecha', datetime_fecha)\n",
    "df_salud_murcia = df_salud_murcia.set_index('Fecha')\n",
    "df_salud_murcia.head(3)"
   ]
  },
  {
   "cell_type": "markdown",
   "metadata": {},
   "source": [
    "Con la siguiente función eliminamos todos aquellos valores que se almacenan o completan como NaN. "
   ]
  },
  {
   "cell_type": "code",
   "execution_count": 6,
   "metadata": {},
   "outputs": [],
   "source": [
    "df_salud_murcia.dropna(axis = 0, inplace = True)"
   ]
  },
  {
   "cell_type": "markdown",
   "metadata": {},
   "source": [
    "## Sumando asintomáticos\n",
    "En esta sección vamos a sumar a todos los asintomáticos (por fecha) y añadirlos en una nueva serie\n",
    "del dataframe a la que llamaré \"Asintomaticos\""
   ]
  },
  {
   "cell_type": "code",
   "execution_count": 8,
   "metadata": {},
   "outputs": [],
   "source": [
    "df_salud_murcia['Asintomaticos'] = df_salud_murcia['Asint_H_<45'] + df_salud_murcia['Asint_H_45a64'] + df_salud_murcia['Asint_H_+65'] + df_salud_murcia['Asint_M_<45'] + df_salud_murcia['Asint_M_45a64'] + df_salud_murcia['Asint_M_+65']"
   ]
  },
  {
   "cell_type": "markdown",
   "metadata": {},
   "source": [
    "A continuación lo que hacemos es guardarla en un archivo de extensión .csv "
   ]
  },
  {
   "cell_type": "code",
   "execution_count": null,
   "metadata": {},
   "outputs": [],
   "source": [
    "df_salud_murcia.to_csv(path_or_buf = '../Datos_preprocesados./datos_suma_asintomaticos.csv')"
   ]
  },
  {
   "cell_type": "markdown",
   "metadata": {},
   "source": [
    "## MOVILIDAD JUNTA"
   ]
  },
  {
   "cell_type": "code",
   "execution_count": null,
   "metadata": {},
   "outputs": [],
   "source": [
    "def parseador_fechas_marjun(nombre):\n",
    "    # Cogemos el día\n",
    "    dia = nombre[4:6]\n",
    "    mes = nombre[6:9]\n",
    "    anio = nombre[10:14]\n",
    "    if mes == 'MAR':\n",
    "        mes = '03'\n",
    "    if mes == 'ABR':\n",
    "        mes = '04'\n",
    "    if mes == 'MAY':\n",
    "        mes = '05'\n",
    "    if mes == 'JUN':\n",
    "        mes = '06'\n",
    "    return(anio+'-'+dia+'-'+mes)"
   ]
  },
  {
   "cell_type": "code",
   "execution_count": null,
   "metadata": {},
   "outputs": [],
   "source": [
    "def parseador_fechas_jundic(nombre):\n",
    "    # Cogemos la longitud total y nos quedamos con las fechas\n",
    "    l = len(nombre)\n",
    "    f = nombre[l-9:l-5]\n",
    "    # Obtenemos el dia y el mes\n",
    "    dia = f[0:2]\n",
    "    mes = f[2:4]\n",
    "    # El añi es siempre 2020\n",
    "    anio = '2020'\n",
    "    # Devolvemos la fecha en su formato\n",
    "    return(anio+'-'+dia+'-'+mes)"
   ]
  },
  {
   "cell_type": "markdown",
   "metadata": {},
   "source": [
    "Al igual que hicimos con el dataFrame de los datos de salud que leímos al principio, debemos transformar las fechas en objetos de tipo DatatimeIndex. Posteriormente las ordenaremos para que se muestren en orden cronológico. Para ello usamos la función 'to_datetime', que convierte nuestra lista de fechas en DatatimeIndex. Acto seguido creamos el dataframe con las entradas, las salidas a Murcia y las fechas y las ponemos como índice del dataframe. Ahora solo queda ordenarlo. Añadimos tres columnas adicionales al dataframe que son los meses, dias y años de las fechas. Ordenamos según estos valores y posteriormente las eliminamos del dataframe. Mostramos el resultado."
   ]
  },
  {
   "cell_type": "code",
   "execution_count": null,
   "metadata": {},
   "outputs": [],
   "source": [
    "def conversor_a_dataframe(lista_fechas, lista_entradas, lista_salidas):\n",
    "    format = '%Y-%d-%m'\n",
    "    # Convertimos en DatatimeIndex\n",
    "    fechas_serie = pd.to_datetime(lista_fechas, format = format)\n",
    "    # Creamos dataframe con las entradas salidas y fechas\n",
    "    df_entradas_salidas = pd.DataFrame(list(zip(lista_entradas, lista_salidas)), columns = ['Entradas', 'Salidas'], index = fechas_serie).rename_axis('Fecha', axis = 0)\n",
    "    # Definimos las series para ordenar\n",
    "    df_entradas_salidas['month'] = fechas_serie.month\n",
    "    df_entradas_salidas['year'] = fechas_serie.year\n",
    "    df_entradas_salidas['day'] = fechas_serie.day\n",
    "    # Ordenamos por mes-dia-año\n",
    "    df_entradas_salidas = df_entradas_salidas.sort_values(['month','day','year']).drop(columns=['day', 'month', 'year'])\n",
    "    return df_entradas_salidas"
   ]
  },
  {
   "cell_type": "markdown",
   "metadata": {},
   "source": [
    "### Movilidad mar-jun"
   ]
  },
  {
   "cell_type": "code",
   "execution_count": null,
   "metadata": {},
   "outputs": [],
   "source": [
    "ruta = '../Datos_originales/mar-jun/'\n",
    "\n",
    "lista_entradas = []\n",
    "lista_salidas = []\n",
    "lista_fechas = []\n",
    "\n",
    "# Cogemos los archivos .zip diarios\n",
    "archivos = os.listdir(ruta)\n",
    "\n",
    "# Iteramos sobre cada uno de estos\n",
    "for a in archivos:\n",
    "    # Los leemos con zipfile\n",
    "    z = zipfile.ZipFile(ruta+a, 'r')\n",
    "    # Iteramos en cada uno de los ficheros del zip\n",
    "    for az in z.namelist():\n",
    "        # Cogemos los .csv que nos interesan\n",
    "        if \"PobxCeldasOrigen\" in az:\n",
    "            # Nos quedamos con el dia (será el mismo para entrada y salida)\n",
    "            fecha = parseador_fechas_marjun(az)\n",
    "            lista_fechas.append(fecha)\n",
    "            # Como son archivos .csv leemos\n",
    "            df_f = pd.read_csv(z.open(az), sep=';', encoding = 'latin-1')\n",
    "            # Obtenemos solamente las salidas de Murcia\n",
    "            df_murcia = df_f[df_f['NOMBRE_CELDA_ORIGEN '].str.contains(\"Murcia \\(\")]\n",
    "            # Sumamos toda la población registrada que sale de Murcia\n",
    "            suma_salidas_murcia = df_murcia['POB_SALE '].sum()\n",
    "            # Añadimos este dato a la lista de salidas\n",
    "            lista_salidas.append(suma_salidas_murcia)\n",
    "            \n",
    "        if \"PobxCeldasDestino\" in az:\n",
    "            # Como son archivos .csv leemos\n",
    "            df_f = pd.read_csv(z.open(az), sep=';', encoding = 'latin-1')\n",
    "            # Obtenemos solamente las entradas a Murcia\n",
    "            df_murcia = df_f[df_f['NOMBRE_CELDA_DESTINO '].str.contains(\"Murcia \\(\")]\n",
    "            # Sumamos toda la población registrada que llega a Murcia\n",
    "            suma_entradas_murcia = df_murcia['POB_LLEGA '].sum()\n",
    "            # Añadimos este dato a la lista de salidas\n",
    "            lista_entradas.append(suma_entradas_murcia)"
   ]
  },
  {
   "cell_type": "markdown",
   "metadata": {},
   "source": [
    "### Movilidad jun-dic"
   ]
  },
  {
   "cell_type": "code",
   "execution_count": null,
   "metadata": {},
   "outputs": [],
   "source": [
    "def procesamiento_tablas(nombre,z):\n",
    "    # Obtenemos la fecha\n",
    "    fecha = parseador_fechas_jundic(nombre)\n",
    "    lista_fechas.append(fecha)\n",
    "    # Leemos el fichero excel\n",
    "    df = pd.read_excel(z.open(nombre))\n",
    "    # Cogemos sólamente las áreas de Murcia ciudad\n",
    "    df_murcia = df[df['Nombre del Área'].str.contains(\"Murcia \\(\")]\n",
    "    # Entradas\n",
    "    suma_entradas_murcia = df_murcia['Población residente encontrada durante el día en otra área (C)'].sum()\n",
    "    lista_entradas.append(suma_entradas_murcia)\n",
    "    # Salidas\n",
    "    suma_salidas_murcia = df_murcia['Población no residente que se localiza durante el día en esta área (D)'].sum()\n",
    "    lista_salidas.append(suma_salidas_murcia)"
   ]
  },
  {
   "cell_type": "code",
   "execution_count": null,
   "metadata": {},
   "outputs": [],
   "source": [
    "ruta = '../Datos_originales/jun-dic/'\n",
    "\n",
    "# Cogemos los archivos .zip mensuales\n",
    "archivos = os.listdir(ruta)\n",
    "\n",
    "for a in archivos:\n",
    "    with zipfile.ZipFile(ruta+a) as z:\n",
    "        for f in z.namelist():\n",
    "            # Todos excepto noviembre y diciembre tienen directamente las tablas\n",
    "            if \"Tabla 1.2\" in f:\n",
    "                procesamiento_tablas(f,z)\n",
    "            # Extraemos los .zip diarios de noviembre y diciembre\n",
    "            if \".zip\" in f and (\"Noviembre\" in f or \"Diciembre\" in f):\n",
    "                with z.open(f) as d:\n",
    "                    with zipfile.ZipFile(d) as z2:\n",
    "                        for h in z2.namelist():\n",
    "                            if \"Tabla 1.2\" in h:\n",
    "                                procesamiento_tablas(h,z2)\n",
    "            "
   ]
  },
  {
   "cell_type": "markdown",
   "metadata": {},
   "source": [
    "## DataFrame entradas y salidas Murcia"
   ]
  },
  {
   "cell_type": "code",
   "execution_count": null,
   "metadata": {},
   "outputs": [],
   "source": [
    "df_entradas_salidas_murcia = conversor_a_dataframe(lista_fechas, lista_entradas, lista_salidas)\n",
    "df_entradas_salidas_murcia.to_csv(path_or_buf = '../Datos_preprocesados./datos_entradas_salidas_murcia.csv')"
   ]
  },
  {
   "cell_type": "markdown",
   "metadata": {},
   "source": [
    "## DataFrame salud y entradas y salidas Murcia"
   ]
  },
  {
   "cell_type": "code",
   "execution_count": null,
   "metadata": {},
   "outputs": [],
   "source": [
    "df_final = pd.concat([df_salud_murcia, df_entradas_salidas_murcia], axis=1)\n",
    "df_final.to_csv(path_or_buf = '../Datos_preprocesados./datos_murcia_mas_entradas_salidas.csv')"
   ]
  },
  {
   "cell_type": "markdown",
   "metadata": {},
   "source": [
    "## Visualización de todas las series (bucle)"
   ]
  },
  {
   "cell_type": "markdown",
   "metadata": {},
   "source": [
    "A continuación se realiza un bucle en el que se visualizan los datos de todas las series del dataframe"
   ]
  },
  {
   "cell_type": "code",
   "execution_count": null,
   "metadata": {},
   "outputs": [],
   "source": [
    "num = 0\n",
    "\n",
    "# Initialize the figure style\n",
    "plt.style.use('seaborn-white')\n",
    " \n",
    "# create a color palette\n",
    "\n",
    "palette = plt.get_cmap('prism')\n",
    "\n",
    "for column in df_final:\n",
    "    \n",
    "    num = num + 1\n",
    " \n",
    "    # Find the right spot on the plot\n",
    "    plt.subplot(5,4, num)\n",
    " \n",
    "    if \"Salidas\" in column or \"Entradas\" in column:\n",
    "        serie = df_final[column]\n",
    "        serie.plot(style = '.', color = palette(num), linewidth = 0.8, alpha = 0.9, label = column)\n",
    "    else:\n",
    "        # Plot the lineplot\n",
    "        plt.plot(df_final[column], marker = '', color = palette(num), linewidth = 0.8, alpha = 0.9, label = column)\n",
    "\n",
    "    # Add title\n",
    "    plt.title(column, loc ='center', fontsize = 12, fontweight = 0, color = palette(num))\n",
    "\n",
    "plt.subplots_adjust(left = 0.01, right = 4, top = 5, bottom = 0.01, hspace = 0.2, wspace = 0.2)\n",
    "\n",
    "\n",
    "# Show the graph\n",
    "plt.show()"
   ]
  },
  {
   "cell_type": "markdown",
   "metadata": {},
   "source": [
    "Las gráficas tienen mucha similitud entre ellas, lo que es bastante lógico.\n",
    "El aumento/disminución del número de casos positivos se ve directamente relacionado con \n",
    "el aumento de hospitalizaciones, defunciones, asintomáticos, sintomáticos,..."
   ]
  },
  {
   "cell_type": "markdown",
   "metadata": {},
   "source": [
    "## Empezando con predictores"
   ]
  },
  {
   "cell_type": "markdown",
   "metadata": {},
   "source": [
    "Creamos dos series: una con los asintomaticos totales y otra con los sintomaticos totales"
   ]
  },
  {
   "cell_type": "code",
   "execution_count": 44,
   "metadata": {},
   "outputs": [],
   "source": [
    "sintomaticos = df_salud_murcia['Sint_H_<45'] + df_salud_murcia['Sint_H_45a64'] + df_salud_murcia['Sint_H_+65'] + df_salud_murcia['Sint_M_<45'] + df_salud_murcia['Sint_M_45a64'] + df_salud_murcia['Sint_M_+65']\n",
    "asintomaticos = df_salud_murcia['Asintomaticos']"
   ]
  },
  {
   "cell_type": "markdown",
   "metadata": {},
   "source": [
    "Usamos el método de la ventana deslizante. Pretendemos predecir el número de sintomáticos en el día 't' a partir de los\n",
    "tres días anteriores 't-3', 't-2', 't-1'. Creamos nuevos data frames con estas características para sintomáticos\n",
    "y asintomáticos totales"
   ]
  },
  {
   "cell_type": "code",
   "execution_count": 46,
   "metadata": {},
   "outputs": [
    {
     "data": {
      "text/html": [
       "<div>\n",
       "<style scoped>\n",
       "    .dataframe tbody tr th:only-of-type {\n",
       "        vertical-align: middle;\n",
       "    }\n",
       "\n",
       "    .dataframe tbody tr th {\n",
       "        vertical-align: top;\n",
       "    }\n",
       "\n",
       "    .dataframe thead th {\n",
       "        text-align: right;\n",
       "    }\n",
       "</style>\n",
       "<table border=\"1\" class=\"dataframe\">\n",
       "  <thead>\n",
       "    <tr style=\"text-align: right;\">\n",
       "      <th></th>\n",
       "      <th>t-3</th>\n",
       "      <th>t-2</th>\n",
       "      <th>t-1</th>\n",
       "      <th>t</th>\n",
       "    </tr>\n",
       "  </thead>\n",
       "  <tbody>\n",
       "    <tr>\n",
       "      <th>0</th>\n",
       "      <td>NaN</td>\n",
       "      <td>NaN</td>\n",
       "      <td>NaN</td>\n",
       "      <td>1.0</td>\n",
       "    </tr>\n",
       "    <tr>\n",
       "      <th>1</th>\n",
       "      <td>NaN</td>\n",
       "      <td>NaN</td>\n",
       "      <td>1.0</td>\n",
       "      <td>4.0</td>\n",
       "    </tr>\n",
       "    <tr>\n",
       "      <th>2</th>\n",
       "      <td>NaN</td>\n",
       "      <td>1.0</td>\n",
       "      <td>4.0</td>\n",
       "      <td>4.0</td>\n",
       "    </tr>\n",
       "    <tr>\n",
       "      <th>3</th>\n",
       "      <td>1.0</td>\n",
       "      <td>4.0</td>\n",
       "      <td>4.0</td>\n",
       "      <td>10.0</td>\n",
       "    </tr>\n",
       "    <tr>\n",
       "      <th>4</th>\n",
       "      <td>4.0</td>\n",
       "      <td>4.0</td>\n",
       "      <td>10.0</td>\n",
       "      <td>7.0</td>\n",
       "    </tr>\n",
       "  </tbody>\n",
       "</table>\n",
       "</div>"
      ],
      "text/plain": [
       "   t-3  t-2   t-1     t\n",
       "0  NaN  NaN   NaN   1.0\n",
       "1  NaN  NaN   1.0   4.0\n",
       "2  NaN  1.0   4.0   4.0\n",
       "3  1.0  4.0   4.0  10.0\n",
       "4  4.0  4.0  10.0   7.0"
      ]
     },
     "execution_count": 46,
     "metadata": {},
     "output_type": "execute_result"
    }
   ],
   "source": [
    "datos = pd.DataFrame(sintomaticos.values)\n",
    "df_sintomaticos = pd.concat([datos.shift(3), datos.shift(2), datos.shift(1), temps], axis=1)\n",
    "df_sintomaticos.columns = ['t-3', 't-2', 't-1', 't']\n",
    "df_sintomaticos.head(5)"
   ]
  },
  {
   "cell_type": "markdown",
   "metadata": {},
   "source": [
    "Eliminamos los missing values (sujeto a posible reemplazamiento)"
   ]
  },
  {
   "cell_type": "code",
   "execution_count": 47,
   "metadata": {},
   "outputs": [
    {
     "data": {
      "text/html": [
       "<div>\n",
       "<style scoped>\n",
       "    .dataframe tbody tr th:only-of-type {\n",
       "        vertical-align: middle;\n",
       "    }\n",
       "\n",
       "    .dataframe tbody tr th {\n",
       "        vertical-align: top;\n",
       "    }\n",
       "\n",
       "    .dataframe thead th {\n",
       "        text-align: right;\n",
       "    }\n",
       "</style>\n",
       "<table border=\"1\" class=\"dataframe\">\n",
       "  <thead>\n",
       "    <tr style=\"text-align: right;\">\n",
       "      <th></th>\n",
       "      <th>t-3</th>\n",
       "      <th>t-2</th>\n",
       "      <th>t-1</th>\n",
       "      <th>t</th>\n",
       "    </tr>\n",
       "  </thead>\n",
       "  <tbody>\n",
       "    <tr>\n",
       "      <th>3</th>\n",
       "      <td>1.0</td>\n",
       "      <td>4.0</td>\n",
       "      <td>4.0</td>\n",
       "      <td>10.0</td>\n",
       "    </tr>\n",
       "    <tr>\n",
       "      <th>4</th>\n",
       "      <td>4.0</td>\n",
       "      <td>4.0</td>\n",
       "      <td>10.0</td>\n",
       "      <td>7.0</td>\n",
       "    </tr>\n",
       "    <tr>\n",
       "      <th>5</th>\n",
       "      <td>4.0</td>\n",
       "      <td>10.0</td>\n",
       "      <td>7.0</td>\n",
       "      <td>9.0</td>\n",
       "    </tr>\n",
       "  </tbody>\n",
       "</table>\n",
       "</div>"
      ],
      "text/plain": [
       "   t-3   t-2   t-1     t\n",
       "3  1.0   4.0   4.0  10.0\n",
       "4  4.0   4.0  10.0   7.0\n",
       "5  4.0  10.0   7.0   9.0"
      ]
     },
     "execution_count": 47,
     "metadata": {},
     "output_type": "execute_result"
    }
   ],
   "source": [
    "df_sintomaticos.dropna(axis = 0, inplace = True)\n",
    "df_sintomaticos.head(3)"
   ]
  },
  {
   "cell_type": "code",
   "execution_count": 48,
   "metadata": {},
   "outputs": [
    {
     "data": {
      "text/html": [
       "<div>\n",
       "<style scoped>\n",
       "    .dataframe tbody tr th:only-of-type {\n",
       "        vertical-align: middle;\n",
       "    }\n",
       "\n",
       "    .dataframe tbody tr th {\n",
       "        vertical-align: top;\n",
       "    }\n",
       "\n",
       "    .dataframe thead th {\n",
       "        text-align: right;\n",
       "    }\n",
       "</style>\n",
       "<table border=\"1\" class=\"dataframe\">\n",
       "  <thead>\n",
       "    <tr style=\"text-align: right;\">\n",
       "      <th></th>\n",
       "      <th>t-3</th>\n",
       "      <th>t-2</th>\n",
       "      <th>t-1</th>\n",
       "      <th>t</th>\n",
       "    </tr>\n",
       "  </thead>\n",
       "  <tbody>\n",
       "    <tr>\n",
       "      <th>0</th>\n",
       "      <td>NaN</td>\n",
       "      <td>NaN</td>\n",
       "      <td>NaN</td>\n",
       "      <td>1.0</td>\n",
       "    </tr>\n",
       "    <tr>\n",
       "      <th>1</th>\n",
       "      <td>NaN</td>\n",
       "      <td>NaN</td>\n",
       "      <td>2.0</td>\n",
       "      <td>4.0</td>\n",
       "    </tr>\n",
       "    <tr>\n",
       "      <th>2</th>\n",
       "      <td>NaN</td>\n",
       "      <td>2.0</td>\n",
       "      <td>0.0</td>\n",
       "      <td>4.0</td>\n",
       "    </tr>\n",
       "    <tr>\n",
       "      <th>3</th>\n",
       "      <td>2.0</td>\n",
       "      <td>0.0</td>\n",
       "      <td>0.0</td>\n",
       "      <td>10.0</td>\n",
       "    </tr>\n",
       "    <tr>\n",
       "      <th>4</th>\n",
       "      <td>0.0</td>\n",
       "      <td>0.0</td>\n",
       "      <td>2.0</td>\n",
       "      <td>7.0</td>\n",
       "    </tr>\n",
       "  </tbody>\n",
       "</table>\n",
       "</div>"
      ],
      "text/plain": [
       "   t-3  t-2  t-1     t\n",
       "0  NaN  NaN  NaN   1.0\n",
       "1  NaN  NaN  2.0   4.0\n",
       "2  NaN  2.0  0.0   4.0\n",
       "3  2.0  0.0  0.0  10.0\n",
       "4  0.0  0.0  2.0   7.0"
      ]
     },
     "execution_count": 48,
     "metadata": {},
     "output_type": "execute_result"
    }
   ],
   "source": [
    "datos = pd.DataFrame(asintomaticos.values)\n",
    "df_asintomaticos = pd.concat([datos.shift(3), datos.shift(2), datos.shift(1), temps], axis=1)\n",
    "df_asintomaticos.columns = ['t-3', 't-2', 't-1', 't']\n",
    "df_asintomaticos.head(5)"
   ]
  },
  {
   "cell_type": "code",
   "execution_count": 49,
   "metadata": {},
   "outputs": [
    {
     "data": {
      "text/html": [
       "<div>\n",
       "<style scoped>\n",
       "    .dataframe tbody tr th:only-of-type {\n",
       "        vertical-align: middle;\n",
       "    }\n",
       "\n",
       "    .dataframe tbody tr th {\n",
       "        vertical-align: top;\n",
       "    }\n",
       "\n",
       "    .dataframe thead th {\n",
       "        text-align: right;\n",
       "    }\n",
       "</style>\n",
       "<table border=\"1\" class=\"dataframe\">\n",
       "  <thead>\n",
       "    <tr style=\"text-align: right;\">\n",
       "      <th></th>\n",
       "      <th>t-3</th>\n",
       "      <th>t-2</th>\n",
       "      <th>t-1</th>\n",
       "      <th>t</th>\n",
       "    </tr>\n",
       "  </thead>\n",
       "  <tbody>\n",
       "    <tr>\n",
       "      <th>3</th>\n",
       "      <td>2.0</td>\n",
       "      <td>0.0</td>\n",
       "      <td>0.0</td>\n",
       "      <td>10.0</td>\n",
       "    </tr>\n",
       "    <tr>\n",
       "      <th>4</th>\n",
       "      <td>0.0</td>\n",
       "      <td>0.0</td>\n",
       "      <td>2.0</td>\n",
       "      <td>7.0</td>\n",
       "    </tr>\n",
       "    <tr>\n",
       "      <th>5</th>\n",
       "      <td>0.0</td>\n",
       "      <td>2.0</td>\n",
       "      <td>5.0</td>\n",
       "      <td>9.0</td>\n",
       "    </tr>\n",
       "  </tbody>\n",
       "</table>\n",
       "</div>"
      ],
      "text/plain": [
       "   t-3  t-2  t-1     t\n",
       "3  2.0  0.0  0.0  10.0\n",
       "4  0.0  0.0  2.0   7.0\n",
       "5  0.0  2.0  5.0   9.0"
      ]
     },
     "execution_count": 49,
     "metadata": {},
     "output_type": "execute_result"
    }
   ],
   "source": [
    "df_asintomaticos.dropna(axis = 0, inplace = True)\n",
    "df_asintomaticos.head(3)"
   ]
  },
  {
   "cell_type": "markdown",
   "metadata": {},
   "source": [
    "## Intentando descubrir el ID de Murcia"
   ]
  },
  {
   "cell_type": "code",
   "execution_count": 51,
   "metadata": {},
   "outputs": [
    {
     "name": "stdout",
     "output_type": "stream",
     "text": [
      "            ID                                           geometry\n",
      "0        16078  MULTIPOLYGON (((583277.363 4412816.016, 583537...\n",
      "1     07058_AM  POLYGON ((1000859.396 4415059.160, 1000625.088...\n",
      "2        36057  POLYGON ((29066.124 4680207.836, 29066.110 468...\n",
      "3     38033_AM  POLYGON ((-946986.526 3271246.042, -946928.891...\n",
      "4     06109_AM  POLYGON ((259099.261 4274499.972, 258576.069 4...\n",
      "...        ...                                                ...\n",
      "2200     15078  POLYGON ((52953.457 4759161.232, 53206.174 475...\n",
      "2201  43176_AM  POLYGON ((836814.561 4568552.194, 836971.560 4...\n",
      "2202  31010_AM  POLYGON ((564814.364 4745250.635, 564423.550 4...\n",
      "2203  45037_AM  POLYGON ((379297.059 4414945.899, 379180.064 4...\n",
      "2204     50182  POLYGON ((660453.612 4593875.893, 660241.611 4...\n",
      "\n",
      "[2205 rows x 2 columns]\n"
     ]
    }
   ],
   "source": [
    "import geopandas as gpd\n",
    "gdf = gpd.read_file('../Datos_originales/zonificacion_municipios/zonificacion-municipios/municipios_mitma.shp')\n",
    "print (gdf)"
   ]
  },
  {
   "cell_type": "code",
   "execution_count": 52,
   "metadata": {},
   "outputs": [
    {
     "data": {
      "text/plain": [
       "<AxesSubplot:>"
      ]
     },
     "execution_count": 52,
     "metadata": {},
     "output_type": "execute_result"
    },
    {
     "data": {
      "image/png": "[encoded data removed]",
      "text/plain": [
       "<Figure size 1080x1080 with 1 Axes>"
      ]
     },
     "metadata": {
      "needs_background": "light"
     },
     "output_type": "display_data"
    }
   ],
   "source": [
    "gdf.plot(column='ID', cmap=None, legend=False, figsize=(15, 15))"
   ]
  }
 ],
 "metadata": {
  "kernelspec": {
   "display_name": "Python 3",
   "language": "python",
   "name": "python3"
  },
  "language_info": {
   "codemirror_mode": {
    "name": "ipython",
    "version": 3
   },
   "file_extension": ".py",
   "mimetype": "text/x-python",
   "name": "python",
   "nbconvert_exporter": "python",
   "pygments_lexer": "ipython3",
   "version": "3.8.8"
  }
 },
 "nbformat": 4,
 "nbformat_minor": 4
}

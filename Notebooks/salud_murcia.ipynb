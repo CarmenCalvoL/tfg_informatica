{
 "cells": [
  {
   "cell_type": "markdown",
   "metadata": {},
   "source": [
    "# SALUD MURCIA"
   ]
  },
  {
   "cell_type": "code",
   "execution_count": 1,
   "metadata": {},
   "outputs": [],
   "source": [
    "from pandas import read_csv\n",
    "import pandas as pd\n",
    "from pandas.plotting import lag_plot\n",
    "import seaborn as sn\n",
    "import matplotlib.pyplot as plt\n",
    "import numpy as np\n",
    "import os\n",
    "import zipfile\n",
    "import io"
   ]
  },
  {
   "cell_type": "markdown",
   "metadata": {},
   "source": [
    "Lectura del conjunto de datos obtenido de la pagina de salud de Murcia \n",
    "https://www.murciasalud.es/pagina.php?id=458869\n",
    "Recogidos desde el 08/03/2020 hasta el dia 25/03/2020"
   ]
  },
  {
   "cell_type": "code",
   "execution_count": 13,
   "metadata": {},
   "outputs": [],
   "source": [
    "lectura = read_csv('../Datos_originales/casos_diarios_total_regional.csv', skiprows = 4, encoding='latin-1', sep = ';', na_values = ['NaN', 'NaT'])\n",
    "\n",
    "# Headers = columnas de mi conjunto de datos. Si no especificamos asume que son las de la primera fila leida\n",
    "# Skiprows = n: con n = numero de filas que quiero saltar. Las cuatro primeras son texto -> las saltamos\n",
    "# Encoding = 'latin-1': para que no de errores de codificacion de algunos caracteres \n",
    "# Sep = ';': delimitador que separa las columnas\n",
    "# Index_col = 0: usar la primera columna (fechas) como filas del dataframe"
   ]
  },
  {
   "cell_type": "markdown",
   "metadata": {},
   "source": [
    "Renombramos los nombres de algunas de las columnas para que queden mas compactos"
   ]
  },
  {
   "cell_type": "code",
   "execution_count": 14,
   "metadata": {},
   "outputs": [],
   "source": [
    "datos = lectura.rename(columns={'Pruebas_PCR_Ag':'Pruebas',\n",
    "                                'Casos_incidentes_PCR/Ag+':'Incidentes',\n",
    "                                'Hospitalizados': 'H',\n",
    "                                'Hospitaliz_UCI':'H_UCI',\n",
    "                                'Asintomatico_hombre_<45años': 'Asint_H_<45',\n",
    "                                'Asintomatico_hombre_45a64años': 'Asint_H_45a64',\n",
    "                                'Asintomatico_hombre_+65años': 'Asint_H_+65',\n",
    "                                'Sintomatico_hombre_<45años': 'Sint_H_<45',\n",
    "                                'Sintomatico_hombre_45a64años': 'Sint_H_45a64',\n",
    "                                'Sintomatico_hombre_+65años': 'Sint_H_+65',\n",
    "                                'Asintomatico_mujer_<45años': 'Asint_M_<45',\n",
    "                                'Asintomatico_mujer_45a64años': 'Asint_M_45a64',\n",
    "                                'Asintomatico_mujer_+65años': 'Asint_M_+65',\n",
    "                                'Sintomatico_mujer_<45años': 'Sint_M_<45',\n",
    "                                'Sintomatico_mujer_45a64años': 'Sint_M_45a64',\n",
    "                                'Sintomatico_mujer_+65años': 'Sint_M_+65'})"
   ]
  },
  {
   "cell_type": "markdown",
   "metadata": {},
   "source": [
    "Convertimos los datos leidos en un dataFrame y lo mostramos para ver su apariencia"
   ]
  },
  {
   "cell_type": "code",
   "execution_count": 15,
   "metadata": {},
   "outputs": [
    {
     "data": {
      "text/html": [
       "<div>\n",
       "<style scoped>\n",
       "    .dataframe tbody tr th:only-of-type {\n",
       "        vertical-align: middle;\n",
       "    }\n",
       "\n",
       "    .dataframe tbody tr th {\n",
       "        vertical-align: top;\n",
       "    }\n",
       "\n",
       "    .dataframe thead th {\n",
       "        text-align: right;\n",
       "    }\n",
       "</style>\n",
       "<table border=\"1\" class=\"dataframe\">\n",
       "  <thead>\n",
       "    <tr style=\"text-align: right;\">\n",
       "      <th></th>\n",
       "      <th>Fecha</th>\n",
       "      <th>Pruebas</th>\n",
       "      <th>Incidentes</th>\n",
       "      <th>H</th>\n",
       "      <th>H_UCI</th>\n",
       "      <th>Defunciones</th>\n",
       "      <th>Asint_H_&lt;45</th>\n",
       "      <th>Asint_H_45a64</th>\n",
       "      <th>Asint_H_+65</th>\n",
       "      <th>Sint_H_&lt;45</th>\n",
       "      <th>Sint_H_45a64</th>\n",
       "      <th>Sint_H_+65</th>\n",
       "      <th>Asint_M_&lt;45</th>\n",
       "      <th>Asint_M_45a64</th>\n",
       "      <th>Asint_M_+65</th>\n",
       "      <th>Sint_M_&lt;45</th>\n",
       "      <th>Sint_M_45a64</th>\n",
       "      <th>Sint_M_+65</th>\n",
       "    </tr>\n",
       "  </thead>\n",
       "  <tbody>\n",
       "    <tr>\n",
       "      <th>0</th>\n",
       "      <td>08/03/2020</td>\n",
       "      <td>130.0</td>\n",
       "      <td>1.0</td>\n",
       "      <td>0.0</td>\n",
       "      <td>0.0</td>\n",
       "      <td>0.0</td>\n",
       "      <td>1.0</td>\n",
       "      <td>0.0</td>\n",
       "      <td>0.0</td>\n",
       "      <td>0.0</td>\n",
       "      <td>0.0</td>\n",
       "      <td>0.0</td>\n",
       "      <td>1.0</td>\n",
       "      <td>0.0</td>\n",
       "      <td>0.0</td>\n",
       "      <td>1.0</td>\n",
       "      <td>0.0</td>\n",
       "      <td>0.0</td>\n",
       "    </tr>\n",
       "    <tr>\n",
       "      <th>1</th>\n",
       "      <td>09/03/2020</td>\n",
       "      <td>21.0</td>\n",
       "      <td>3.0</td>\n",
       "      <td>0.0</td>\n",
       "      <td>0.0</td>\n",
       "      <td>0.0</td>\n",
       "      <td>0.0</td>\n",
       "      <td>0.0</td>\n",
       "      <td>0.0</td>\n",
       "      <td>0.0</td>\n",
       "      <td>1.0</td>\n",
       "      <td>0.0</td>\n",
       "      <td>0.0</td>\n",
       "      <td>0.0</td>\n",
       "      <td>0.0</td>\n",
       "      <td>3.0</td>\n",
       "      <td>0.0</td>\n",
       "      <td>0.0</td>\n",
       "    </tr>\n",
       "    <tr>\n",
       "      <th>2</th>\n",
       "      <td>10/03/2020</td>\n",
       "      <td>39.0</td>\n",
       "      <td>6.0</td>\n",
       "      <td>0.0</td>\n",
       "      <td>0.0</td>\n",
       "      <td>0.0</td>\n",
       "      <td>0.0</td>\n",
       "      <td>0.0</td>\n",
       "      <td>0.0</td>\n",
       "      <td>1.0</td>\n",
       "      <td>0.0</td>\n",
       "      <td>1.0</td>\n",
       "      <td>0.0</td>\n",
       "      <td>0.0</td>\n",
       "      <td>0.0</td>\n",
       "      <td>2.0</td>\n",
       "      <td>0.0</td>\n",
       "      <td>0.0</td>\n",
       "    </tr>\n",
       "  </tbody>\n",
       "</table>\n",
       "</div>"
      ],
      "text/plain": [
       "        Fecha  Pruebas  Incidentes    H  H_UCI  Defunciones  Asint_H_<45  \\\n",
       "0  08/03/2020    130.0         1.0  0.0    0.0          0.0          1.0   \n",
       "1  09/03/2020     21.0         3.0  0.0    0.0          0.0          0.0   \n",
       "2  10/03/2020     39.0         6.0  0.0    0.0          0.0          0.0   \n",
       "\n",
       "   Asint_H_45a64  Asint_H_+65  Sint_H_<45  Sint_H_45a64  Sint_H_+65  \\\n",
       "0            0.0          0.0         0.0           0.0         0.0   \n",
       "1            0.0          0.0         0.0           1.0         0.0   \n",
       "2            0.0          0.0         1.0           0.0         1.0   \n",
       "\n",
       "   Asint_M_<45  Asint_M_45a64  Asint_M_+65  Sint_M_<45  Sint_M_45a64  \\\n",
       "0          1.0            0.0          0.0         1.0           0.0   \n",
       "1          0.0            0.0          0.0         3.0           0.0   \n",
       "2          0.0            0.0          0.0         2.0           0.0   \n",
       "\n",
       "   Sint_M_+65  \n",
       "0         0.0  \n",
       "1         0.0  \n",
       "2         0.0  "
      ]
     },
     "execution_count": 15,
     "metadata": {},
     "output_type": "execute_result"
    }
   ],
   "source": [
    "df_salud_murcia = pd.DataFrame(datos)\n",
    "df_salud_murcia.head(3)"
   ]
  },
  {
   "cell_type": "markdown",
   "metadata": {},
   "source": [
    "Lo siguiente que haremos es indexar el dataframe por la columna 'Fecha'. Para ello, primero debemos convertir la misma en un objeto de tipo DatatimeIndex. Usamos la funcion 'to_datetime' y le indicamos el formato en el que se encuentran las fechas para que se lea y procese bien. Posteriormente eliminamos la columna del dataFrame e insertamos el nuevo DatatimeIndex como íncide del dataframe. Finalmente mostramos el resultado."
   ]
  },
  {
   "cell_type": "code",
   "execution_count": 16,
   "metadata": {},
   "outputs": [
    {
     "data": {
      "text/html": [
       "<div>\n",
       "<style scoped>\n",
       "    .dataframe tbody tr th:only-of-type {\n",
       "        vertical-align: middle;\n",
       "    }\n",
       "\n",
       "    .dataframe tbody tr th {\n",
       "        vertical-align: top;\n",
       "    }\n",
       "\n",
       "    .dataframe thead th {\n",
       "        text-align: right;\n",
       "    }\n",
       "</style>\n",
       "<table border=\"1\" class=\"dataframe\">\n",
       "  <thead>\n",
       "    <tr style=\"text-align: right;\">\n",
       "      <th></th>\n",
       "      <th>Pruebas</th>\n",
       "      <th>Incidentes</th>\n",
       "      <th>H</th>\n",
       "      <th>H_UCI</th>\n",
       "      <th>Defunciones</th>\n",
       "      <th>Asint_H_&lt;45</th>\n",
       "      <th>Asint_H_45a64</th>\n",
       "      <th>Asint_H_+65</th>\n",
       "      <th>Sint_H_&lt;45</th>\n",
       "      <th>Sint_H_45a64</th>\n",
       "      <th>Sint_H_+65</th>\n",
       "      <th>Asint_M_&lt;45</th>\n",
       "      <th>Asint_M_45a64</th>\n",
       "      <th>Asint_M_+65</th>\n",
       "      <th>Sint_M_&lt;45</th>\n",
       "      <th>Sint_M_45a64</th>\n",
       "      <th>Sint_M_+65</th>\n",
       "    </tr>\n",
       "    <tr>\n",
       "      <th>Fecha</th>\n",
       "      <th></th>\n",
       "      <th></th>\n",
       "      <th></th>\n",
       "      <th></th>\n",
       "      <th></th>\n",
       "      <th></th>\n",
       "      <th></th>\n",
       "      <th></th>\n",
       "      <th></th>\n",
       "      <th></th>\n",
       "      <th></th>\n",
       "      <th></th>\n",
       "      <th></th>\n",
       "      <th></th>\n",
       "      <th></th>\n",
       "      <th></th>\n",
       "      <th></th>\n",
       "    </tr>\n",
       "  </thead>\n",
       "  <tbody>\n",
       "    <tr>\n",
       "      <th>2020-03-08</th>\n",
       "      <td>130.0</td>\n",
       "      <td>1.0</td>\n",
       "      <td>0.0</td>\n",
       "      <td>0.0</td>\n",
       "      <td>0.0</td>\n",
       "      <td>1.0</td>\n",
       "      <td>0.0</td>\n",
       "      <td>0.0</td>\n",
       "      <td>0.0</td>\n",
       "      <td>0.0</td>\n",
       "      <td>0.0</td>\n",
       "      <td>1.0</td>\n",
       "      <td>0.0</td>\n",
       "      <td>0.0</td>\n",
       "      <td>1.0</td>\n",
       "      <td>0.0</td>\n",
       "      <td>0.0</td>\n",
       "    </tr>\n",
       "    <tr>\n",
       "      <th>2020-03-09</th>\n",
       "      <td>21.0</td>\n",
       "      <td>3.0</td>\n",
       "      <td>0.0</td>\n",
       "      <td>0.0</td>\n",
       "      <td>0.0</td>\n",
       "      <td>0.0</td>\n",
       "      <td>0.0</td>\n",
       "      <td>0.0</td>\n",
       "      <td>0.0</td>\n",
       "      <td>1.0</td>\n",
       "      <td>0.0</td>\n",
       "      <td>0.0</td>\n",
       "      <td>0.0</td>\n",
       "      <td>0.0</td>\n",
       "      <td>3.0</td>\n",
       "      <td>0.0</td>\n",
       "      <td>0.0</td>\n",
       "    </tr>\n",
       "    <tr>\n",
       "      <th>2020-03-10</th>\n",
       "      <td>39.0</td>\n",
       "      <td>6.0</td>\n",
       "      <td>0.0</td>\n",
       "      <td>0.0</td>\n",
       "      <td>0.0</td>\n",
       "      <td>0.0</td>\n",
       "      <td>0.0</td>\n",
       "      <td>0.0</td>\n",
       "      <td>1.0</td>\n",
       "      <td>0.0</td>\n",
       "      <td>1.0</td>\n",
       "      <td>0.0</td>\n",
       "      <td>0.0</td>\n",
       "      <td>0.0</td>\n",
       "      <td>2.0</td>\n",
       "      <td>0.0</td>\n",
       "      <td>0.0</td>\n",
       "    </tr>\n",
       "  </tbody>\n",
       "</table>\n",
       "</div>"
      ],
      "text/plain": [
       "            Pruebas  Incidentes    H  H_UCI  Defunciones  Asint_H_<45  \\\n",
       "Fecha                                                                   \n",
       "2020-03-08    130.0         1.0  0.0    0.0          0.0          1.0   \n",
       "2020-03-09     21.0         3.0  0.0    0.0          0.0          0.0   \n",
       "2020-03-10     39.0         6.0  0.0    0.0          0.0          0.0   \n",
       "\n",
       "            Asint_H_45a64  Asint_H_+65  Sint_H_<45  Sint_H_45a64  Sint_H_+65  \\\n",
       "Fecha                                                                          \n",
       "2020-03-08            0.0          0.0         0.0           0.0         0.0   \n",
       "2020-03-09            0.0          0.0         0.0           1.0         0.0   \n",
       "2020-03-10            0.0          0.0         1.0           0.0         1.0   \n",
       "\n",
       "            Asint_M_<45  Asint_M_45a64  Asint_M_+65  Sint_M_<45  Sint_M_45a64  \\\n",
       "Fecha                                                                           \n",
       "2020-03-08          1.0            0.0          0.0         1.0           0.0   \n",
       "2020-03-09          0.0            0.0          0.0         3.0           0.0   \n",
       "2020-03-10          0.0            0.0          0.0         2.0           0.0   \n",
       "\n",
       "            Sint_M_+65  \n",
       "Fecha                   \n",
       "2020-03-08         0.0  \n",
       "2020-03-09         0.0  \n",
       "2020-03-10         0.0  "
      ]
     },
     "execution_count": 16,
     "metadata": {},
     "output_type": "execute_result"
    }
   ],
   "source": [
    "format = '%d/%m/%Y'\n",
    "datetime_fecha = pd.to_datetime(df_salud_murcia['Fecha'], format = format)\n",
    "df_salud_murcia = df_salud_murcia.drop(['Fecha'], axis=1)\n",
    "df_salud_murcia.insert(0,'Fecha', datetime_fecha)\n",
    "df_salud_murcia = df_salud_murcia.set_index('Fecha')\n",
    "df_salud_murcia.head(3)"
   ]
  },
  {
   "cell_type": "markdown",
   "metadata": {},
   "source": [
    "Con la siguiente función eliminamos todos aquellos valores que se almacenan o completan como NaN. "
   ]
  },
  {
   "cell_type": "code",
   "execution_count": 17,
   "metadata": {},
   "outputs": [],
   "source": [
    "df_salud_murcia.dropna(axis = 0, inplace = True)"
   ]
  },
  {
   "cell_type": "markdown",
   "metadata": {},
   "source": [
    "## Sumando asintomáticos\n",
    "En esta sección vamos a sumar a todos los asintomáticos (por fecha) y añadirlos en una nueva serie\n",
    "del dataframe a la que llamaré \"Asintomaticos\""
   ]
  },
  {
   "cell_type": "code",
   "execution_count": 18,
   "metadata": {},
   "outputs": [],
   "source": [
    "df_salud_murcia['Asintomaticos'] = df_salud_murcia['Asint_H_<45'] + df_salud_murcia['Asint_H_45a64'] + df_salud_murcia['Asint_H_+65'] + df_salud_murcia['Asint_M_<45'] + df_salud_murcia['Asint_M_45a64'] + df_salud_murcia['Asint_M_+65']"
   ]
  },
  {
   "cell_type": "markdown",
   "metadata": {},
   "source": [
    "A continuación lo que hacemos es guardarla en un archivo de extensión .csv "
   ]
  },
  {
   "cell_type": "code",
   "execution_count": null,
   "metadata": {},
   "outputs": [],
   "source": [
    "df_salud_murcia.to_csv(path_or_buf = '../Datos_preprocesados./datos_murcia_mas_asintomaticos.csv')"
   ]
  },
  {
   "cell_type": "markdown",
   "metadata": {},
   "source": [
    "Al igual que hicimos con el dataFrame de los datos de salud que leímos al principio, debemos transformar las fechas en objetos de tipo DatatimeIndex. Posteriormente las ordenaremos para que se muestren en orden cronológico. Para ello usamos la función 'to_datetime', que convierte nuestra lista de fechas en DatatimeIndex. Acto seguido creamos el dataframe con las entradas, las salidas a Murcia y las fechas y las ponemos como índice del dataframe. Ahora solo queda ordenarlo. Añadimos tres columnas adicionales al dataframe que son los meses, dias y años de las fechas. Ordenamos según estos valores y posteriormente las eliminamos del dataframe. Mostramos el resultado."
   ]
  },
  {
   "cell_type": "code",
   "execution_count": 2,
   "metadata": {},
   "outputs": [],
   "source": [
    "def conversor_a_dataframe(lista_fechas, lista_entradas, lista_salidas):\n",
    "    format = '%Y-%d-%m'\n",
    "    # Convertimos en DatatimeIndex\n",
    "    fechas_serie = pd.to_datetime(lista_fechas, format = format)\n",
    "    # Creamos dataframe con las entradas salidas y fechas\n",
    "    df_entradas_salidas = pd.DataFrame(list(zip(lista_entradas, lista_salidas)), columns = ['Entradas', 'Salidas'], index = fechas_serie).rename_axis('Fecha', axis = 0)\n",
    "    # Definimos las series para ordenar\n",
    "    df_entradas_salidas['month'] = fechas_serie.month\n",
    "    df_entradas_salidas['year'] = fechas_serie.year\n",
    "    df_entradas_salidas['day'] = fechas_serie.day\n",
    "    # Ordenamos por mes-dia-año\n",
    "    df_entradas_salidas = df_entradas_salidas.sort_values(['year', 'month', 'day']).drop(columns=['day', 'month', 'year'])\n",
    "    return df_entradas_salidas"
   ]
  },
  {
   "cell_type": "markdown",
   "metadata": {},
   "source": [
    "# INE"
   ]
  },
  {
   "cell_type": "markdown",
   "metadata": {},
   "source": [
    "## Movilidad"
   ]
  },
  {
   "cell_type": "code",
   "execution_count": null,
   "metadata": {},
   "outputs": [],
   "source": [
    "def parseador_fechas_marjun(nombre):\n",
    "    # Cogemos el día\n",
    "    dia = nombre[4:6]\n",
    "    mes = nombre[6:9]\n",
    "    anio = nombre[10:14]\n",
    "    if mes == 'MAR':\n",
    "        mes = '03'\n",
    "    if mes == 'ABR':\n",
    "        mes = '04'\n",
    "    if mes == 'MAY':\n",
    "        mes = '05'\n",
    "    if mes == 'JUN':\n",
    "        mes = '06'\n",
    "    return(anio+'-'+dia+'-'+mes)"
   ]
  },
  {
   "cell_type": "code",
   "execution_count": null,
   "metadata": {},
   "outputs": [],
   "source": [
    "def parseador_fechas_jundic(nombre):\n",
    "    # Cogemos la longitud total y nos quedamos con las fechas\n",
    "    l = len(nombre)\n",
    "    f = nombre[l-9:l-5]\n",
    "    # Obtenemos el dia y el mes\n",
    "    dia = f[0:2]\n",
    "    mes = f[2:4]\n",
    "    # El añi es siempre 2020\n",
    "    anio = '2020'\n",
    "    # Devolvemos la fecha en su formato\n",
    "    return(anio+'-'+dia+'-'+mes)"
   ]
  },
  {
   "cell_type": "markdown",
   "metadata": {},
   "source": [
    "### Movilidad mar-jun"
   ]
  },
  {
   "cell_type": "code",
   "execution_count": null,
   "metadata": {},
   "outputs": [],
   "source": [
    "ruta = '../Datos_originales/mar-jun/'\n",
    "\n",
    "lista_entradas = []\n",
    "lista_salidas = []\n",
    "lista_fechas = []\n",
    "\n",
    "# Cogemos los archivos .zip diarios\n",
    "archivos = os.listdir(ruta)\n",
    "\n",
    "# Iteramos sobre cada uno de estos\n",
    "for a in archivos:\n",
    "    # Los leemos con zipfile\n",
    "    z = zipfile.ZipFile(ruta+a, 'r')\n",
    "    # Iteramos en cada uno de los ficheros del zip\n",
    "    for az in z.namelist():\n",
    "        # Cogemos los .csv que nos interesan\n",
    "        if \"PobxCeldasOrigen\" in az:\n",
    "            # Nos quedamos con el dia (será el mismo para entrada y salida)\n",
    "            fecha = parseador_fechas_marjun(az)\n",
    "            lista_fechas.append(fecha)\n",
    "            # Como son archivos .csv leemos\n",
    "            df_f = pd.read_csv(z.open(az), sep=';', encoding = 'latin-1')\n",
    "            # Obtenemos solamente las salidas de Murcia\n",
    "            df_murcia = df_f[df_f['NOMBRE_CELDA_ORIGEN '].str.contains(\"Murcia \\(\")]\n",
    "            # Sumamos toda la población registrada que sale de Murcia\n",
    "            suma_salidas_murcia = df_murcia['POB_SALE '].sum()\n",
    "            # Añadimos este dato a la lista de salidas\n",
    "            lista_salidas.append(suma_salidas_murcia)\n",
    "            \n",
    "        if \"PobxCeldasDestino\" in az:\n",
    "            # Como son archivos .csv leemos\n",
    "            df_f = pd.read_csv(z.open(az), sep=';', encoding = 'latin-1')\n",
    "            # Obtenemos solamente las entradas a Murcia\n",
    "            df_murcia = df_f[df_f['NOMBRE_CELDA_DESTINO '].str.contains(\"Murcia \\(\")]\n",
    "            # Sumamos toda la población registrada que llega a Murcia\n",
    "            suma_entradas_murcia = df_murcia['POB_LLEGA '].sum()\n",
    "            # Añadimos este dato a la lista de salidas\n",
    "            lista_entradas.append(suma_entradas_murcia)"
   ]
  },
  {
   "cell_type": "markdown",
   "metadata": {},
   "source": [
    "### Movilidad jun-dic"
   ]
  },
  {
   "cell_type": "code",
   "execution_count": null,
   "metadata": {},
   "outputs": [],
   "source": [
    "def procesamiento_tablas(nombre,z):\n",
    "    # Obtenemos la fecha\n",
    "    fecha = parseador_fechas_jundic(nombre)\n",
    "    lista_fechas.append(fecha)\n",
    "    # Leemos el fichero excel\n",
    "    df = pd.read_excel(z.open(nombre))\n",
    "    # Cogemos sólamente las áreas de Murcia ciudad\n",
    "    df_murcia = df[df['Nombre del Área'].str.contains(\"Murcia \\(\")]\n",
    "    # Entradas\n",
    "    suma_entradas_murcia = df_murcia['Población residente encontrada durante el día en otra área (C)'].sum()\n",
    "    lista_entradas.append(suma_entradas_murcia)\n",
    "    # Salidas\n",
    "    suma_salidas_murcia = df_murcia['Población no residente que se localiza durante el día en esta área (D)'].sum()\n",
    "    lista_salidas.append(suma_salidas_murcia)"
   ]
  },
  {
   "cell_type": "code",
   "execution_count": null,
   "metadata": {},
   "outputs": [],
   "source": [
    "ruta = '../Datos_originales/jun-dic/'\n",
    "\n",
    "# Cogemos los archivos .zip mensuales\n",
    "archivos = os.listdir(ruta)\n",
    "\n",
    "for a in archivos:\n",
    "    with zipfile.ZipFile(ruta+a) as z:\n",
    "        for f in z.namelist():\n",
    "            #print(f)\n",
    "            # Todos excepto noviembre y diciembre tienen directamente las tablas\n",
    "            if \"Tabla 1.2\" in f:\n",
    "                procesamiento_tablas(f,z)\n",
    "            # Extraemos los .zip diarios de noviembre y diciembre\n",
    "            if \".zip\" in f and (\"Noviembre\" in f or \"Diciembre\" in f):\n",
    "                with z.open(f) as d:\n",
    "                    with zipfile.ZipFile(d) as z2:\n",
    "                        for h in z2.namelist():\n",
    "                            if \"Tabla 1.2\" in h:\n",
    "                                procesamiento_tablas(h,z2)\n",
    "            "
   ]
  },
  {
   "cell_type": "code",
   "execution_count": null,
   "metadata": {},
   "outputs": [],
   "source": [
    "df_entradas_salidas_murcia = conversor_a_dataframe(lista_fechas, lista_entradas, lista_salidas)"
   ]
  },
  {
   "cell_type": "code",
   "execution_count": null,
   "metadata": {},
   "outputs": [],
   "source": [
    "df_entradas_salidas_murcia.to_csv(path_or_buf = '../Datos_preprocesados./datos_entradas_salidas_murcia_ine.csv')"
   ]
  },
  {
   "cell_type": "code",
   "execution_count": null,
   "metadata": {},
   "outputs": [],
   "source": [
    "df_final_ine = pd.concat([df_salud_murcia, df_entradas_salidas_murcia], axis=1)"
   ]
  },
  {
   "cell_type": "code",
   "execution_count": null,
   "metadata": {},
   "outputs": [],
   "source": [
    "df_final_ine.to_csv(path_or_buf = '../Datos_preprocesados./datos_murcia_mas_entradas_salidas_ine.csv')"
   ]
  },
  {
   "cell_type": "markdown",
   "metadata": {},
   "source": [
    "## Visualización series (bucle)"
   ]
  },
  {
   "cell_type": "markdown",
   "metadata": {},
   "source": [
    "A continuación se realiza un bucle en el que se visualizan los datos de todas las series del dataframe"
   ]
  },
  {
   "cell_type": "code",
   "execution_count": null,
   "metadata": {},
   "outputs": [],
   "source": [
    "num = 0\n",
    "\n",
    "# Initialize the figure style\n",
    "plt.style.use('seaborn-white')\n",
    " \n",
    "# create a color palette\n",
    "\n",
    "palette = plt.get_cmap('prism')\n",
    "\n",
    "for column in df_final_ine:\n",
    "    \n",
    "    num = num + 1\n",
    " \n",
    "    # Find the right spot on the plot\n",
    "    plt.subplot(5,4, num)\n",
    " \n",
    "    if \"Salidas\" in column or \"Entradas\" in column:\n",
    "        serie = df_final_ine[column]\n",
    "        serie.plot(style = '.', color = palette(num), linewidth = 0.8, alpha = 0.9, label = column)\n",
    "    else:\n",
    "        # Plot the lineplot\n",
    "        plt.plot(df_final_ine[column], marker = '', color = palette(num), linewidth = 0.8, alpha = 0.9, label = column)\n",
    "\n",
    "    # Add title\n",
    "    plt.title(column, loc ='center', fontsize = 12, fontweight = 0, color = palette(num))\n",
    "\n",
    "plt.subplots_adjust(left = 0.01, right = 4, top = 5, bottom = 0.01, hspace = 0.2, wspace = 0.2)\n",
    "\n",
    "\n",
    "# Show the graph\n",
    "plt.show()"
   ]
  },
  {
   "cell_type": "markdown",
   "metadata": {},
   "source": [
    "Las gráficas tienen mucha similitud entre ellas, lo que es bastante lógico.\n",
    "El aumento/disminución del número de casos positivos se ve directamente relacionado con \n",
    "el aumento de hospitalizaciones, defunciones, asintomáticos, sintomáticos,..."
   ]
  },
  {
   "cell_type": "markdown",
   "metadata": {},
   "source": [
    "## Predictor INE"
   ]
  },
  {
   "cell_type": "markdown",
   "metadata": {},
   "source": [
    "Para trabajar con las distintas series temporales y realizar machine learning vamos en primer lugar a sumar todos\n",
    "los sintomáticos y añadirlos a una nueva serie del dataframe al igual que hicimos con los asintomáticos. Posteriormente\n",
    "vamos a crear un nuevo dataframe donde eliminemos las series de sintomaticos y asintomaticos por edades, quedándonos\n",
    "solamente con las nuevas series"
   ]
  },
  {
   "cell_type": "code",
   "execution_count": null,
   "metadata": {},
   "outputs": [],
   "source": [
    "df_final_ine['Sintomaticos'] = df_salud_murcia['Sint_H_<45'] + df_salud_murcia['Sint_H_45a64'] + df_salud_murcia['Sint_H_+65'] + df_salud_murcia['Sint_M_<45'] + df_salud_murcia['Sint_M_45a64'] + df_salud_murcia['Sint_M_+65']\n",
    "df_final_ine.head(2)"
   ]
  },
  {
   "cell_type": "code",
   "execution_count": null,
   "metadata": {},
   "outputs": [],
   "source": [
    "df_final_ine = df_final_ine.drop(['Asint_H_<45', 'Asint_H_45a64', 'Asint_H_+65', 'Asint_M_<45', 'Asint_M_45a64', 'Asint_M_+65', 'Sint_H_<45', 'Sint_H_45a64', 'Sint_H_+65', 'Sint_M_<45', 'Sint_M_45a64', 'Sint_M_+65'], axis=1)\n",
    "df_final_ine.head(3)"
   ]
  },
  {
   "cell_type": "code",
   "execution_count": null,
   "metadata": {},
   "outputs": [],
   "source": [
    "df_final_ine.to_csv(path_or_buf = '../Datos_preprocesados./datos_ine_final.csv')"
   ]
  },
  {
   "cell_type": "markdown",
   "metadata": {},
   "source": [
    "Usamos el método de la ventana deslizante. Pretendemos predecir el número de casos en el día 't' a partir de los\n",
    "tres días anteriores 't-3', 't-2', 't-1'"
   ]
  },
  {
   "cell_type": "code",
   "execution_count": null,
   "metadata": {},
   "outputs": [],
   "source": [
    "df_predictor = df_final_ine.copy()\n",
    "columnas = df_predictor.columns\n",
    "columnas = columnas.drop(\"Incidentes\")\n",
    "lista = []\n",
    "# Añadimos lag a todas las series excepto a Incidentes, que es la que queremos predecir\n",
    "for c in columnas:\n",
    "    datos = pd.DataFrame(df_predictor[c].values, index = df_predictor.index)\n",
    "    for i in [3,2,1]:\n",
    "        df_predictor.insert(len(df_predictor.columns), c+' t-'+str(i),datos.shift(i))\n",
    "        lista.append(df_predictor.columns)\n",
    "\n",
    "df_predictor = df_predictor.drop(columnas, axis=1)"
   ]
  },
  {
   "cell_type": "code",
   "execution_count": null,
   "metadata": {},
   "outputs": [],
   "source": [
    "df_predictor.head(10)"
   ]
  },
  {
   "cell_type": "markdown",
   "metadata": {},
   "source": [
    "Eliminamos los missing values (sujeto a posible reemplazamiento)"
   ]
  },
  {
   "cell_type": "code",
   "execution_count": null,
   "metadata": {},
   "outputs": [],
   "source": [
    "df_predictor.dropna(axis = 0, inplace = True)\n",
    "df_predictor.head(3)"
   ]
  },
  {
   "cell_type": "markdown",
   "metadata": {},
   "source": [
    "# MITMA"
   ]
  },
  {
   "cell_type": "markdown",
   "metadata": {},
   "source": [
    "## Movilidad"
   ]
  },
  {
   "cell_type": "markdown",
   "metadata": {},
   "source": [
    "El código del municipio de Murcia es 30030. Usaremos este código para acceder a los datos de movilidad de la ciudad\n",
    "del ministerio recogidos en la carpeta mitma_movilidad. Para cada mes tenemos un archivo .tar con ficheros .txt\n",
    "correspondientes a cada dia"
   ]
  },
  {
   "cell_type": "code",
   "execution_count": 3,
   "metadata": {},
   "outputs": [],
   "source": [
    "def parseador_fechas_mitma(nombre):\n",
    "    # Cogemos el día\n",
    "    dia = nombre[6:8]\n",
    "    mes = nombre[4:6]\n",
    "    anio = nombre[0:4]\n",
    "    return(anio+'-'+dia+'-'+mes)"
   ]
  },
  {
   "cell_type": "code",
   "execution_count": 4,
   "metadata": {},
   "outputs": [],
   "source": [
    "# Los diferentes al resto\n",
    "codigos = ['30901', '30902']\n",
    "\n",
    "for i in range(1,44):\n",
    "    if i < 10 and i not in [4,6]:\n",
    "        codigos.append('3000'+str(i))\n",
    "    if i >= 10 and i not in [14,27,29,31,32,34,39,40,42]:\n",
    "        codigos.append('300'+str(i))\n",
    "    if i == 4:\n",
    "        codigos.append('30014_AM')\n",
    "    if i == 6:\n",
    "        codigos.append('30039_AM')\n",
    "    if i == 14:\n",
    "        codigos.append('30014_AM')\n",
    "    if i == 27:\n",
    "        codigos.append('3002701')\n",
    "    if i == 29:\n",
    "        codigos.append('30029_AM')\n",
    "    if i == 31:\n",
    "        codigos.append('30042_AM')\n",
    "    if i == 32:\n",
    "        codigos.append('30029_AM')\n",
    "    if i == 34:\n",
    "        codigos.append('30014_AM')\n",
    "    if i == 39:\n",
    "        codigos.append('30039_AM')\n",
    "    if i == 40:\n",
    "        codigos.append('30042_AM')\n",
    "    if i == 42:\n",
    "        codigos.append('30042_AM')"
   ]
  },
  {
   "cell_type": "code",
   "execution_count": 5,
   "metadata": {},
   "outputs": [
    {
     "data": {
      "text/plain": [
       "45"
      ]
     },
     "execution_count": 5,
     "metadata": {},
     "output_type": "execute_result"
    }
   ],
   "source": [
    "len(codigos)"
   ]
  },
  {
   "cell_type": "code",
   "execution_count": 6,
   "metadata": {},
   "outputs": [],
   "source": [
    "# NUEVO\n",
    "ruta = '../Datos_originales/mitma_movilidad/'\n",
    "\n",
    "lista_fechas = []\n",
    "lista_entradas = []\n",
    "lista_salidas = []\n",
    "\n",
    "\n",
    "# Cogemos los archivos .tar mensuales\n",
    "archivos = os.listdir(ruta)\n",
    "\n",
    "for a in archivos:\n",
    "    meses = os.listdir(ruta+a)\n",
    "    for m in meses:\n",
    "        if \"._\" not in m:\n",
    "            # Obtenemos la fecha\n",
    "            fecha = parseador_fechas_mitma(m)\n",
    "            lista_fechas.append(fecha)\n",
    "            # Leemos el archivo correspondiente\n",
    "            df = pd.read_csv(ruta+a+'/'+m, compression='gzip', sep='|', header=0, low_memory = False)\n",
    "            # Nos quedamos solo con los viajes en la Región\n",
    "            #df_s = df[df['origen'].str.contains('|'.join(codigos), na=False)]\n",
    "            df_s = df[df['origen'].isin(codigos)]\n",
    "            # Eliminamos los viajes dentro de la Región\n",
    "            df_s = df_s[~df_s['destino'].isin(codigos)]\n",
    "            #df_s = df_s[df_s['destino'].str.contains('|'.join(codigos), na=False) == False]\n",
    "            #df_s = df_s[df_s['destino'].str.contains('30030', na=False) == False]\n",
    "            # Nos quedamos solo con las entradas a la Región\n",
    "            #df_e = df[df['destino'].str.contains('|'.join(codigos), na=False)]\n",
    "            df_e = df[df['destino'].isin(codigos)]\n",
    "            # Eliminamos los viajes de Murcia a Murcia\n",
    "            #df_e = df_e[df_e['origen'].str.contains('|'.join(codigos), na=False) == False]\n",
    "            df_e = df_e[~df_e['origen'].isin(codigos)]\n",
    "            #df_e.shape\n",
    "            # Sumamos todos los viajes que son las entradas y salidas\n",
    "            salidas = df_s['viajes'].sum()\n",
    "            entradas = df_e['viajes'].sum()\n",
    "            # Añadimos a las listas\n",
    "            lista_salidas.append(salidas)\n",
    "            lista_entradas.append(entradas)"
   ]
  },
  {
   "cell_type": "code",
   "execution_count": 13,
   "metadata": {},
   "outputs": [
    {
     "data": {
      "text/plain": [
       "(3265, 7)"
      ]
     },
     "execution_count": 13,
     "metadata": {},
     "output_type": "execute_result"
    }
   ],
   "source": [
    "df_s.shape"
   ]
  },
  {
   "cell_type": "code",
   "execution_count": 14,
   "metadata": {},
   "outputs": [
    {
     "data": {
      "text/plain": [
       "(3259, 7)"
      ]
     },
     "execution_count": 14,
     "metadata": {},
     "output_type": "execute_result"
    }
   ],
   "source": [
    "df_e.shape"
   ]
  },
  {
   "cell_type": "code",
   "execution_count": 7,
   "metadata": {},
   "outputs": [
    {
     "data": {
      "text/html": [
       "<div>\n",
       "<style scoped>\n",
       "    .dataframe tbody tr th:only-of-type {\n",
       "        vertical-align: middle;\n",
       "    }\n",
       "\n",
       "    .dataframe tbody tr th {\n",
       "        vertical-align: top;\n",
       "    }\n",
       "\n",
       "    .dataframe thead th {\n",
       "        text-align: right;\n",
       "    }\n",
       "</style>\n",
       "<table border=\"1\" class=\"dataframe\">\n",
       "  <thead>\n",
       "    <tr style=\"text-align: right;\">\n",
       "      <th></th>\n",
       "      <th>Entradas</th>\n",
       "      <th>Salidas</th>\n",
       "    </tr>\n",
       "    <tr>\n",
       "      <th>Fecha</th>\n",
       "      <th></th>\n",
       "      <th></th>\n",
       "    </tr>\n",
       "  </thead>\n",
       "  <tbody>\n",
       "    <tr>\n",
       "      <th>2020-02-21</th>\n",
       "      <td>166795.814</td>\n",
       "      <td>168567.936</td>\n",
       "    </tr>\n",
       "    <tr>\n",
       "      <th>2020-02-22</th>\n",
       "      <td>144424.897</td>\n",
       "      <td>144077.722</td>\n",
       "    </tr>\n",
       "    <tr>\n",
       "      <th>2020-02-23</th>\n",
       "      <td>138142.960</td>\n",
       "      <td>133974.435</td>\n",
       "    </tr>\n",
       "    <tr>\n",
       "      <th>2020-02-24</th>\n",
       "      <td>147567.009</td>\n",
       "      <td>150251.802</td>\n",
       "    </tr>\n",
       "    <tr>\n",
       "      <th>2020-02-25</th>\n",
       "      <td>148123.227</td>\n",
       "      <td>148369.673</td>\n",
       "    </tr>\n",
       "  </tbody>\n",
       "</table>\n",
       "</div>"
      ],
      "text/plain": [
       "              Entradas     Salidas\n",
       "Fecha                             \n",
       "2020-02-21  166795.814  168567.936\n",
       "2020-02-22  144424.897  144077.722\n",
       "2020-02-23  138142.960  133974.435\n",
       "2020-02-24  147567.009  150251.802\n",
       "2020-02-25  148123.227  148369.673"
      ]
     },
     "execution_count": 7,
     "metadata": {},
     "output_type": "execute_result"
    }
   ],
   "source": [
    "df_mitma = conversor_a_dataframe(lista_fechas, lista_entradas, lista_salidas)\n",
    "df_mitma.head(5)"
   ]
  },
  {
   "cell_type": "markdown",
   "metadata": {},
   "source": [
    "Vemos ahora el número de filas y el número de missing values"
   ]
  },
  {
   "cell_type": "code",
   "execution_count": 8,
   "metadata": {},
   "outputs": [
    {
     "data": {
      "text/plain": [
       "(374, 2)"
      ]
     },
     "execution_count": 8,
     "metadata": {},
     "output_type": "execute_result"
    }
   ],
   "source": [
    "df_mitma.shape"
   ]
  },
  {
   "cell_type": "code",
   "execution_count": 9,
   "metadata": {},
   "outputs": [
    {
     "data": {
      "text/plain": [
       "Entradas    0\n",
       "Salidas     0\n",
       "dtype: int64"
      ]
     },
     "execution_count": 9,
     "metadata": {},
     "output_type": "execute_result"
    }
   ],
   "source": [
    "df_mitma.isna().sum()"
   ]
  },
  {
   "cell_type": "code",
   "execution_count": 19,
   "metadata": {},
   "outputs": [],
   "source": [
    "df_final_mitma = pd.concat([df_salud_murcia, df_mitma], axis=1)"
   ]
  },
  {
   "cell_type": "code",
   "execution_count": 20,
   "metadata": {},
   "outputs": [
    {
     "data": {
      "text/html": [
       "<div>\n",
       "<style scoped>\n",
       "    .dataframe tbody tr th:only-of-type {\n",
       "        vertical-align: middle;\n",
       "    }\n",
       "\n",
       "    .dataframe tbody tr th {\n",
       "        vertical-align: top;\n",
       "    }\n",
       "\n",
       "    .dataframe thead th {\n",
       "        text-align: right;\n",
       "    }\n",
       "</style>\n",
       "<table border=\"1\" class=\"dataframe\">\n",
       "  <thead>\n",
       "    <tr style=\"text-align: right;\">\n",
       "      <th></th>\n",
       "      <th>Pruebas</th>\n",
       "      <th>Incidentes</th>\n",
       "      <th>H</th>\n",
       "      <th>H_UCI</th>\n",
       "      <th>Defunciones</th>\n",
       "      <th>Asint_H_&lt;45</th>\n",
       "      <th>Asint_H_45a64</th>\n",
       "      <th>Asint_H_+65</th>\n",
       "      <th>Sint_H_&lt;45</th>\n",
       "      <th>Sint_H_45a64</th>\n",
       "      <th>Sint_H_+65</th>\n",
       "      <th>Asint_M_&lt;45</th>\n",
       "      <th>Asint_M_45a64</th>\n",
       "      <th>Asint_M_+65</th>\n",
       "      <th>Sint_M_&lt;45</th>\n",
       "      <th>Sint_M_45a64</th>\n",
       "      <th>Sint_M_+65</th>\n",
       "      <th>Asintomaticos</th>\n",
       "      <th>Entradas</th>\n",
       "      <th>Salidas</th>\n",
       "    </tr>\n",
       "    <tr>\n",
       "      <th>Fecha</th>\n",
       "      <th></th>\n",
       "      <th></th>\n",
       "      <th></th>\n",
       "      <th></th>\n",
       "      <th></th>\n",
       "      <th></th>\n",
       "      <th></th>\n",
       "      <th></th>\n",
       "      <th></th>\n",
       "      <th></th>\n",
       "      <th></th>\n",
       "      <th></th>\n",
       "      <th></th>\n",
       "      <th></th>\n",
       "      <th></th>\n",
       "      <th></th>\n",
       "      <th></th>\n",
       "      <th></th>\n",
       "      <th></th>\n",
       "      <th></th>\n",
       "    </tr>\n",
       "  </thead>\n",
       "  <tbody>\n",
       "    <tr>\n",
       "      <th>2020-02-21</th>\n",
       "      <td>NaN</td>\n",
       "      <td>NaN</td>\n",
       "      <td>NaN</td>\n",
       "      <td>NaN</td>\n",
       "      <td>NaN</td>\n",
       "      <td>NaN</td>\n",
       "      <td>NaN</td>\n",
       "      <td>NaN</td>\n",
       "      <td>NaN</td>\n",
       "      <td>NaN</td>\n",
       "      <td>NaN</td>\n",
       "      <td>NaN</td>\n",
       "      <td>NaN</td>\n",
       "      <td>NaN</td>\n",
       "      <td>NaN</td>\n",
       "      <td>NaN</td>\n",
       "      <td>NaN</td>\n",
       "      <td>NaN</td>\n",
       "      <td>166795.814</td>\n",
       "      <td>168567.936</td>\n",
       "    </tr>\n",
       "    <tr>\n",
       "      <th>2020-02-22</th>\n",
       "      <td>NaN</td>\n",
       "      <td>NaN</td>\n",
       "      <td>NaN</td>\n",
       "      <td>NaN</td>\n",
       "      <td>NaN</td>\n",
       "      <td>NaN</td>\n",
       "      <td>NaN</td>\n",
       "      <td>NaN</td>\n",
       "      <td>NaN</td>\n",
       "      <td>NaN</td>\n",
       "      <td>NaN</td>\n",
       "      <td>NaN</td>\n",
       "      <td>NaN</td>\n",
       "      <td>NaN</td>\n",
       "      <td>NaN</td>\n",
       "      <td>NaN</td>\n",
       "      <td>NaN</td>\n",
       "      <td>NaN</td>\n",
       "      <td>144424.897</td>\n",
       "      <td>144077.722</td>\n",
       "    </tr>\n",
       "    <tr>\n",
       "      <th>2020-02-23</th>\n",
       "      <td>NaN</td>\n",
       "      <td>NaN</td>\n",
       "      <td>NaN</td>\n",
       "      <td>NaN</td>\n",
       "      <td>NaN</td>\n",
       "      <td>NaN</td>\n",
       "      <td>NaN</td>\n",
       "      <td>NaN</td>\n",
       "      <td>NaN</td>\n",
       "      <td>NaN</td>\n",
       "      <td>NaN</td>\n",
       "      <td>NaN</td>\n",
       "      <td>NaN</td>\n",
       "      <td>NaN</td>\n",
       "      <td>NaN</td>\n",
       "      <td>NaN</td>\n",
       "      <td>NaN</td>\n",
       "      <td>NaN</td>\n",
       "      <td>138142.960</td>\n",
       "      <td>133974.435</td>\n",
       "    </tr>\n",
       "    <tr>\n",
       "      <th>2020-02-24</th>\n",
       "      <td>NaN</td>\n",
       "      <td>NaN</td>\n",
       "      <td>NaN</td>\n",
       "      <td>NaN</td>\n",
       "      <td>NaN</td>\n",
       "      <td>NaN</td>\n",
       "      <td>NaN</td>\n",
       "      <td>NaN</td>\n",
       "      <td>NaN</td>\n",
       "      <td>NaN</td>\n",
       "      <td>NaN</td>\n",
       "      <td>NaN</td>\n",
       "      <td>NaN</td>\n",
       "      <td>NaN</td>\n",
       "      <td>NaN</td>\n",
       "      <td>NaN</td>\n",
       "      <td>NaN</td>\n",
       "      <td>NaN</td>\n",
       "      <td>147567.009</td>\n",
       "      <td>150251.802</td>\n",
       "    </tr>\n",
       "    <tr>\n",
       "      <th>2020-02-25</th>\n",
       "      <td>NaN</td>\n",
       "      <td>NaN</td>\n",
       "      <td>NaN</td>\n",
       "      <td>NaN</td>\n",
       "      <td>NaN</td>\n",
       "      <td>NaN</td>\n",
       "      <td>NaN</td>\n",
       "      <td>NaN</td>\n",
       "      <td>NaN</td>\n",
       "      <td>NaN</td>\n",
       "      <td>NaN</td>\n",
       "      <td>NaN</td>\n",
       "      <td>NaN</td>\n",
       "      <td>NaN</td>\n",
       "      <td>NaN</td>\n",
       "      <td>NaN</td>\n",
       "      <td>NaN</td>\n",
       "      <td>NaN</td>\n",
       "      <td>148123.227</td>\n",
       "      <td>148369.673</td>\n",
       "    </tr>\n",
       "    <tr>\n",
       "      <th>...</th>\n",
       "      <td>...</td>\n",
       "      <td>...</td>\n",
       "      <td>...</td>\n",
       "      <td>...</td>\n",
       "      <td>...</td>\n",
       "      <td>...</td>\n",
       "      <td>...</td>\n",
       "      <td>...</td>\n",
       "      <td>...</td>\n",
       "      <td>...</td>\n",
       "      <td>...</td>\n",
       "      <td>...</td>\n",
       "      <td>...</td>\n",
       "      <td>...</td>\n",
       "      <td>...</td>\n",
       "      <td>...</td>\n",
       "      <td>...</td>\n",
       "      <td>...</td>\n",
       "      <td>...</td>\n",
       "      <td>...</td>\n",
       "    </tr>\n",
       "    <tr>\n",
       "      <th>2021-03-21</th>\n",
       "      <td>1188.0</td>\n",
       "      <td>30.0</td>\n",
       "      <td>116.0</td>\n",
       "      <td>43.0</td>\n",
       "      <td>0.0</td>\n",
       "      <td>1.0</td>\n",
       "      <td>1.0</td>\n",
       "      <td>0.0</td>\n",
       "      <td>4.0</td>\n",
       "      <td>5.0</td>\n",
       "      <td>0.0</td>\n",
       "      <td>3.0</td>\n",
       "      <td>1.0</td>\n",
       "      <td>0.0</td>\n",
       "      <td>13.0</td>\n",
       "      <td>3.0</td>\n",
       "      <td>1.0</td>\n",
       "      <td>6.0</td>\n",
       "      <td>NaN</td>\n",
       "      <td>NaN</td>\n",
       "    </tr>\n",
       "    <tr>\n",
       "      <th>2021-03-22</th>\n",
       "      <td>2715.0</td>\n",
       "      <td>53.0</td>\n",
       "      <td>125.0</td>\n",
       "      <td>44.0</td>\n",
       "      <td>2.0</td>\n",
       "      <td>10.0</td>\n",
       "      <td>1.0</td>\n",
       "      <td>0.0</td>\n",
       "      <td>13.0</td>\n",
       "      <td>14.0</td>\n",
       "      <td>1.0</td>\n",
       "      <td>1.0</td>\n",
       "      <td>2.0</td>\n",
       "      <td>1.0</td>\n",
       "      <td>12.0</td>\n",
       "      <td>8.0</td>\n",
       "      <td>2.0</td>\n",
       "      <td>15.0</td>\n",
       "      <td>NaN</td>\n",
       "      <td>NaN</td>\n",
       "    </tr>\n",
       "    <tr>\n",
       "      <th>2021-03-23</th>\n",
       "      <td>2808.0</td>\n",
       "      <td>84.0</td>\n",
       "      <td>117.0</td>\n",
       "      <td>43.0</td>\n",
       "      <td>2.0</td>\n",
       "      <td>12.0</td>\n",
       "      <td>7.0</td>\n",
       "      <td>1.0</td>\n",
       "      <td>18.0</td>\n",
       "      <td>7.0</td>\n",
       "      <td>5.0</td>\n",
       "      <td>8.0</td>\n",
       "      <td>2.0</td>\n",
       "      <td>1.0</td>\n",
       "      <td>15.0</td>\n",
       "      <td>10.0</td>\n",
       "      <td>5.0</td>\n",
       "      <td>31.0</td>\n",
       "      <td>NaN</td>\n",
       "      <td>NaN</td>\n",
       "    </tr>\n",
       "    <tr>\n",
       "      <th>2021-03-24</th>\n",
       "      <td>2453.0</td>\n",
       "      <td>52.0</td>\n",
       "      <td>110.0</td>\n",
       "      <td>40.0</td>\n",
       "      <td>0.0</td>\n",
       "      <td>3.0</td>\n",
       "      <td>2.0</td>\n",
       "      <td>1.0</td>\n",
       "      <td>16.0</td>\n",
       "      <td>2.0</td>\n",
       "      <td>4.0</td>\n",
       "      <td>5.0</td>\n",
       "      <td>4.0</td>\n",
       "      <td>0.0</td>\n",
       "      <td>9.0</td>\n",
       "      <td>5.0</td>\n",
       "      <td>2.0</td>\n",
       "      <td>15.0</td>\n",
       "      <td>NaN</td>\n",
       "      <td>NaN</td>\n",
       "    </tr>\n",
       "    <tr>\n",
       "      <th>2021-03-25</th>\n",
       "      <td>2108.0</td>\n",
       "      <td>88.0</td>\n",
       "      <td>105.0</td>\n",
       "      <td>41.0</td>\n",
       "      <td>0.0</td>\n",
       "      <td>4.0</td>\n",
       "      <td>1.0</td>\n",
       "      <td>2.0</td>\n",
       "      <td>5.0</td>\n",
       "      <td>1.0</td>\n",
       "      <td>2.0</td>\n",
       "      <td>1.0</td>\n",
       "      <td>1.0</td>\n",
       "      <td>0.0</td>\n",
       "      <td>9.0</td>\n",
       "      <td>9.0</td>\n",
       "      <td>3.0</td>\n",
       "      <td>9.0</td>\n",
       "      <td>NaN</td>\n",
       "      <td>NaN</td>\n",
       "    </tr>\n",
       "  </tbody>\n",
       "</table>\n",
       "<p>399 rows × 20 columns</p>\n",
       "</div>"
      ],
      "text/plain": [
       "            Pruebas  Incidentes      H  H_UCI  Defunciones  Asint_H_<45  \\\n",
       "Fecha                                                                     \n",
       "2020-02-21      NaN         NaN    NaN    NaN          NaN          NaN   \n",
       "2020-02-22      NaN         NaN    NaN    NaN          NaN          NaN   \n",
       "2020-02-23      NaN         NaN    NaN    NaN          NaN          NaN   \n",
       "2020-02-24      NaN         NaN    NaN    NaN          NaN          NaN   \n",
       "2020-02-25      NaN         NaN    NaN    NaN          NaN          NaN   \n",
       "...             ...         ...    ...    ...          ...          ...   \n",
       "2021-03-21   1188.0        30.0  116.0   43.0          0.0          1.0   \n",
       "2021-03-22   2715.0        53.0  125.0   44.0          2.0         10.0   \n",
       "2021-03-23   2808.0        84.0  117.0   43.0          2.0         12.0   \n",
       "2021-03-24   2453.0        52.0  110.0   40.0          0.0          3.0   \n",
       "2021-03-25   2108.0        88.0  105.0   41.0          0.0          4.0   \n",
       "\n",
       "            Asint_H_45a64  Asint_H_+65  Sint_H_<45  Sint_H_45a64  Sint_H_+65  \\\n",
       "Fecha                                                                          \n",
       "2020-02-21            NaN          NaN         NaN           NaN         NaN   \n",
       "2020-02-22            NaN          NaN         NaN           NaN         NaN   \n",
       "2020-02-23            NaN          NaN         NaN           NaN         NaN   \n",
       "2020-02-24            NaN          NaN         NaN           NaN         NaN   \n",
       "2020-02-25            NaN          NaN         NaN           NaN         NaN   \n",
       "...                   ...          ...         ...           ...         ...   \n",
       "2021-03-21            1.0          0.0         4.0           5.0         0.0   \n",
       "2021-03-22            1.0          0.0        13.0          14.0         1.0   \n",
       "2021-03-23            7.0          1.0        18.0           7.0         5.0   \n",
       "2021-03-24            2.0          1.0        16.0           2.0         4.0   \n",
       "2021-03-25            1.0          2.0         5.0           1.0         2.0   \n",
       "\n",
       "            Asint_M_<45  Asint_M_45a64  Asint_M_+65  Sint_M_<45  Sint_M_45a64  \\\n",
       "Fecha                                                                           \n",
       "2020-02-21          NaN            NaN          NaN         NaN           NaN   \n",
       "2020-02-22          NaN            NaN          NaN         NaN           NaN   \n",
       "2020-02-23          NaN            NaN          NaN         NaN           NaN   \n",
       "2020-02-24          NaN            NaN          NaN         NaN           NaN   \n",
       "2020-02-25          NaN            NaN          NaN         NaN           NaN   \n",
       "...                 ...            ...          ...         ...           ...   \n",
       "2021-03-21          3.0            1.0          0.0        13.0           3.0   \n",
       "2021-03-22          1.0            2.0          1.0        12.0           8.0   \n",
       "2021-03-23          8.0            2.0          1.0        15.0          10.0   \n",
       "2021-03-24          5.0            4.0          0.0         9.0           5.0   \n",
       "2021-03-25          1.0            1.0          0.0         9.0           9.0   \n",
       "\n",
       "            Sint_M_+65  Asintomaticos    Entradas     Salidas  \n",
       "Fecha                                                          \n",
       "2020-02-21         NaN            NaN  166795.814  168567.936  \n",
       "2020-02-22         NaN            NaN  144424.897  144077.722  \n",
       "2020-02-23         NaN            NaN  138142.960  133974.435  \n",
       "2020-02-24         NaN            NaN  147567.009  150251.802  \n",
       "2020-02-25         NaN            NaN  148123.227  148369.673  \n",
       "...                ...            ...         ...         ...  \n",
       "2021-03-21         1.0            6.0         NaN         NaN  \n",
       "2021-03-22         2.0           15.0         NaN         NaN  \n",
       "2021-03-23         5.0           31.0         NaN         NaN  \n",
       "2021-03-24         2.0           15.0         NaN         NaN  \n",
       "2021-03-25         3.0            9.0         NaN         NaN  \n",
       "\n",
       "[399 rows x 20 columns]"
      ]
     },
     "execution_count": 20,
     "metadata": {},
     "output_type": "execute_result"
    }
   ],
   "source": [
    "df_final_mitma"
   ]
  },
  {
   "cell_type": "code",
   "execution_count": 21,
   "metadata": {},
   "outputs": [],
   "source": [
    "df_final_mitma.to_csv(path_or_buf = '../Datos_preprocesados/datos_murcia_mas_entradas_salidas_mitma_REGION.csv')"
   ]
  },
  {
   "cell_type": "code",
   "execution_count": 22,
   "metadata": {},
   "outputs": [],
   "source": [
    "df_final_mitma = read_csv('../Datos_preprocesados/datos_murcia_mas_entradas_salidas_mitma_REGION.csv', encoding='latin-1', sep = ',', na_values = ['NaN', 'NaT'])\n",
    "df_final_mitma = df_final_mitma.set_index('Fecha')"
   ]
  },
  {
   "cell_type": "code",
   "execution_count": 23,
   "metadata": {},
   "outputs": [
    {
     "data": {
      "text/html": [
       "<div>\n",
       "<style scoped>\n",
       "    .dataframe tbody tr th:only-of-type {\n",
       "        vertical-align: middle;\n",
       "    }\n",
       "\n",
       "    .dataframe tbody tr th {\n",
       "        vertical-align: top;\n",
       "    }\n",
       "\n",
       "    .dataframe thead th {\n",
       "        text-align: right;\n",
       "    }\n",
       "</style>\n",
       "<table border=\"1\" class=\"dataframe\">\n",
       "  <thead>\n",
       "    <tr style=\"text-align: right;\">\n",
       "      <th></th>\n",
       "      <th>Pruebas</th>\n",
       "      <th>Incidentes</th>\n",
       "      <th>H</th>\n",
       "      <th>H_UCI</th>\n",
       "      <th>Defunciones</th>\n",
       "      <th>Asint_H_&lt;45</th>\n",
       "      <th>Asint_H_45a64</th>\n",
       "      <th>Asint_H_+65</th>\n",
       "      <th>Sint_H_&lt;45</th>\n",
       "      <th>Sint_H_45a64</th>\n",
       "      <th>Sint_H_+65</th>\n",
       "      <th>Asint_M_&lt;45</th>\n",
       "      <th>Asint_M_45a64</th>\n",
       "      <th>Asint_M_+65</th>\n",
       "      <th>Sint_M_&lt;45</th>\n",
       "      <th>Sint_M_45a64</th>\n",
       "      <th>Sint_M_+65</th>\n",
       "      <th>Asintomaticos</th>\n",
       "      <th>Entradas</th>\n",
       "      <th>Salidas</th>\n",
       "    </tr>\n",
       "    <tr>\n",
       "      <th>Fecha</th>\n",
       "      <th></th>\n",
       "      <th></th>\n",
       "      <th></th>\n",
       "      <th></th>\n",
       "      <th></th>\n",
       "      <th></th>\n",
       "      <th></th>\n",
       "      <th></th>\n",
       "      <th></th>\n",
       "      <th></th>\n",
       "      <th></th>\n",
       "      <th></th>\n",
       "      <th></th>\n",
       "      <th></th>\n",
       "      <th></th>\n",
       "      <th></th>\n",
       "      <th></th>\n",
       "      <th></th>\n",
       "      <th></th>\n",
       "      <th></th>\n",
       "    </tr>\n",
       "  </thead>\n",
       "  <tbody>\n",
       "    <tr>\n",
       "      <th>2020-02-21</th>\n",
       "      <td>NaN</td>\n",
       "      <td>NaN</td>\n",
       "      <td>NaN</td>\n",
       "      <td>NaN</td>\n",
       "      <td>NaN</td>\n",
       "      <td>NaN</td>\n",
       "      <td>NaN</td>\n",
       "      <td>NaN</td>\n",
       "      <td>NaN</td>\n",
       "      <td>NaN</td>\n",
       "      <td>NaN</td>\n",
       "      <td>NaN</td>\n",
       "      <td>NaN</td>\n",
       "      <td>NaN</td>\n",
       "      <td>NaN</td>\n",
       "      <td>NaN</td>\n",
       "      <td>NaN</td>\n",
       "      <td>NaN</td>\n",
       "      <td>166795.814</td>\n",
       "      <td>168567.936</td>\n",
       "    </tr>\n",
       "    <tr>\n",
       "      <th>2020-02-22</th>\n",
       "      <td>NaN</td>\n",
       "      <td>NaN</td>\n",
       "      <td>NaN</td>\n",
       "      <td>NaN</td>\n",
       "      <td>NaN</td>\n",
       "      <td>NaN</td>\n",
       "      <td>NaN</td>\n",
       "      <td>NaN</td>\n",
       "      <td>NaN</td>\n",
       "      <td>NaN</td>\n",
       "      <td>NaN</td>\n",
       "      <td>NaN</td>\n",
       "      <td>NaN</td>\n",
       "      <td>NaN</td>\n",
       "      <td>NaN</td>\n",
       "      <td>NaN</td>\n",
       "      <td>NaN</td>\n",
       "      <td>NaN</td>\n",
       "      <td>144424.897</td>\n",
       "      <td>144077.722</td>\n",
       "    </tr>\n",
       "    <tr>\n",
       "      <th>2020-02-23</th>\n",
       "      <td>NaN</td>\n",
       "      <td>NaN</td>\n",
       "      <td>NaN</td>\n",
       "      <td>NaN</td>\n",
       "      <td>NaN</td>\n",
       "      <td>NaN</td>\n",
       "      <td>NaN</td>\n",
       "      <td>NaN</td>\n",
       "      <td>NaN</td>\n",
       "      <td>NaN</td>\n",
       "      <td>NaN</td>\n",
       "      <td>NaN</td>\n",
       "      <td>NaN</td>\n",
       "      <td>NaN</td>\n",
       "      <td>NaN</td>\n",
       "      <td>NaN</td>\n",
       "      <td>NaN</td>\n",
       "      <td>NaN</td>\n",
       "      <td>138142.960</td>\n",
       "      <td>133974.435</td>\n",
       "    </tr>\n",
       "  </tbody>\n",
       "</table>\n",
       "</div>"
      ],
      "text/plain": [
       "            Pruebas  Incidentes   H  H_UCI  Defunciones  Asint_H_<45  \\\n",
       "Fecha                                                                  \n",
       "2020-02-21      NaN         NaN NaN    NaN          NaN          NaN   \n",
       "2020-02-22      NaN         NaN NaN    NaN          NaN          NaN   \n",
       "2020-02-23      NaN         NaN NaN    NaN          NaN          NaN   \n",
       "\n",
       "            Asint_H_45a64  Asint_H_+65  Sint_H_<45  Sint_H_45a64  Sint_H_+65  \\\n",
       "Fecha                                                                          \n",
       "2020-02-21            NaN          NaN         NaN           NaN         NaN   \n",
       "2020-02-22            NaN          NaN         NaN           NaN         NaN   \n",
       "2020-02-23            NaN          NaN         NaN           NaN         NaN   \n",
       "\n",
       "            Asint_M_<45  Asint_M_45a64  Asint_M_+65  Sint_M_<45  Sint_M_45a64  \\\n",
       "Fecha                                                                           \n",
       "2020-02-21          NaN            NaN          NaN         NaN           NaN   \n",
       "2020-02-22          NaN            NaN          NaN         NaN           NaN   \n",
       "2020-02-23          NaN            NaN          NaN         NaN           NaN   \n",
       "\n",
       "            Sint_M_+65  Asintomaticos    Entradas     Salidas  \n",
       "Fecha                                                          \n",
       "2020-02-21         NaN            NaN  166795.814  168567.936  \n",
       "2020-02-22         NaN            NaN  144424.897  144077.722  \n",
       "2020-02-23         NaN            NaN  138142.960  133974.435  "
      ]
     },
     "execution_count": 23,
     "metadata": {},
     "output_type": "execute_result"
    }
   ],
   "source": [
    "df_final_mitma.head(3)"
   ]
  },
  {
   "cell_type": "markdown",
   "metadata": {},
   "source": [
    "Contamos de nuevo las filas y el número de missing values"
   ]
  },
  {
   "cell_type": "code",
   "execution_count": 24,
   "metadata": {},
   "outputs": [
    {
     "data": {
      "text/plain": [
       "(399, 20)"
      ]
     },
     "execution_count": 24,
     "metadata": {},
     "output_type": "execute_result"
    }
   ],
   "source": [
    "df_final_mitma.shape"
   ]
  },
  {
   "cell_type": "code",
   "execution_count": 25,
   "metadata": {},
   "outputs": [
    {
     "data": {
      "text/plain": [
       "Pruebas          16\n",
       "Incidentes       16\n",
       "H                16\n",
       "H_UCI            16\n",
       "Defunciones      16\n",
       "Asint_H_<45      16\n",
       "Asint_H_45a64    16\n",
       "Asint_H_+65      16\n",
       "Sint_H_<45       16\n",
       "Sint_H_45a64     16\n",
       "Sint_H_+65       16\n",
       "Asint_M_<45      16\n",
       "Asint_M_45a64    16\n",
       "Asint_M_+65      16\n",
       "Sint_M_<45       16\n",
       "Sint_M_45a64     16\n",
       "Sint_M_+65       16\n",
       "Asintomaticos    16\n",
       "Entradas         25\n",
       "Salidas          25\n",
       "dtype: int64"
      ]
     },
     "execution_count": 25,
     "metadata": {},
     "output_type": "execute_result"
    }
   ],
   "source": [
    "df_final_mitma.isna().sum()"
   ]
  },
  {
   "cell_type": "markdown",
   "metadata": {},
   "source": [
    "## Visualicación series (bucle)"
   ]
  },
  {
   "cell_type": "code",
   "execution_count": 26,
   "metadata": {},
   "outputs": [
    {
     "data": {
      "image/png": "[encoded data removed]",
      "text/plain": [
       "<Figure size 432x288 with 20 Axes>"
      ]
     },
     "metadata": {},
     "output_type": "display_data"
    }
   ],
   "source": [
    "num = 0\n",
    "\n",
    "# Initialize the figure style\n",
    "plt.style.use('seaborn-white')\n",
    " \n",
    "# create a color palette\n",
    "\n",
    "palette = plt.get_cmap('prism')\n",
    "\n",
    "for column in df_final_mitma:\n",
    "    \n",
    "    num = num + 1\n",
    " \n",
    "    # Find the right spot on the plot\n",
    "    plt.subplot(5,4, num)\n",
    " \n",
    "    if \"Salidas\" in column or \"Entradas\" in column:\n",
    "        serie = df_final_mitma[column]\n",
    "        serie.plot(style = '.', color = palette(num), linewidth = 0.8, alpha = 0.9, label = column)\n",
    "    else:\n",
    "        # Plot the lineplot\n",
    "        plt.plot(df_final_mitma[column], marker = '', color = palette(num), linewidth = 0.8, alpha = 0.9, label = column)\n",
    "\n",
    "    # Add title\n",
    "    plt.title(column, loc ='center', fontsize = 12, fontweight = 0, color = palette(num))\n",
    "\n",
    "plt.subplots_adjust(left = 0.01, right = 4, top = 5, bottom = 0.01, hspace = 0.2, wspace = 0.2)\n",
    "\n",
    "\n",
    "# Show the graph\n",
    "plt.show()"
   ]
  },
  {
   "cell_type": "markdown",
   "metadata": {},
   "source": [
    "## Predictor"
   ]
  },
  {
   "cell_type": "code",
   "execution_count": null,
   "metadata": {},
   "outputs": [],
   "source": [
    "df_salud_murcia.isna().sum()"
   ]
  },
  {
   "cell_type": "code",
   "execution_count": null,
   "metadata": {},
   "outputs": [],
   "source": [
    "df_final_mitma.head(5)"
   ]
  },
  {
   "cell_type": "code",
   "execution_count": 11,
   "metadata": {},
   "outputs": [
    {
     "ename": "NameError",
     "evalue": "name 'df_final_mitma' is not defined",
     "output_type": "error",
     "traceback": [
      "\u001b[1;31m---------------------------------------------------------------------------\u001b[0m",
      "\u001b[1;31mNameError\u001b[0m                                 Traceback (most recent call last)",
      "\u001b[1;32m<ipython-input-11-706988db9c36>\u001b[0m in \u001b[0;36m<module>\u001b[1;34m\u001b[0m\n\u001b[1;32m----> 1\u001b[1;33m \u001b[0mdf_final_mitma\u001b[0m\u001b[1;33m[\u001b[0m\u001b[1;34m'Sintomaticos'\u001b[0m\u001b[1;33m]\u001b[0m \u001b[1;33m=\u001b[0m \u001b[0mdf_salud_murcia\u001b[0m\u001b[1;33m[\u001b[0m\u001b[1;34m'Sint_H_<45'\u001b[0m\u001b[1;33m]\u001b[0m \u001b[1;33m+\u001b[0m \u001b[0mdf_salud_murcia\u001b[0m\u001b[1;33m[\u001b[0m\u001b[1;34m'Sint_H_45a64'\u001b[0m\u001b[1;33m]\u001b[0m \u001b[1;33m+\u001b[0m \u001b[0mdf_salud_murcia\u001b[0m\u001b[1;33m[\u001b[0m\u001b[1;34m'Sint_H_+65'\u001b[0m\u001b[1;33m]\u001b[0m \u001b[1;33m+\u001b[0m \u001b[0mdf_salud_murcia\u001b[0m\u001b[1;33m[\u001b[0m\u001b[1;34m'Sint_M_<45'\u001b[0m\u001b[1;33m]\u001b[0m \u001b[1;33m+\u001b[0m \u001b[0mdf_salud_murcia\u001b[0m\u001b[1;33m[\u001b[0m\u001b[1;34m'Sint_M_45a64'\u001b[0m\u001b[1;33m]\u001b[0m \u001b[1;33m+\u001b[0m \u001b[0mdf_salud_murcia\u001b[0m\u001b[1;33m[\u001b[0m\u001b[1;34m'Sint_M_+65'\u001b[0m\u001b[1;33m]\u001b[0m\u001b[1;33m\u001b[0m\u001b[1;33m\u001b[0m\u001b[0m\n\u001b[0m\u001b[0;32m      2\u001b[0m \u001b[0mdf_final_mitma\u001b[0m \u001b[1;33m=\u001b[0m \u001b[0mdf_final_mitma\u001b[0m\u001b[1;33m.\u001b[0m\u001b[0mdrop\u001b[0m\u001b[1;33m(\u001b[0m\u001b[1;33m[\u001b[0m\u001b[1;34m'Asint_H_<45'\u001b[0m\u001b[1;33m,\u001b[0m \u001b[1;34m'Asint_H_45a64'\u001b[0m\u001b[1;33m,\u001b[0m \u001b[1;34m'Asint_H_+65'\u001b[0m\u001b[1;33m,\u001b[0m \u001b[1;34m'Asint_M_<45'\u001b[0m\u001b[1;33m,\u001b[0m \u001b[1;34m'Asint_M_45a64'\u001b[0m\u001b[1;33m,\u001b[0m \u001b[1;34m'Asint_M_+65'\u001b[0m\u001b[1;33m,\u001b[0m \u001b[1;34m'Sint_H_<45'\u001b[0m\u001b[1;33m,\u001b[0m \u001b[1;34m'Sint_H_45a64'\u001b[0m\u001b[1;33m,\u001b[0m \u001b[1;34m'Sint_H_+65'\u001b[0m\u001b[1;33m,\u001b[0m \u001b[1;34m'Sint_M_<45'\u001b[0m\u001b[1;33m,\u001b[0m \u001b[1;34m'Sint_M_45a64'\u001b[0m\u001b[1;33m,\u001b[0m \u001b[1;34m'Sint_M_+65'\u001b[0m\u001b[1;33m]\u001b[0m\u001b[1;33m,\u001b[0m \u001b[0maxis\u001b[0m\u001b[1;33m=\u001b[0m\u001b[1;36m1\u001b[0m\u001b[1;33m)\u001b[0m\u001b[1;33m\u001b[0m\u001b[1;33m\u001b[0m\u001b[0m\n\u001b[0;32m      3\u001b[0m \u001b[0mdf_final_mitma\u001b[0m\u001b[1;33m.\u001b[0m\u001b[0mhead\u001b[0m\u001b[1;33m(\u001b[0m\u001b[1;36m3\u001b[0m\u001b[1;33m)\u001b[0m\u001b[1;33m\u001b[0m\u001b[1;33m\u001b[0m\u001b[0m\n",
      "\u001b[1;31mNameError\u001b[0m: name 'df_final_mitma' is not defined"
     ]
    }
   ],
   "source": [
    "df_final_mitma['Sintomaticos'] = df_salud_murcia['Sint_H_<45'] + df_salud_murcia['Sint_H_45a64'] + df_salud_murcia['Sint_H_+65'] + df_salud_murcia['Sint_M_<45'] + df_salud_murcia['Sint_M_45a64'] + df_salud_murcia['Sint_M_+65']\n",
    "df_final_mitma = df_final_mitma.drop(['Asint_H_<45', 'Asint_H_45a64', 'Asint_H_+65', 'Asint_M_<45', 'Asint_M_45a64', 'Asint_M_+65', 'Sint_H_<45', 'Sint_H_45a64', 'Sint_H_+65', 'Sint_M_<45', 'Sint_M_45a64', 'Sint_M_+65'], axis=1)\n",
    "df_final_mitma.head(3)"
   ]
  },
  {
   "cell_type": "code",
   "execution_count": null,
   "metadata": {},
   "outputs": [],
   "source": [
    "df_final_mitma.to_csv(path_or_buf = '../Datos_preprocesados/datos_mitma_final.csv')"
   ]
  },
  {
   "cell_type": "code",
   "execution_count": null,
   "metadata": {},
   "outputs": [],
   "source": [
    "df_predictor = df_final_mitma.copy()\n",
    "columnas = df_predictor.columns\n",
    "#columnas = columnas.drop(\"Incidentes\")\n",
    "lista = []\n",
    "# Añadimos lag a todas las series excepto a Incidentes, que es la que queremos predecir\n",
    "for c in columnas:\n",
    "    datos = pd.DataFrame(df_predictor[c].values, index = df_predictor.index)\n",
    "    for i in [3,2,1]:\n",
    "        df_predictor.insert(len(df_predictor.columns), c+' t-'+str(i),datos.shift(i))\n",
    "        lista.append(df_predictor.columns)\n",
    "\n",
    "columnas = columnas.drop(\"Incidentes\")\n",
    "df_predictor = df_predictor.drop(columnas, axis=1)"
   ]
  },
  {
   "cell_type": "code",
   "execution_count": null,
   "metadata": {},
   "outputs": [],
   "source": [
    "df_predictor.head(4)"
   ]
  },
  {
   "cell_type": "code",
   "execution_count": null,
   "metadata": {},
   "outputs": [],
   "source": [
    "df_predictor.shape"
   ]
  },
  {
   "cell_type": "code",
   "execution_count": null,
   "metadata": {},
   "outputs": [],
   "source": [
    "df_predictor.isna().sum()"
   ]
  },
  {
   "cell_type": "code",
   "execution_count": null,
   "metadata": {},
   "outputs": [],
   "source": [
    "df_predictor.dropna(axis = 0, inplace = True)\n",
    "df_predictor.head(3)"
   ]
  },
  {
   "cell_type": "code",
   "execution_count": null,
   "metadata": {},
   "outputs": [],
   "source": [
    "df_predictor.shape"
   ]
  },
  {
   "cell_type": "code",
   "execution_count": null,
   "metadata": {},
   "outputs": [],
   "source": [
    "df_predictor.to_csv(path_or_buf = '../Datos_preprocesados/predictor.csv')"
   ]
  },
  {
   "cell_type": "code",
   "execution_count": 2,
   "metadata": {},
   "outputs": [
    {
     "data": {
      "text/html": [
       "<div>\n",
       "<style scoped>\n",
       "    .dataframe tbody tr th:only-of-type {\n",
       "        vertical-align: middle;\n",
       "    }\n",
       "\n",
       "    .dataframe tbody tr th {\n",
       "        vertical-align: top;\n",
       "    }\n",
       "\n",
       "    .dataframe thead th {\n",
       "        text-align: right;\n",
       "    }\n",
       "</style>\n",
       "<table border=\"1\" class=\"dataframe\">\n",
       "  <thead>\n",
       "    <tr style=\"text-align: right;\">\n",
       "      <th></th>\n",
       "      <th>Incidentes</th>\n",
       "      <th>Pruebas t-3</th>\n",
       "      <th>Pruebas t-2</th>\n",
       "      <th>Pruebas t-1</th>\n",
       "      <th>Incidentes t-3</th>\n",
       "      <th>Incidentes t-2</th>\n",
       "      <th>Incidentes t-1</th>\n",
       "      <th>H t-3</th>\n",
       "      <th>H t-2</th>\n",
       "      <th>H t-1</th>\n",
       "      <th>...</th>\n",
       "      <th>Asintomaticos t-1</th>\n",
       "      <th>Entradas t-3</th>\n",
       "      <th>Entradas t-2</th>\n",
       "      <th>Entradas t-1</th>\n",
       "      <th>Salidas t-3</th>\n",
       "      <th>Salidas t-2</th>\n",
       "      <th>Salidas t-1</th>\n",
       "      <th>Sintomaticos t-3</th>\n",
       "      <th>Sintomaticos t-2</th>\n",
       "      <th>Sintomaticos t-1</th>\n",
       "    </tr>\n",
       "    <tr>\n",
       "      <th>Fecha</th>\n",
       "      <th></th>\n",
       "      <th></th>\n",
       "      <th></th>\n",
       "      <th></th>\n",
       "      <th></th>\n",
       "      <th></th>\n",
       "      <th></th>\n",
       "      <th></th>\n",
       "      <th></th>\n",
       "      <th></th>\n",
       "      <th></th>\n",
       "      <th></th>\n",
       "      <th></th>\n",
       "      <th></th>\n",
       "      <th></th>\n",
       "      <th></th>\n",
       "      <th></th>\n",
       "      <th></th>\n",
       "      <th></th>\n",
       "      <th></th>\n",
       "      <th></th>\n",
       "    </tr>\n",
       "  </thead>\n",
       "  <tbody>\n",
       "    <tr>\n",
       "      <th>2020-03-11</th>\n",
       "      <td>12.0</td>\n",
       "      <td>130.0</td>\n",
       "      <td>21.0</td>\n",
       "      <td>39.0</td>\n",
       "      <td>1.0</td>\n",
       "      <td>3.0</td>\n",
       "      <td>6.0</td>\n",
       "      <td>0.0</td>\n",
       "      <td>0.0</td>\n",
       "      <td>0.0</td>\n",
       "      <td>...</td>\n",
       "      <td>0.0</td>\n",
       "      <td>233114.055</td>\n",
       "      <td>312749.656</td>\n",
       "      <td>315375.300</td>\n",
       "      <td>226284.440</td>\n",
       "      <td>309733.557</td>\n",
       "      <td>315520.132</td>\n",
       "      <td>1.0</td>\n",
       "      <td>4.0</td>\n",
       "      <td>4.0</td>\n",
       "    </tr>\n",
       "    <tr>\n",
       "      <th>2020-03-12</th>\n",
       "      <td>9.0</td>\n",
       "      <td>21.0</td>\n",
       "      <td>39.0</td>\n",
       "      <td>116.0</td>\n",
       "      <td>3.0</td>\n",
       "      <td>6.0</td>\n",
       "      <td>12.0</td>\n",
       "      <td>0.0</td>\n",
       "      <td>0.0</td>\n",
       "      <td>0.0</td>\n",
       "      <td>...</td>\n",
       "      <td>2.0</td>\n",
       "      <td>312749.656</td>\n",
       "      <td>315375.300</td>\n",
       "      <td>317101.141</td>\n",
       "      <td>309733.557</td>\n",
       "      <td>315520.132</td>\n",
       "      <td>318225.510</td>\n",
       "      <td>4.0</td>\n",
       "      <td>4.0</td>\n",
       "      <td>10.0</td>\n",
       "    </tr>\n",
       "    <tr>\n",
       "      <th>2020-03-13</th>\n",
       "      <td>12.0</td>\n",
       "      <td>39.0</td>\n",
       "      <td>116.0</td>\n",
       "      <td>136.0</td>\n",
       "      <td>6.0</td>\n",
       "      <td>12.0</td>\n",
       "      <td>9.0</td>\n",
       "      <td>0.0</td>\n",
       "      <td>0.0</td>\n",
       "      <td>4.0</td>\n",
       "      <td>...</td>\n",
       "      <td>5.0</td>\n",
       "      <td>315375.300</td>\n",
       "      <td>317101.141</td>\n",
       "      <td>300505.264</td>\n",
       "      <td>315520.132</td>\n",
       "      <td>318225.510</td>\n",
       "      <td>306428.780</td>\n",
       "      <td>4.0</td>\n",
       "      <td>10.0</td>\n",
       "      <td>7.0</td>\n",
       "    </tr>\n",
       "    <tr>\n",
       "      <th>2020-03-14</th>\n",
       "      <td>23.0</td>\n",
       "      <td>116.0</td>\n",
       "      <td>136.0</td>\n",
       "      <td>228.0</td>\n",
       "      <td>12.0</td>\n",
       "      <td>9.0</td>\n",
       "      <td>12.0</td>\n",
       "      <td>0.0</td>\n",
       "      <td>4.0</td>\n",
       "      <td>8.0</td>\n",
       "      <td>...</td>\n",
       "      <td>3.0</td>\n",
       "      <td>317101.141</td>\n",
       "      <td>300505.264</td>\n",
       "      <td>269382.076</td>\n",
       "      <td>318225.510</td>\n",
       "      <td>306428.780</td>\n",
       "      <td>278294.481</td>\n",
       "      <td>10.0</td>\n",
       "      <td>7.0</td>\n",
       "      <td>9.0</td>\n",
       "    </tr>\n",
       "    <tr>\n",
       "      <th>2020-03-15</th>\n",
       "      <td>18.0</td>\n",
       "      <td>136.0</td>\n",
       "      <td>228.0</td>\n",
       "      <td>196.0</td>\n",
       "      <td>9.0</td>\n",
       "      <td>12.0</td>\n",
       "      <td>23.0</td>\n",
       "      <td>4.0</td>\n",
       "      <td>8.0</td>\n",
       "      <td>8.0</td>\n",
       "      <td>...</td>\n",
       "      <td>5.0</td>\n",
       "      <td>300505.264</td>\n",
       "      <td>269382.076</td>\n",
       "      <td>147957.126</td>\n",
       "      <td>306428.780</td>\n",
       "      <td>278294.481</td>\n",
       "      <td>151130.656</td>\n",
       "      <td>7.0</td>\n",
       "      <td>9.0</td>\n",
       "      <td>19.0</td>\n",
       "    </tr>\n",
       "  </tbody>\n",
       "</table>\n",
       "<p>5 rows × 28 columns</p>\n",
       "</div>"
      ],
      "text/plain": [
       "            Incidentes  Pruebas t-3  Pruebas t-2  Pruebas t-1  Incidentes t-3  \\\n",
       "Fecha                                                                           \n",
       "2020-03-11        12.0        130.0         21.0         39.0             1.0   \n",
       "2020-03-12         9.0         21.0         39.0        116.0             3.0   \n",
       "2020-03-13        12.0         39.0        116.0        136.0             6.0   \n",
       "2020-03-14        23.0        116.0        136.0        228.0            12.0   \n",
       "2020-03-15        18.0        136.0        228.0        196.0             9.0   \n",
       "\n",
       "            Incidentes t-2  Incidentes t-1  H t-3  H t-2  H t-1  ...  \\\n",
       "Fecha                                                            ...   \n",
       "2020-03-11             3.0             6.0    0.0    0.0    0.0  ...   \n",
       "2020-03-12             6.0            12.0    0.0    0.0    0.0  ...   \n",
       "2020-03-13            12.0             9.0    0.0    0.0    4.0  ...   \n",
       "2020-03-14             9.0            12.0    0.0    4.0    8.0  ...   \n",
       "2020-03-15            12.0            23.0    4.0    8.0    8.0  ...   \n",
       "\n",
       "            Asintomaticos t-1  Entradas t-3  Entradas t-2  Entradas t-1  \\\n",
       "Fecha                                                                     \n",
       "2020-03-11                0.0    233114.055    312749.656    315375.300   \n",
       "2020-03-12                2.0    312749.656    315375.300    317101.141   \n",
       "2020-03-13                5.0    315375.300    317101.141    300505.264   \n",
       "2020-03-14                3.0    317101.141    300505.264    269382.076   \n",
       "2020-03-15                5.0    300505.264    269382.076    147957.126   \n",
       "\n",
       "            Salidas t-3  Salidas t-2  Salidas t-1  Sintomaticos t-3  \\\n",
       "Fecha                                                                 \n",
       "2020-03-11   226284.440   309733.557   315520.132               1.0   \n",
       "2020-03-12   309733.557   315520.132   318225.510               4.0   \n",
       "2020-03-13   315520.132   318225.510   306428.780               4.0   \n",
       "2020-03-14   318225.510   306428.780   278294.481              10.0   \n",
       "2020-03-15   306428.780   278294.481   151130.656               7.0   \n",
       "\n",
       "            Sintomaticos t-2  Sintomaticos t-1  \n",
       "Fecha                                           \n",
       "2020-03-11               4.0               4.0  \n",
       "2020-03-12               4.0              10.0  \n",
       "2020-03-13              10.0               7.0  \n",
       "2020-03-14               7.0               9.0  \n",
       "2020-03-15               9.0              19.0  \n",
       "\n",
       "[5 rows x 28 columns]"
      ]
     },
     "execution_count": 2,
     "metadata": {},
     "output_type": "execute_result"
    }
   ],
   "source": [
    "df_predictor = read_csv('../Datos_preprocesados/predictor.csv', encoding='latin-1', sep = ',', na_values = ['NaN', 'NaT'])\n",
    "df_predictor = df_predictor.set_index('Fecha')\n",
    "df_predictor.head(5)"
   ]
  },
  {
   "cell_type": "markdown",
   "metadata": {},
   "source": [
    "## Predictor sin movilidad"
   ]
  },
  {
   "cell_type": "code",
   "execution_count": 12,
   "metadata": {},
   "outputs": [
    {
     "data": {
      "text/html": [
       "<div>\n",
       "<style scoped>\n",
       "    .dataframe tbody tr th:only-of-type {\n",
       "        vertical-align: middle;\n",
       "    }\n",
       "\n",
       "    .dataframe tbody tr th {\n",
       "        vertical-align: top;\n",
       "    }\n",
       "\n",
       "    .dataframe thead th {\n",
       "        text-align: right;\n",
       "    }\n",
       "</style>\n",
       "<table border=\"1\" class=\"dataframe\">\n",
       "  <thead>\n",
       "    <tr style=\"text-align: right;\">\n",
       "      <th></th>\n",
       "      <th>Pruebas</th>\n",
       "      <th>Incidentes</th>\n",
       "      <th>H</th>\n",
       "      <th>H_UCI</th>\n",
       "      <th>Defunciones</th>\n",
       "      <th>Asint_H_&lt;45</th>\n",
       "      <th>Asint_H_45a64</th>\n",
       "      <th>Asint_H_+65</th>\n",
       "      <th>Sint_H_&lt;45</th>\n",
       "      <th>Sint_H_45a64</th>\n",
       "      <th>Sint_H_+65</th>\n",
       "      <th>Asint_M_&lt;45</th>\n",
       "      <th>Asint_M_45a64</th>\n",
       "      <th>Asint_M_+65</th>\n",
       "      <th>Sint_M_&lt;45</th>\n",
       "      <th>Sint_M_45a64</th>\n",
       "      <th>Sint_M_+65</th>\n",
       "      <th>Asintomaticos</th>\n",
       "    </tr>\n",
       "    <tr>\n",
       "      <th>Fecha</th>\n",
       "      <th></th>\n",
       "      <th></th>\n",
       "      <th></th>\n",
       "      <th></th>\n",
       "      <th></th>\n",
       "      <th></th>\n",
       "      <th></th>\n",
       "      <th></th>\n",
       "      <th></th>\n",
       "      <th></th>\n",
       "      <th></th>\n",
       "      <th></th>\n",
       "      <th></th>\n",
       "      <th></th>\n",
       "      <th></th>\n",
       "      <th></th>\n",
       "      <th></th>\n",
       "      <th></th>\n",
       "    </tr>\n",
       "  </thead>\n",
       "  <tbody>\n",
       "    <tr>\n",
       "      <th>2020-03-08</th>\n",
       "      <td>130.0</td>\n",
       "      <td>1.0</td>\n",
       "      <td>0.0</td>\n",
       "      <td>0.0</td>\n",
       "      <td>0.0</td>\n",
       "      <td>1.0</td>\n",
       "      <td>0.0</td>\n",
       "      <td>0.0</td>\n",
       "      <td>0.0</td>\n",
       "      <td>0.0</td>\n",
       "      <td>0.0</td>\n",
       "      <td>1.0</td>\n",
       "      <td>0.0</td>\n",
       "      <td>0.0</td>\n",
       "      <td>1.0</td>\n",
       "      <td>0.0</td>\n",
       "      <td>0.0</td>\n",
       "      <td>2.0</td>\n",
       "    </tr>\n",
       "    <tr>\n",
       "      <th>2020-03-09</th>\n",
       "      <td>21.0</td>\n",
       "      <td>3.0</td>\n",
       "      <td>0.0</td>\n",
       "      <td>0.0</td>\n",
       "      <td>0.0</td>\n",
       "      <td>0.0</td>\n",
       "      <td>0.0</td>\n",
       "      <td>0.0</td>\n",
       "      <td>0.0</td>\n",
       "      <td>1.0</td>\n",
       "      <td>0.0</td>\n",
       "      <td>0.0</td>\n",
       "      <td>0.0</td>\n",
       "      <td>0.0</td>\n",
       "      <td>3.0</td>\n",
       "      <td>0.0</td>\n",
       "      <td>0.0</td>\n",
       "      <td>0.0</td>\n",
       "    </tr>\n",
       "    <tr>\n",
       "      <th>2020-03-10</th>\n",
       "      <td>39.0</td>\n",
       "      <td>6.0</td>\n",
       "      <td>0.0</td>\n",
       "      <td>0.0</td>\n",
       "      <td>0.0</td>\n",
       "      <td>0.0</td>\n",
       "      <td>0.0</td>\n",
       "      <td>0.0</td>\n",
       "      <td>1.0</td>\n",
       "      <td>0.0</td>\n",
       "      <td>1.0</td>\n",
       "      <td>0.0</td>\n",
       "      <td>0.0</td>\n",
       "      <td>0.0</td>\n",
       "      <td>2.0</td>\n",
       "      <td>0.0</td>\n",
       "      <td>0.0</td>\n",
       "      <td>0.0</td>\n",
       "    </tr>\n",
       "  </tbody>\n",
       "</table>\n",
       "</div>"
      ],
      "text/plain": [
       "            Pruebas  Incidentes    H  H_UCI  Defunciones  Asint_H_<45  \\\n",
       "Fecha                                                                   \n",
       "2020-03-08    130.0         1.0  0.0    0.0          0.0          1.0   \n",
       "2020-03-09     21.0         3.0  0.0    0.0          0.0          0.0   \n",
       "2020-03-10     39.0         6.0  0.0    0.0          0.0          0.0   \n",
       "\n",
       "            Asint_H_45a64  Asint_H_+65  Sint_H_<45  Sint_H_45a64  Sint_H_+65  \\\n",
       "Fecha                                                                          \n",
       "2020-03-08            0.0          0.0         0.0           0.0         0.0   \n",
       "2020-03-09            0.0          0.0         0.0           1.0         0.0   \n",
       "2020-03-10            0.0          0.0         1.0           0.0         1.0   \n",
       "\n",
       "            Asint_M_<45  Asint_M_45a64  Asint_M_+65  Sint_M_<45  Sint_M_45a64  \\\n",
       "Fecha                                                                           \n",
       "2020-03-08          1.0            0.0          0.0         1.0           0.0   \n",
       "2020-03-09          0.0            0.0          0.0         3.0           0.0   \n",
       "2020-03-10          0.0            0.0          0.0         2.0           0.0   \n",
       "\n",
       "            Sint_M_+65  Asintomaticos  \n",
       "Fecha                                  \n",
       "2020-03-08         0.0            2.0  \n",
       "2020-03-09         0.0            0.0  \n",
       "2020-03-10         0.0            0.0  "
      ]
     },
     "execution_count": 12,
     "metadata": {},
     "output_type": "execute_result"
    }
   ],
   "source": [
    "sin_mov = read_csv('../Datos_preprocesados/datos_murcia_mas_asintomaticos.csv', encoding='latin-1', sep = ',', na_values = ['NaN', 'NaT'])\n",
    "sin_mov = sin_mov.set_index('Fecha')\n",
    "sin_mov.head(3)"
   ]
  },
  {
   "cell_type": "code",
   "execution_count": 13,
   "metadata": {},
   "outputs": [
    {
     "data": {
      "text/html": [
       "<div>\n",
       "<style scoped>\n",
       "    .dataframe tbody tr th:only-of-type {\n",
       "        vertical-align: middle;\n",
       "    }\n",
       "\n",
       "    .dataframe tbody tr th {\n",
       "        vertical-align: top;\n",
       "    }\n",
       "\n",
       "    .dataframe thead th {\n",
       "        text-align: right;\n",
       "    }\n",
       "</style>\n",
       "<table border=\"1\" class=\"dataframe\">\n",
       "  <thead>\n",
       "    <tr style=\"text-align: right;\">\n",
       "      <th></th>\n",
       "      <th>Pruebas</th>\n",
       "      <th>Incidentes</th>\n",
       "      <th>H</th>\n",
       "      <th>H_UCI</th>\n",
       "      <th>Defunciones</th>\n",
       "      <th>Asintomaticos</th>\n",
       "      <th>Sintomaticos</th>\n",
       "    </tr>\n",
       "    <tr>\n",
       "      <th>Fecha</th>\n",
       "      <th></th>\n",
       "      <th></th>\n",
       "      <th></th>\n",
       "      <th></th>\n",
       "      <th></th>\n",
       "      <th></th>\n",
       "      <th></th>\n",
       "    </tr>\n",
       "  </thead>\n",
       "  <tbody>\n",
       "    <tr>\n",
       "      <th>2020-03-08</th>\n",
       "      <td>130.0</td>\n",
       "      <td>1.0</td>\n",
       "      <td>0.0</td>\n",
       "      <td>0.0</td>\n",
       "      <td>0.0</td>\n",
       "      <td>2.0</td>\n",
       "      <td>1.0</td>\n",
       "    </tr>\n",
       "    <tr>\n",
       "      <th>2020-03-09</th>\n",
       "      <td>21.0</td>\n",
       "      <td>3.0</td>\n",
       "      <td>0.0</td>\n",
       "      <td>0.0</td>\n",
       "      <td>0.0</td>\n",
       "      <td>0.0</td>\n",
       "      <td>4.0</td>\n",
       "    </tr>\n",
       "    <tr>\n",
       "      <th>2020-03-10</th>\n",
       "      <td>39.0</td>\n",
       "      <td>6.0</td>\n",
       "      <td>0.0</td>\n",
       "      <td>0.0</td>\n",
       "      <td>0.0</td>\n",
       "      <td>0.0</td>\n",
       "      <td>4.0</td>\n",
       "    </tr>\n",
       "  </tbody>\n",
       "</table>\n",
       "</div>"
      ],
      "text/plain": [
       "            Pruebas  Incidentes    H  H_UCI  Defunciones  Asintomaticos  \\\n",
       "Fecha                                                                     \n",
       "2020-03-08    130.0         1.0  0.0    0.0          0.0            2.0   \n",
       "2020-03-09     21.0         3.0  0.0    0.0          0.0            0.0   \n",
       "2020-03-10     39.0         6.0  0.0    0.0          0.0            0.0   \n",
       "\n",
       "            Sintomaticos  \n",
       "Fecha                     \n",
       "2020-03-08           1.0  \n",
       "2020-03-09           4.0  \n",
       "2020-03-10           4.0  "
      ]
     },
     "execution_count": 13,
     "metadata": {},
     "output_type": "execute_result"
    }
   ],
   "source": [
    "sin_mov['Sintomaticos'] = df_salud_murcia['Sint_H_<45'] + df_salud_murcia['Sint_H_45a64'] + df_salud_murcia['Sint_H_+65'] + df_salud_murcia['Sint_M_<45'] + df_salud_murcia['Sint_M_45a64'] + df_salud_murcia['Sint_M_+65']\n",
    "sin_mov = sin_mov.drop(['Asint_H_<45', 'Asint_H_45a64', 'Asint_H_+65', 'Asint_M_<45', 'Asint_M_45a64', 'Asint_M_+65', 'Sint_H_<45', 'Sint_H_45a64', 'Sint_H_+65', 'Sint_M_<45', 'Sint_M_45a64', 'Sint_M_+65'], axis=1)\n",
    "sin_mov.head(3)"
   ]
  },
  {
   "cell_type": "code",
   "execution_count": 14,
   "metadata": {},
   "outputs": [],
   "source": [
    "pred_sin_mov = sin_mov.copy()\n",
    "columnas = pred_sin_mov.columns\n",
    "#columnas = columnas.drop(\"Incidentes\")\n",
    "lista = []\n",
    "# Añadimos lag a todas las series excepto a Incidentes, que es la que queremos predecir\n",
    "for c in columnas:\n",
    "    datos = pd.DataFrame(pred_sin_mov[c].values, index = pred_sin_mov.index)\n",
    "    for i in [3,2,1]:\n",
    "        pred_sin_mov.insert(len(pred_sin_mov.columns), c+' t-'+str(i),datos.shift(i))\n",
    "        lista.append(pred_sin_mov.columns)\n",
    "\n",
    "columnas = columnas.drop(\"Incidentes\")\n",
    "pred_sin_mov = pred_sin_mov.drop(columnas, axis=1)"
   ]
  },
  {
   "cell_type": "code",
   "execution_count": 33,
   "metadata": {},
   "outputs": [
    {
     "data": {
      "text/html": [
       "<div>\n",
       "<style scoped>\n",
       "    .dataframe tbody tr th:only-of-type {\n",
       "        vertical-align: middle;\n",
       "    }\n",
       "\n",
       "    .dataframe tbody tr th {\n",
       "        vertical-align: top;\n",
       "    }\n",
       "\n",
       "    .dataframe thead th {\n",
       "        text-align: right;\n",
       "    }\n",
       "</style>\n",
       "<table border=\"1\" class=\"dataframe\">\n",
       "  <thead>\n",
       "    <tr style=\"text-align: right;\">\n",
       "      <th></th>\n",
       "      <th>Incidentes</th>\n",
       "      <th>Pruebas t-3</th>\n",
       "      <th>Pruebas t-2</th>\n",
       "      <th>Pruebas t-1</th>\n",
       "      <th>Incidentes t-3</th>\n",
       "      <th>Incidentes t-2</th>\n",
       "      <th>Incidentes t-1</th>\n",
       "      <th>H t-3</th>\n",
       "      <th>H t-2</th>\n",
       "      <th>H t-1</th>\n",
       "      <th>...</th>\n",
       "      <th>H_UCI t-1</th>\n",
       "      <th>Defunciones t-3</th>\n",
       "      <th>Defunciones t-2</th>\n",
       "      <th>Defunciones t-1</th>\n",
       "      <th>Asintomaticos t-3</th>\n",
       "      <th>Asintomaticos t-2</th>\n",
       "      <th>Asintomaticos t-1</th>\n",
       "      <th>Sintomaticos t-3</th>\n",
       "      <th>Sintomaticos t-2</th>\n",
       "      <th>Sintomaticos t-1</th>\n",
       "    </tr>\n",
       "    <tr>\n",
       "      <th>Fecha</th>\n",
       "      <th></th>\n",
       "      <th></th>\n",
       "      <th></th>\n",
       "      <th></th>\n",
       "      <th></th>\n",
       "      <th></th>\n",
       "      <th></th>\n",
       "      <th></th>\n",
       "      <th></th>\n",
       "      <th></th>\n",
       "      <th></th>\n",
       "      <th></th>\n",
       "      <th></th>\n",
       "      <th></th>\n",
       "      <th></th>\n",
       "      <th></th>\n",
       "      <th></th>\n",
       "      <th></th>\n",
       "      <th></th>\n",
       "      <th></th>\n",
       "      <th></th>\n",
       "    </tr>\n",
       "  </thead>\n",
       "  <tbody>\n",
       "    <tr>\n",
       "      <th>2020-03-11</th>\n",
       "      <td>12.0</td>\n",
       "      <td>130.0</td>\n",
       "      <td>21.0</td>\n",
       "      <td>39.0</td>\n",
       "      <td>1.0</td>\n",
       "      <td>3.0</td>\n",
       "      <td>6.0</td>\n",
       "      <td>0.0</td>\n",
       "      <td>0.0</td>\n",
       "      <td>0.0</td>\n",
       "      <td>...</td>\n",
       "      <td>0.0</td>\n",
       "      <td>0.0</td>\n",
       "      <td>0.0</td>\n",
       "      <td>0.0</td>\n",
       "      <td>2.0</td>\n",
       "      <td>0.0</td>\n",
       "      <td>0.0</td>\n",
       "      <td>1.0</td>\n",
       "      <td>4.0</td>\n",
       "      <td>4.0</td>\n",
       "    </tr>\n",
       "    <tr>\n",
       "      <th>2020-03-12</th>\n",
       "      <td>9.0</td>\n",
       "      <td>21.0</td>\n",
       "      <td>39.0</td>\n",
       "      <td>116.0</td>\n",
       "      <td>3.0</td>\n",
       "      <td>6.0</td>\n",
       "      <td>12.0</td>\n",
       "      <td>0.0</td>\n",
       "      <td>0.0</td>\n",
       "      <td>0.0</td>\n",
       "      <td>...</td>\n",
       "      <td>0.0</td>\n",
       "      <td>0.0</td>\n",
       "      <td>0.0</td>\n",
       "      <td>0.0</td>\n",
       "      <td>0.0</td>\n",
       "      <td>0.0</td>\n",
       "      <td>2.0</td>\n",
       "      <td>4.0</td>\n",
       "      <td>4.0</td>\n",
       "      <td>10.0</td>\n",
       "    </tr>\n",
       "    <tr>\n",
       "      <th>2020-03-13</th>\n",
       "      <td>12.0</td>\n",
       "      <td>39.0</td>\n",
       "      <td>116.0</td>\n",
       "      <td>136.0</td>\n",
       "      <td>6.0</td>\n",
       "      <td>12.0</td>\n",
       "      <td>9.0</td>\n",
       "      <td>0.0</td>\n",
       "      <td>0.0</td>\n",
       "      <td>4.0</td>\n",
       "      <td>...</td>\n",
       "      <td>1.0</td>\n",
       "      <td>0.0</td>\n",
       "      <td>0.0</td>\n",
       "      <td>0.0</td>\n",
       "      <td>0.0</td>\n",
       "      <td>2.0</td>\n",
       "      <td>5.0</td>\n",
       "      <td>4.0</td>\n",
       "      <td>10.0</td>\n",
       "      <td>7.0</td>\n",
       "    </tr>\n",
       "  </tbody>\n",
       "</table>\n",
       "<p>3 rows × 22 columns</p>\n",
       "</div>"
      ],
      "text/plain": [
       "            Incidentes  Pruebas t-3  Pruebas t-2  Pruebas t-1  Incidentes t-3  \\\n",
       "Fecha                                                                           \n",
       "2020-03-11        12.0        130.0         21.0         39.0             1.0   \n",
       "2020-03-12         9.0         21.0         39.0        116.0             3.0   \n",
       "2020-03-13        12.0         39.0        116.0        136.0             6.0   \n",
       "\n",
       "            Incidentes t-2  Incidentes t-1  H t-3  H t-2  H t-1  ...  \\\n",
       "Fecha                                                            ...   \n",
       "2020-03-11             3.0             6.0    0.0    0.0    0.0  ...   \n",
       "2020-03-12             6.0            12.0    0.0    0.0    0.0  ...   \n",
       "2020-03-13            12.0             9.0    0.0    0.0    4.0  ...   \n",
       "\n",
       "            H_UCI t-1  Defunciones t-3  Defunciones t-2  Defunciones t-1  \\\n",
       "Fecha                                                                      \n",
       "2020-03-11        0.0              0.0              0.0              0.0   \n",
       "2020-03-12        0.0              0.0              0.0              0.0   \n",
       "2020-03-13        1.0              0.0              0.0              0.0   \n",
       "\n",
       "            Asintomaticos t-3  Asintomaticos t-2  Asintomaticos t-1  \\\n",
       "Fecha                                                                 \n",
       "2020-03-11                2.0                0.0                0.0   \n",
       "2020-03-12                0.0                0.0                2.0   \n",
       "2020-03-13                0.0                2.0                5.0   \n",
       "\n",
       "            Sintomaticos t-3  Sintomaticos t-2  Sintomaticos t-1  \n",
       "Fecha                                                             \n",
       "2020-03-11               1.0               4.0               4.0  \n",
       "2020-03-12               4.0               4.0              10.0  \n",
       "2020-03-13               4.0              10.0               7.0  \n",
       "\n",
       "[3 rows x 22 columns]"
      ]
     },
     "execution_count": 33,
     "metadata": {},
     "output_type": "execute_result"
    }
   ],
   "source": [
    "pred_sin_mov.dropna(axis = 0, inplace = True)\n",
    "pred_sin_mov.head(3)"
   ]
  },
  {
   "cell_type": "code",
   "execution_count": 34,
   "metadata": {},
   "outputs": [
    {
     "data": {
      "text/plain": [
       "(380, 22)"
      ]
     },
     "execution_count": 34,
     "metadata": {},
     "output_type": "execute_result"
    }
   ],
   "source": [
    "pred_sin_mov.shape"
   ]
  },
  {
   "cell_type": "code",
   "execution_count": 18,
   "metadata": {},
   "outputs": [],
   "source": [
    "pred_sin_mov.to_csv(path_or_buf = '../Datos_preprocesados/predictor_sin_mov.csv')"
   ]
  },
  {
   "cell_type": "code",
   "execution_count": 81,
   "metadata": {},
   "outputs": [
    {
     "data": {
      "text/html": [
       "<div>\n",
       "<style scoped>\n",
       "    .dataframe tbody tr th:only-of-type {\n",
       "        vertical-align: middle;\n",
       "    }\n",
       "\n",
       "    .dataframe tbody tr th {\n",
       "        vertical-align: top;\n",
       "    }\n",
       "\n",
       "    .dataframe thead th {\n",
       "        text-align: right;\n",
       "    }\n",
       "</style>\n",
       "<table border=\"1\" class=\"dataframe\">\n",
       "  <thead>\n",
       "    <tr style=\"text-align: right;\">\n",
       "      <th></th>\n",
       "      <th>Incidentes</th>\n",
       "      <th>Pruebas t-3</th>\n",
       "      <th>Pruebas t-2</th>\n",
       "      <th>Pruebas t-1</th>\n",
       "      <th>Incidentes t-3</th>\n",
       "      <th>Incidentes t-2</th>\n",
       "      <th>Incidentes t-1</th>\n",
       "      <th>H t-3</th>\n",
       "      <th>H t-2</th>\n",
       "      <th>H t-1</th>\n",
       "      <th>...</th>\n",
       "      <th>H_UCI t-1</th>\n",
       "      <th>Defunciones t-3</th>\n",
       "      <th>Defunciones t-2</th>\n",
       "      <th>Defunciones t-1</th>\n",
       "      <th>Asintomaticos t-3</th>\n",
       "      <th>Asintomaticos t-2</th>\n",
       "      <th>Asintomaticos t-1</th>\n",
       "      <th>Sintomaticos t-3</th>\n",
       "      <th>Sintomaticos t-2</th>\n",
       "      <th>Sintomaticos t-1</th>\n",
       "    </tr>\n",
       "    <tr>\n",
       "      <th>Fecha</th>\n",
       "      <th></th>\n",
       "      <th></th>\n",
       "      <th></th>\n",
       "      <th></th>\n",
       "      <th></th>\n",
       "      <th></th>\n",
       "      <th></th>\n",
       "      <th></th>\n",
       "      <th></th>\n",
       "      <th></th>\n",
       "      <th></th>\n",
       "      <th></th>\n",
       "      <th></th>\n",
       "      <th></th>\n",
       "      <th></th>\n",
       "      <th></th>\n",
       "      <th></th>\n",
       "      <th></th>\n",
       "      <th></th>\n",
       "      <th></th>\n",
       "      <th></th>\n",
       "    </tr>\n",
       "  </thead>\n",
       "  <tbody>\n",
       "    <tr>\n",
       "      <th>2020-03-11</th>\n",
       "      <td>12.0</td>\n",
       "      <td>130.0</td>\n",
       "      <td>21.0</td>\n",
       "      <td>39.0</td>\n",
       "      <td>1.0</td>\n",
       "      <td>3.0</td>\n",
       "      <td>6.0</td>\n",
       "      <td>0.0</td>\n",
       "      <td>0.0</td>\n",
       "      <td>0.0</td>\n",
       "      <td>...</td>\n",
       "      <td>0.0</td>\n",
       "      <td>0.0</td>\n",
       "      <td>0.0</td>\n",
       "      <td>0.0</td>\n",
       "      <td>2.0</td>\n",
       "      <td>0.0</td>\n",
       "      <td>0.0</td>\n",
       "      <td>1.0</td>\n",
       "      <td>4.0</td>\n",
       "      <td>4.0</td>\n",
       "    </tr>\n",
       "    <tr>\n",
       "      <th>2020-03-12</th>\n",
       "      <td>9.0</td>\n",
       "      <td>21.0</td>\n",
       "      <td>39.0</td>\n",
       "      <td>116.0</td>\n",
       "      <td>3.0</td>\n",
       "      <td>6.0</td>\n",
       "      <td>12.0</td>\n",
       "      <td>0.0</td>\n",
       "      <td>0.0</td>\n",
       "      <td>0.0</td>\n",
       "      <td>...</td>\n",
       "      <td>0.0</td>\n",
       "      <td>0.0</td>\n",
       "      <td>0.0</td>\n",
       "      <td>0.0</td>\n",
       "      <td>0.0</td>\n",
       "      <td>0.0</td>\n",
       "      <td>2.0</td>\n",
       "      <td>4.0</td>\n",
       "      <td>4.0</td>\n",
       "      <td>10.0</td>\n",
       "    </tr>\n",
       "    <tr>\n",
       "      <th>2020-03-13</th>\n",
       "      <td>12.0</td>\n",
       "      <td>39.0</td>\n",
       "      <td>116.0</td>\n",
       "      <td>136.0</td>\n",
       "      <td>6.0</td>\n",
       "      <td>12.0</td>\n",
       "      <td>9.0</td>\n",
       "      <td>0.0</td>\n",
       "      <td>0.0</td>\n",
       "      <td>4.0</td>\n",
       "      <td>...</td>\n",
       "      <td>1.0</td>\n",
       "      <td>0.0</td>\n",
       "      <td>0.0</td>\n",
       "      <td>0.0</td>\n",
       "      <td>0.0</td>\n",
       "      <td>2.0</td>\n",
       "      <td>5.0</td>\n",
       "      <td>4.0</td>\n",
       "      <td>10.0</td>\n",
       "      <td>7.0</td>\n",
       "    </tr>\n",
       "    <tr>\n",
       "      <th>2020-03-14</th>\n",
       "      <td>23.0</td>\n",
       "      <td>116.0</td>\n",
       "      <td>136.0</td>\n",
       "      <td>228.0</td>\n",
       "      <td>12.0</td>\n",
       "      <td>9.0</td>\n",
       "      <td>12.0</td>\n",
       "      <td>0.0</td>\n",
       "      <td>4.0</td>\n",
       "      <td>8.0</td>\n",
       "      <td>...</td>\n",
       "      <td>1.0</td>\n",
       "      <td>0.0</td>\n",
       "      <td>0.0</td>\n",
       "      <td>0.0</td>\n",
       "      <td>2.0</td>\n",
       "      <td>5.0</td>\n",
       "      <td>3.0</td>\n",
       "      <td>10.0</td>\n",
       "      <td>7.0</td>\n",
       "      <td>9.0</td>\n",
       "    </tr>\n",
       "    <tr>\n",
       "      <th>2020-03-15</th>\n",
       "      <td>18.0</td>\n",
       "      <td>136.0</td>\n",
       "      <td>228.0</td>\n",
       "      <td>196.0</td>\n",
       "      <td>9.0</td>\n",
       "      <td>12.0</td>\n",
       "      <td>23.0</td>\n",
       "      <td>4.0</td>\n",
       "      <td>8.0</td>\n",
       "      <td>8.0</td>\n",
       "      <td>...</td>\n",
       "      <td>2.0</td>\n",
       "      <td>0.0</td>\n",
       "      <td>0.0</td>\n",
       "      <td>0.0</td>\n",
       "      <td>5.0</td>\n",
       "      <td>3.0</td>\n",
       "      <td>5.0</td>\n",
       "      <td>7.0</td>\n",
       "      <td>9.0</td>\n",
       "      <td>19.0</td>\n",
       "    </tr>\n",
       "  </tbody>\n",
       "</table>\n",
       "<p>5 rows × 22 columns</p>\n",
       "</div>"
      ],
      "text/plain": [
       "            Incidentes  Pruebas t-3  Pruebas t-2  Pruebas t-1  Incidentes t-3  \\\n",
       "Fecha                                                                           \n",
       "2020-03-11        12.0        130.0         21.0         39.0             1.0   \n",
       "2020-03-12         9.0         21.0         39.0        116.0             3.0   \n",
       "2020-03-13        12.0         39.0        116.0        136.0             6.0   \n",
       "2020-03-14        23.0        116.0        136.0        228.0            12.0   \n",
       "2020-03-15        18.0        136.0        228.0        196.0             9.0   \n",
       "\n",
       "            Incidentes t-2  Incidentes t-1  H t-3  H t-2  H t-1  ...  \\\n",
       "Fecha                                                            ...   \n",
       "2020-03-11             3.0             6.0    0.0    0.0    0.0  ...   \n",
       "2020-03-12             6.0            12.0    0.0    0.0    0.0  ...   \n",
       "2020-03-13            12.0             9.0    0.0    0.0    4.0  ...   \n",
       "2020-03-14             9.0            12.0    0.0    4.0    8.0  ...   \n",
       "2020-03-15            12.0            23.0    4.0    8.0    8.0  ...   \n",
       "\n",
       "            H_UCI t-1  Defunciones t-3  Defunciones t-2  Defunciones t-1  \\\n",
       "Fecha                                                                      \n",
       "2020-03-11        0.0              0.0              0.0              0.0   \n",
       "2020-03-12        0.0              0.0              0.0              0.0   \n",
       "2020-03-13        1.0              0.0              0.0              0.0   \n",
       "2020-03-14        1.0              0.0              0.0              0.0   \n",
       "2020-03-15        2.0              0.0              0.0              0.0   \n",
       "\n",
       "            Asintomaticos t-3  Asintomaticos t-2  Asintomaticos t-1  \\\n",
       "Fecha                                                                 \n",
       "2020-03-11                2.0                0.0                0.0   \n",
       "2020-03-12                0.0                0.0                2.0   \n",
       "2020-03-13                0.0                2.0                5.0   \n",
       "2020-03-14                2.0                5.0                3.0   \n",
       "2020-03-15                5.0                3.0                5.0   \n",
       "\n",
       "            Sintomaticos t-3  Sintomaticos t-2  Sintomaticos t-1  \n",
       "Fecha                                                             \n",
       "2020-03-11               1.0               4.0               4.0  \n",
       "2020-03-12               4.0               4.0              10.0  \n",
       "2020-03-13               4.0              10.0               7.0  \n",
       "2020-03-14              10.0               7.0               9.0  \n",
       "2020-03-15               7.0               9.0              19.0  \n",
       "\n",
       "[5 rows x 22 columns]"
      ]
     },
     "execution_count": 81,
     "metadata": {},
     "output_type": "execute_result"
    }
   ],
   "source": [
    "pred_sin_mov = read_csv('../Datos_preprocesados/predictor_sin_mov.csv', encoding='latin-1', sep = ',', na_values = ['NaN', 'NaT'])\n",
    "pred_sin_mov = pred_sin_mov.set_index('Fecha')\n",
    "pred_sin_mov.head(5)"
   ]
  },
  {
   "cell_type": "markdown",
   "metadata": {},
   "source": [
    "# Random Forest"
   ]
  },
  {
   "cell_type": "code",
   "execution_count": 82,
   "metadata": {},
   "outputs": [],
   "source": [
    "from sklearn.model_selection import train_test_split\n",
    "from sklearn.ensemble import RandomForestRegressor\n",
    "from sklearn.model_selection import KFold\n",
    "from sklearn.model_selection import cross_val_score\n",
    "from sklearn import metrics"
   ]
  },
  {
   "cell_type": "markdown",
   "metadata": {},
   "source": [
    "En primer lugar seleccionamos el método que queremos utilizar, en nuestro caso es el regresor Random Forest"
   ]
  },
  {
   "cell_type": "code",
   "execution_count": 83,
   "metadata": {},
   "outputs": [],
   "source": [
    "rf = RandomForestRegressor(random_state = 42)"
   ]
  },
  {
   "cell_type": "markdown",
   "metadata": {},
   "source": [
    "Separamos nuestro conjunto de datos, 80% a train y 20% a test. En orden"
   ]
  },
  {
   "cell_type": "code",
   "execution_count": 84,
   "metadata": {},
   "outputs": [],
   "source": [
    "X_train, X_test, y_train, y_test = train_test_split(pred_sin_mov.drop(['Incidentes'], axis=1),\n",
    "                                        pred_sin_mov['Incidentes'], train_size = 0.8, test_size = 0.2, \n",
    "                                        random_state = 42, shuffle = False)"
   ]
  },
  {
   "cell_type": "code",
   "execution_count": 85,
   "metadata": {},
   "outputs": [
    {
     "data": {
      "text/plain": [
       "((304, 21), (304,), (76, 21), (76,))"
      ]
     },
     "execution_count": 85,
     "metadata": {},
     "output_type": "execute_result"
    }
   ],
   "source": [
    "X_train.shape, y_train.shape, X_test.shape, y_test.shape"
   ]
  },
  {
   "cell_type": "markdown",
   "metadata": {},
   "source": [
    "Lo siguiente que hacemos es hacer la búsqueda de hiperparámetros, para ello usaremos GridSearchCV, que prueba todas las \n",
    "posibles combinaciones de parámetros que se le pase usando crossvalidación. Veamos cuáles son los hiperparámetros de RF\n",
    "y sus valores por defecto"
   ]
  },
  {
   "cell_type": "code",
   "execution_count": 86,
   "metadata": {},
   "outputs": [
    {
     "data": {
      "text/plain": [
       "{'bootstrap': True,\n",
       " 'ccp_alpha': 0.0,\n",
       " 'criterion': 'mse',\n",
       " 'max_depth': None,\n",
       " 'max_features': 'auto',\n",
       " 'max_leaf_nodes': None,\n",
       " 'max_samples': None,\n",
       " 'min_impurity_decrease': 0.0,\n",
       " 'min_impurity_split': None,\n",
       " 'min_samples_leaf': 1,\n",
       " 'min_samples_split': 2,\n",
       " 'min_weight_fraction_leaf': 0.0,\n",
       " 'n_estimators': 100,\n",
       " 'n_jobs': None,\n",
       " 'oob_score': False,\n",
       " 'random_state': 42,\n",
       " 'verbose': 0,\n",
       " 'warm_start': False}"
      ]
     },
     "execution_count": 86,
     "metadata": {},
     "output_type": "execute_result"
    }
   ],
   "source": [
    "rf.get_params()"
   ]
  },
  {
   "cell_type": "markdown",
   "metadata": {},
   "source": [
    "- n_estimators: número de árboles \n",
    "- criterion: medida de calidad de cada división\n",
    "- max_depth: la máxima profundidad del árbol\n",
    "- min_samples_split: el mínimo número de muestras requeridas para dividir un nodo interno\n",
    "- min_samples_lead: mínimo número de muestras requeridas para ser nodo hoja\n",
    "- min_weight_fraction_lead: la fracción ponderada mínima de la suma total de pesos (de todas las muestras de entrada) necesaria para estar en un nodo hoja\n",
    "- max_features: número de características miradas al buscar el mejor split ({auto, sqrt, log2})\n",
    "- max_leaf_nodes: número máximo de nodos hoja\n",
    "- n_jobs: número de trabajos a correr en paralelo\n",
    "- max_samples: si hay bootstrapping es el número de muestras a extraer para estimar \n",
    "- ..."
   ]
  },
  {
   "cell_type": "code",
   "execution_count": 87,
   "metadata": {},
   "outputs": [
    {
     "data": {
      "text/plain": [
       "{'bootstrap': True,\n",
       " 'max_depth': 20,\n",
       " 'max_features': 5,\n",
       " 'min_samples_leaf': 2,\n",
       " 'min_samples_split': 8,\n",
       " 'n_estimators': 100}"
      ]
     },
     "execution_count": 87,
     "metadata": {},
     "output_type": "execute_result"
    }
   ],
   "source": [
    "from sklearn.model_selection import GridSearchCV\n",
    "from sklearn.model_selection import KFold\n",
    "\n",
    "# Usamos el cross validator de time series\n",
    "from sklearn.model_selection import TimeSeriesSplit\n",
    "tscv = TimeSeriesSplit(n_splits = 10)\n",
    "\n",
    "grid = {\n",
    "    'bootstrap': [True],\n",
    "    'max_depth': [20, 50, 60, 70, 80],\n",
    "    'max_features': [2, 3, 5],\n",
    "    'min_samples_leaf': [1, 2, 4, 5],\n",
    "    'min_samples_split': [4, 8, 10, 14],\n",
    "    'n_estimators': [100, 300, 500, 1000, 1500]\n",
    "}\n",
    "\n",
    "clf = GridSearchCV(estimator=RandomForestRegressor(), \n",
    "                    param_grid=grid,\n",
    "                    cv=tscv,\n",
    "                    refit=True,\n",
    "                    error_score=0,\n",
    "                    n_jobs=-1)\n",
    "\n",
    "clf.fit(X_train, y_train)\n",
    "\n",
    "# Random forest con los mejores hiperparámetros\n",
    "optimised_random_forest = clf.best_estimator_\n",
    "optimised_random_forest\n",
    "clf.best_params_"
   ]
  },
  {
   "cell_type": "markdown",
   "metadata": {},
   "source": [
    "Entrenamos ahora todo el conjunto de train con los mejores hiperparámetros obtenidos"
   ]
  },
  {
   "cell_type": "code",
   "execution_count": 88,
   "metadata": {},
   "outputs": [
    {
     "data": {
      "text/plain": [
       "RandomForestRegressor(max_depth=20, max_features=5, min_samples_leaf=2,\n",
       "                      min_samples_split=8)"
      ]
     },
     "execution_count": 88,
     "metadata": {},
     "output_type": "execute_result"
    }
   ],
   "source": [
    "optimised_random_forest.fit(X_train,y_train)"
   ]
  },
  {
   "cell_type": "markdown",
   "metadata": {},
   "source": [
    "Predecimos los datos de test"
   ]
  },
  {
   "cell_type": "code",
   "execution_count": 89,
   "metadata": {},
   "outputs": [],
   "source": [
    "y_pred = optimised_random_forest.predict(X_test)"
   ]
  },
  {
   "cell_type": "markdown",
   "metadata": {},
   "source": [
    "Finalmente calculamos el error cometido (uso MAE)"
   ]
  },
  {
   "cell_type": "code",
   "execution_count": 90,
   "metadata": {},
   "outputs": [
    {
     "name": "stdout",
     "output_type": "stream",
     "text": [
      "Mean absolute error = 233.08\n"
     ]
    }
   ],
   "source": [
    "import sklearn.metrics as sm\n",
    "print(\"Mean absolute error =\", round(sm.mean_absolute_error(y_test, y_pred), 2)) "
   ]
  },
  {
   "cell_type": "code",
   "execution_count": 94,
   "metadata": {},
   "outputs": [
    {
     "name": "stdout",
     "output_type": "stream",
     "text": [
      "RMSE = 409.11\n"
     ]
    }
   ],
   "source": [
    "import sklearn.metrics as sm\n",
    "import math\n",
    "print(\"RMSE =\", round(math.sqrt(sm.mean_squared_error(y_test, y_pred)), 2))"
   ]
  },
  {
   "cell_type": "markdown",
   "metadata": {},
   "source": [
    "Intentamos mostrar las predicciones y los valores reales en una gráfica. Aprovechando que tenemos la serie de valores\n",
    "reales a predecir, añadimos en un dataframe los valores predecidos y mostramos ambos según las fechas"
   ]
  },
  {
   "cell_type": "code",
   "execution_count": 92,
   "metadata": {},
   "outputs": [
    {
     "data": {
      "image/png": "[encoded data removed]",
      "text/plain": [
       "<Figure size 432x288 with 1 Axes>"
      ]
     },
     "metadata": {
      "needs_background": "light"
     },
     "output_type": "display_data"
    }
   ],
   "source": [
    "from matplotlib import pyplot\n",
    "df_y = pd.DataFrame(y_test)\n",
    "df_y['Incidentes predecidos'] = y_pred\n",
    "df_y.plot()\n",
    "pyplot.xticks(rotation=90)\n",
    "pyplot.show()"
   ]
  },
  {
   "cell_type": "code",
   "execution_count": 93,
   "metadata": {},
   "outputs": [
    {
     "data": {
      "text/plain": [
       "array([[1.        , 0.89067186],\n",
       "       [0.89067186, 1.        ]])"
      ]
     },
     "execution_count": 93,
     "metadata": {},
     "output_type": "execute_result"
    }
   ],
   "source": [
    "np.corrcoef(y_test, y_pred)"
   ]
  },
  {
   "cell_type": "markdown",
   "metadata": {},
   "source": [
    "## Normalización de datos"
   ]
  },
  {
   "cell_type": "markdown",
   "metadata": {},
   "source": [
    "En este apartado realizamos una normalización de los atributos de nuestros datos. Para ello usamos el normalizador que \n",
    "ofrece Python llamado Max-Min Scaler"
   ]
  },
  {
   "cell_type": "markdown",
   "metadata": {},
   "source": [
    "Nos quedamos con el índice del dataframe para luego poder añadirselo al nuevo dataframe escalado"
   ]
  },
  {
   "cell_type": "code",
   "execution_count": 59,
   "metadata": {},
   "outputs": [],
   "source": [
    "index = pred_sin_mov.index"
   ]
  },
  {
   "cell_type": "markdown",
   "metadata": {},
   "source": [
    "Normalización con max-min scaler"
   ]
  },
  {
   "cell_type": "code",
   "execution_count": 66,
   "metadata": {},
   "outputs": [
    {
     "data": {
      "text/html": [
       "<div>\n",
       "<style scoped>\n",
       "    .dataframe tbody tr th:only-of-type {\n",
       "        vertical-align: middle;\n",
       "    }\n",
       "\n",
       "    .dataframe tbody tr th {\n",
       "        vertical-align: top;\n",
       "    }\n",
       "\n",
       "    .dataframe thead th {\n",
       "        text-align: right;\n",
       "    }\n",
       "</style>\n",
       "<table border=\"1\" class=\"dataframe\">\n",
       "  <thead>\n",
       "    <tr style=\"text-align: right;\">\n",
       "      <th></th>\n",
       "      <th>Incidentes</th>\n",
       "      <th>Pruebas t-3</th>\n",
       "      <th>Pruebas t-2</th>\n",
       "      <th>Pruebas t-1</th>\n",
       "      <th>Incidentes t-3</th>\n",
       "      <th>Incidentes t-2</th>\n",
       "      <th>Incidentes t-1</th>\n",
       "      <th>H t-3</th>\n",
       "      <th>H t-2</th>\n",
       "      <th>H t-1</th>\n",
       "      <th>...</th>\n",
       "      <th>H_UCI t-1</th>\n",
       "      <th>Defunciones t-3</th>\n",
       "      <th>Defunciones t-2</th>\n",
       "      <th>Defunciones t-1</th>\n",
       "      <th>Asintomaticos t-3</th>\n",
       "      <th>Asintomaticos t-2</th>\n",
       "      <th>Asintomaticos t-1</th>\n",
       "      <th>Sintomaticos t-3</th>\n",
       "      <th>Sintomaticos t-2</th>\n",
       "      <th>Sintomaticos t-1</th>\n",
       "    </tr>\n",
       "    <tr>\n",
       "      <th>Fecha</th>\n",
       "      <th></th>\n",
       "      <th></th>\n",
       "      <th></th>\n",
       "      <th></th>\n",
       "      <th></th>\n",
       "      <th></th>\n",
       "      <th></th>\n",
       "      <th></th>\n",
       "      <th></th>\n",
       "      <th></th>\n",
       "      <th></th>\n",
       "      <th></th>\n",
       "      <th></th>\n",
       "      <th></th>\n",
       "      <th></th>\n",
       "      <th></th>\n",
       "      <th></th>\n",
       "      <th></th>\n",
       "      <th></th>\n",
       "      <th></th>\n",
       "      <th></th>\n",
       "    </tr>\n",
       "  </thead>\n",
       "  <tbody>\n",
       "    <tr>\n",
       "      <th>2020-03-11</th>\n",
       "      <td>0.005256</td>\n",
       "      <td>0.010901</td>\n",
       "      <td>0.001761</td>\n",
       "      <td>0.003270</td>\n",
       "      <td>0.000438</td>\n",
       "      <td>0.001314</td>\n",
       "      <td>0.002628</td>\n",
       "      <td>0.0</td>\n",
       "      <td>0.0</td>\n",
       "      <td>0.000000</td>\n",
       "      <td>...</td>\n",
       "      <td>0.000000</td>\n",
       "      <td>0.0</td>\n",
       "      <td>0.0</td>\n",
       "      <td>0.0</td>\n",
       "      <td>0.00354</td>\n",
       "      <td>0.00000</td>\n",
       "      <td>0.00000</td>\n",
       "      <td>0.000604</td>\n",
       "      <td>0.002415</td>\n",
       "      <td>0.002415</td>\n",
       "    </tr>\n",
       "    <tr>\n",
       "      <th>2020-03-12</th>\n",
       "      <td>0.003942</td>\n",
       "      <td>0.001761</td>\n",
       "      <td>0.003270</td>\n",
       "      <td>0.009727</td>\n",
       "      <td>0.001314</td>\n",
       "      <td>0.002628</td>\n",
       "      <td>0.005256</td>\n",
       "      <td>0.0</td>\n",
       "      <td>0.0</td>\n",
       "      <td>0.000000</td>\n",
       "      <td>...</td>\n",
       "      <td>0.000000</td>\n",
       "      <td>0.0</td>\n",
       "      <td>0.0</td>\n",
       "      <td>0.0</td>\n",
       "      <td>0.00000</td>\n",
       "      <td>0.00000</td>\n",
       "      <td>0.00354</td>\n",
       "      <td>0.002415</td>\n",
       "      <td>0.002415</td>\n",
       "      <td>0.006039</td>\n",
       "    </tr>\n",
       "    <tr>\n",
       "      <th>2020-03-13</th>\n",
       "      <td>0.005256</td>\n",
       "      <td>0.003270</td>\n",
       "      <td>0.009727</td>\n",
       "      <td>0.011404</td>\n",
       "      <td>0.002628</td>\n",
       "      <td>0.005256</td>\n",
       "      <td>0.003942</td>\n",
       "      <td>0.0</td>\n",
       "      <td>0.0</td>\n",
       "      <td>0.003521</td>\n",
       "      <td>...</td>\n",
       "      <td>0.005682</td>\n",
       "      <td>0.0</td>\n",
       "      <td>0.0</td>\n",
       "      <td>0.0</td>\n",
       "      <td>0.00000</td>\n",
       "      <td>0.00354</td>\n",
       "      <td>0.00885</td>\n",
       "      <td>0.002415</td>\n",
       "      <td>0.006039</td>\n",
       "      <td>0.004227</td>\n",
       "    </tr>\n",
       "  </tbody>\n",
       "</table>\n",
       "<p>3 rows × 22 columns</p>\n",
       "</div>"
      ],
      "text/plain": [
       "            Incidentes  Pruebas t-3  Pruebas t-2  Pruebas t-1  Incidentes t-3  \\\n",
       "Fecha                                                                           \n",
       "2020-03-11    0.005256     0.010901     0.001761     0.003270        0.000438   \n",
       "2020-03-12    0.003942     0.001761     0.003270     0.009727        0.001314   \n",
       "2020-03-13    0.005256     0.003270     0.009727     0.011404        0.002628   \n",
       "\n",
       "            Incidentes t-2  Incidentes t-1  H t-3  H t-2     H t-1  ...  \\\n",
       "Fecha                                                               ...   \n",
       "2020-03-11        0.001314        0.002628    0.0    0.0  0.000000  ...   \n",
       "2020-03-12        0.002628        0.005256    0.0    0.0  0.000000  ...   \n",
       "2020-03-13        0.005256        0.003942    0.0    0.0  0.003521  ...   \n",
       "\n",
       "            H_UCI t-1  Defunciones t-3  Defunciones t-2  Defunciones t-1  \\\n",
       "Fecha                                                                      \n",
       "2020-03-11   0.000000              0.0              0.0              0.0   \n",
       "2020-03-12   0.000000              0.0              0.0              0.0   \n",
       "2020-03-13   0.005682              0.0              0.0              0.0   \n",
       "\n",
       "            Asintomaticos t-3  Asintomaticos t-2  Asintomaticos t-1  \\\n",
       "Fecha                                                                 \n",
       "2020-03-11            0.00354            0.00000            0.00000   \n",
       "2020-03-12            0.00000            0.00000            0.00354   \n",
       "2020-03-13            0.00000            0.00354            0.00885   \n",
       "\n",
       "            Sintomaticos t-3  Sintomaticos t-2  Sintomaticos t-1  \n",
       "Fecha                                                             \n",
       "2020-03-11          0.000604          0.002415          0.002415  \n",
       "2020-03-12          0.002415          0.002415          0.006039  \n",
       "2020-03-13          0.002415          0.006039          0.004227  \n",
       "\n",
       "[3 rows x 22 columns]"
      ]
     },
     "execution_count": 66,
     "metadata": {},
     "output_type": "execute_result"
    }
   ],
   "source": [
    "from sklearn.preprocessing import MinMaxScaler\n",
    "scaler = MinMaxScaler()\n",
    "escalado = scaler.fit_transform(pred_sin_mov)\n",
    "df_escalado = pd.DataFrame(escalado, columns = pred_sin_mov.columns).set_index(index)\n",
    "df_escalado.head(3)"
   ]
  },
  {
   "cell_type": "code",
   "execution_count": 69,
   "metadata": {},
   "outputs": [],
   "source": [
    "rf = RandomForestRegressor(random_state = 42)\n",
    "\n",
    "X_train, X_test, y_train, y_test = train_test_split(df_escalado.drop(['Incidentes'], axis=1),\n",
    "                                        df_escalado['Incidentes'], train_size = 0.8, test_size = 0.2, \n",
    "                                        random_state = 42, shuffle = False)"
   ]
  },
  {
   "cell_type": "code",
   "execution_count": 70,
   "metadata": {},
   "outputs": [
    {
     "data": {
      "text/plain": [
       "(304, 21)"
      ]
     },
     "execution_count": 70,
     "metadata": {},
     "output_type": "execute_result"
    }
   ],
   "source": [
    "X_train.shape"
   ]
  },
  {
   "cell_type": "code",
   "execution_count": 71,
   "metadata": {},
   "outputs": [
    {
     "data": {
      "text/plain": [
       "RandomForestRegressor(max_depth=70, max_features=5, min_samples_leaf=4,\n",
       "                      min_samples_split=10)"
      ]
     },
     "execution_count": 71,
     "metadata": {},
     "output_type": "execute_result"
    }
   ],
   "source": [
    "from sklearn.model_selection import GridSearchCV\n",
    "from sklearn.model_selection import KFold\n",
    "\n",
    "# Usamos el cross validator de time series\n",
    "from sklearn.model_selection import TimeSeriesSplit\n",
    "tscv = TimeSeriesSplit(n_splits = 10)\n",
    "\n",
    "grid = {\n",
    "    'bootstrap': [True],\n",
    "    'max_depth': [20, 50, 60, 70, 80],\n",
    "    'max_features': [2, 3, 5],\n",
    "    'min_samples_leaf': [1, 2, 4, 5],\n",
    "    'min_samples_split': [4, 8, 10, 14],\n",
    "    'n_estimators': [100, 300, 500, 1000, 1500]\n",
    "}\n",
    "\n",
    "clf = GridSearchCV(estimator=RandomForestRegressor(), \n",
    "                    param_grid=grid,\n",
    "                    cv=tscv,\n",
    "                    refit=True,\n",
    "                    error_score=0,\n",
    "                    n_jobs=-1)\n",
    "\n",
    "clf.fit(X_train, y_train)\n",
    "\n",
    "# Random forest con los mejores hiperparámetros\n",
    "optimised_random_forest = clf.best_estimator_\n",
    "optimised_random_forest"
   ]
  },
  {
   "cell_type": "code",
   "execution_count": 72,
   "metadata": {},
   "outputs": [
    {
     "data": {
      "text/plain": [
       "RandomForestRegressor(max_depth=70, max_features=5, min_samples_leaf=4,\n",
       "                      min_samples_split=10)"
      ]
     },
     "execution_count": 72,
     "metadata": {},
     "output_type": "execute_result"
    }
   ],
   "source": [
    "optimised_random_forest.fit(X_train,y_train)"
   ]
  },
  {
   "cell_type": "code",
   "execution_count": 73,
   "metadata": {},
   "outputs": [],
   "source": [
    "y_pred = optimised_random_forest.predict(X_test)"
   ]
  },
  {
   "cell_type": "code",
   "execution_count": 74,
   "metadata": {},
   "outputs": [
    {
     "name": "stdout",
     "output_type": "stream",
     "text": [
      "Mean absolute error = 0.11\n"
     ]
    }
   ],
   "source": [
    "import sklearn.metrics as sm\n",
    "print(\"Mean absolute error =\", round(sm.mean_absolute_error(y_test, y_pred), 2)) "
   ]
  },
  {
   "cell_type": "code",
   "execution_count": 75,
   "metadata": {},
   "outputs": [
    {
     "name": "stdout",
     "output_type": "stream",
     "text": [
      "RMSE = 0.19\n"
     ]
    }
   ],
   "source": [
    "import sklearn.metrics as sm\n",
    "import math\n",
    "print(\"RMSE =\", round(math.sqrt(sm.mean_squared_error(y_test, y_pred)), 2))"
   ]
  },
  {
   "cell_type": "code",
   "execution_count": 76,
   "metadata": {},
   "outputs": [
    {
     "data": {
      "image/png": "[encoded data removed]",
      "text/plain": [
       "<Figure size 432x288 with 1 Axes>"
      ]
     },
     "metadata": {
      "needs_background": "light"
     },
     "output_type": "display_data"
    }
   ],
   "source": [
    "from matplotlib import pyplot\n",
    "df_y = pd.DataFrame(y_test)\n",
    "df_y['Incidentes predecidos'] = y_pred\n",
    "df_y.plot()\n",
    "pyplot.xticks(rotation=90)\n",
    "pyplot.show()"
   ]
  },
  {
   "cell_type": "markdown",
   "metadata": {},
   "source": [
    "# Regresión lineal"
   ]
  },
  {
   "cell_type": "markdown",
   "metadata": {},
   "source": [
    "## Con movilidad"
   ]
  },
  {
   "cell_type": "code",
   "execution_count": 3,
   "metadata": {},
   "outputs": [
    {
     "data": {
      "text/html": [
       "<div>\n",
       "<style scoped>\n",
       "    .dataframe tbody tr th:only-of-type {\n",
       "        vertical-align: middle;\n",
       "    }\n",
       "\n",
       "    .dataframe tbody tr th {\n",
       "        vertical-align: top;\n",
       "    }\n",
       "\n",
       "    .dataframe thead th {\n",
       "        text-align: right;\n",
       "    }\n",
       "</style>\n",
       "<table border=\"1\" class=\"dataframe\">\n",
       "  <thead>\n",
       "    <tr style=\"text-align: right;\">\n",
       "      <th></th>\n",
       "      <th>Incidentes</th>\n",
       "      <th>Pruebas t-3</th>\n",
       "      <th>Pruebas t-2</th>\n",
       "      <th>Pruebas t-1</th>\n",
       "      <th>Incidentes t-3</th>\n",
       "      <th>Incidentes t-2</th>\n",
       "      <th>Incidentes t-1</th>\n",
       "      <th>H t-3</th>\n",
       "      <th>H t-2</th>\n",
       "      <th>H t-1</th>\n",
       "      <th>...</th>\n",
       "      <th>Asintomaticos t-1</th>\n",
       "      <th>Entradas t-3</th>\n",
       "      <th>Entradas t-2</th>\n",
       "      <th>Entradas t-1</th>\n",
       "      <th>Salidas t-3</th>\n",
       "      <th>Salidas t-2</th>\n",
       "      <th>Salidas t-1</th>\n",
       "      <th>Sintomaticos t-3</th>\n",
       "      <th>Sintomaticos t-2</th>\n",
       "      <th>Sintomaticos t-1</th>\n",
       "    </tr>\n",
       "    <tr>\n",
       "      <th>Fecha</th>\n",
       "      <th></th>\n",
       "      <th></th>\n",
       "      <th></th>\n",
       "      <th></th>\n",
       "      <th></th>\n",
       "      <th></th>\n",
       "      <th></th>\n",
       "      <th></th>\n",
       "      <th></th>\n",
       "      <th></th>\n",
       "      <th></th>\n",
       "      <th></th>\n",
       "      <th></th>\n",
       "      <th></th>\n",
       "      <th></th>\n",
       "      <th></th>\n",
       "      <th></th>\n",
       "      <th></th>\n",
       "      <th></th>\n",
       "      <th></th>\n",
       "      <th></th>\n",
       "    </tr>\n",
       "  </thead>\n",
       "  <tbody>\n",
       "    <tr>\n",
       "      <th>2020-03-11</th>\n",
       "      <td>12.0</td>\n",
       "      <td>130.0</td>\n",
       "      <td>21.0</td>\n",
       "      <td>39.0</td>\n",
       "      <td>1.0</td>\n",
       "      <td>3.0</td>\n",
       "      <td>6.0</td>\n",
       "      <td>0.0</td>\n",
       "      <td>0.0</td>\n",
       "      <td>0.0</td>\n",
       "      <td>...</td>\n",
       "      <td>0.0</td>\n",
       "      <td>233114.055</td>\n",
       "      <td>312749.656</td>\n",
       "      <td>315375.300</td>\n",
       "      <td>226284.440</td>\n",
       "      <td>309733.557</td>\n",
       "      <td>315520.132</td>\n",
       "      <td>1.0</td>\n",
       "      <td>4.0</td>\n",
       "      <td>4.0</td>\n",
       "    </tr>\n",
       "    <tr>\n",
       "      <th>2020-03-12</th>\n",
       "      <td>9.0</td>\n",
       "      <td>21.0</td>\n",
       "      <td>39.0</td>\n",
       "      <td>116.0</td>\n",
       "      <td>3.0</td>\n",
       "      <td>6.0</td>\n",
       "      <td>12.0</td>\n",
       "      <td>0.0</td>\n",
       "      <td>0.0</td>\n",
       "      <td>0.0</td>\n",
       "      <td>...</td>\n",
       "      <td>2.0</td>\n",
       "      <td>312749.656</td>\n",
       "      <td>315375.300</td>\n",
       "      <td>317101.141</td>\n",
       "      <td>309733.557</td>\n",
       "      <td>315520.132</td>\n",
       "      <td>318225.510</td>\n",
       "      <td>4.0</td>\n",
       "      <td>4.0</td>\n",
       "      <td>10.0</td>\n",
       "    </tr>\n",
       "    <tr>\n",
       "      <th>2020-03-13</th>\n",
       "      <td>12.0</td>\n",
       "      <td>39.0</td>\n",
       "      <td>116.0</td>\n",
       "      <td>136.0</td>\n",
       "      <td>6.0</td>\n",
       "      <td>12.0</td>\n",
       "      <td>9.0</td>\n",
       "      <td>0.0</td>\n",
       "      <td>0.0</td>\n",
       "      <td>4.0</td>\n",
       "      <td>...</td>\n",
       "      <td>5.0</td>\n",
       "      <td>315375.300</td>\n",
       "      <td>317101.141</td>\n",
       "      <td>300505.264</td>\n",
       "      <td>315520.132</td>\n",
       "      <td>318225.510</td>\n",
       "      <td>306428.780</td>\n",
       "      <td>4.0</td>\n",
       "      <td>10.0</td>\n",
       "      <td>7.0</td>\n",
       "    </tr>\n",
       "  </tbody>\n",
       "</table>\n",
       "<p>3 rows × 28 columns</p>\n",
       "</div>"
      ],
      "text/plain": [
       "            Incidentes  Pruebas t-3  Pruebas t-2  Pruebas t-1  Incidentes t-3  \\\n",
       "Fecha                                                                           \n",
       "2020-03-11        12.0        130.0         21.0         39.0             1.0   \n",
       "2020-03-12         9.0         21.0         39.0        116.0             3.0   \n",
       "2020-03-13        12.0         39.0        116.0        136.0             6.0   \n",
       "\n",
       "            Incidentes t-2  Incidentes t-1  H t-3  H t-2  H t-1  ...  \\\n",
       "Fecha                                                            ...   \n",
       "2020-03-11             3.0             6.0    0.0    0.0    0.0  ...   \n",
       "2020-03-12             6.0            12.0    0.0    0.0    0.0  ...   \n",
       "2020-03-13            12.0             9.0    0.0    0.0    4.0  ...   \n",
       "\n",
       "            Asintomaticos t-1  Entradas t-3  Entradas t-2  Entradas t-1  \\\n",
       "Fecha                                                                     \n",
       "2020-03-11                0.0    233114.055    312749.656    315375.300   \n",
       "2020-03-12                2.0    312749.656    315375.300    317101.141   \n",
       "2020-03-13                5.0    315375.300    317101.141    300505.264   \n",
       "\n",
       "            Salidas t-3  Salidas t-2  Salidas t-1  Sintomaticos t-3  \\\n",
       "Fecha                                                                 \n",
       "2020-03-11   226284.440   309733.557   315520.132               1.0   \n",
       "2020-03-12   309733.557   315520.132   318225.510               4.0   \n",
       "2020-03-13   315520.132   318225.510   306428.780               4.0   \n",
       "\n",
       "            Sintomaticos t-2  Sintomaticos t-1  \n",
       "Fecha                                           \n",
       "2020-03-11               4.0               4.0  \n",
       "2020-03-12               4.0              10.0  \n",
       "2020-03-13              10.0               7.0  \n",
       "\n",
       "[3 rows x 28 columns]"
      ]
     },
     "execution_count": 3,
     "metadata": {},
     "output_type": "execute_result"
    }
   ],
   "source": [
    "df_predictor = read_csv('../Datos_preprocesados/predictor.csv', encoding='latin-1', sep = ',', na_values = ['NaN', 'NaT'])\n",
    "df_predictor = df_predictor.set_index('Fecha')\n",
    "df_predictor.head(3)"
   ]
  },
  {
   "cell_type": "code",
   "execution_count": 8,
   "metadata": {},
   "outputs": [],
   "source": [
    "from sklearn.model_selection import train_test_split\n",
    "\n",
    "X_train, X_test, y_train, y_test = train_test_split(df_predictor.drop(['Incidentes'], axis=1),\n",
    "                                        df_predictor['Incidentes'], train_size = 0.8, test_size = 0.2, \n",
    "                                        random_state = 42, shuffle = False)"
   ]
  },
  {
   "cell_type": "code",
   "execution_count": 9,
   "metadata": {},
   "outputs": [],
   "source": [
    "from sklearn.linear_model import LinearRegression "
   ]
  },
  {
   "cell_type": "code",
   "execution_count": 10,
   "metadata": {},
   "outputs": [],
   "source": [
    "regresion_lineal = LinearRegression()"
   ]
  },
  {
   "cell_type": "code",
   "execution_count": 11,
   "metadata": {},
   "outputs": [
    {
     "data": {
      "text/plain": [
       "LinearRegression()"
      ]
     },
     "execution_count": 11,
     "metadata": {},
     "output_type": "execute_result"
    }
   ],
   "source": [
    "regresion_lineal.fit(X_train, y_train) "
   ]
  },
  {
   "cell_type": "code",
   "execution_count": 12,
   "metadata": {},
   "outputs": [],
   "source": [
    "y_pred = regresion_lineal.predict(X_test)"
   ]
  },
  {
   "cell_type": "code",
   "execution_count": 15,
   "metadata": {},
   "outputs": [
    {
     "name": "stdout",
     "output_type": "stream",
     "text": [
      "Mean absolute error = 195.53\n"
     ]
    }
   ],
   "source": [
    "import sklearn.metrics as sm\n",
    "print(\"Mean absolute error =\", round(sm.mean_absolute_error(y_test, y_pred), 2))"
   ]
  },
  {
   "cell_type": "code",
   "execution_count": 13,
   "metadata": {},
   "outputs": [
    {
     "name": "stdout",
     "output_type": "stream",
     "text": [
      "RMSE = 292.89\n"
     ]
    }
   ],
   "source": [
    "import sklearn.metrics as sm\n",
    "import math\n",
    "print(\"RMSE =\", round(math.sqrt(sm.mean_squared_error(y_test, y_pred)), 2))"
   ]
  },
  {
   "cell_type": "code",
   "execution_count": 14,
   "metadata": {},
   "outputs": [
    {
     "data": {
      "image/png": "[encoded data removed]",
      "text/plain": [
       "<Figure size 432x288 with 1 Axes>"
      ]
     },
     "metadata": {
      "needs_background": "light"
     },
     "output_type": "display_data"
    }
   ],
   "source": [
    "from matplotlib import pyplot\n",
    "df_y = pd.DataFrame(y_test)\n",
    "df_y['Incidentes predecidos'] = y_pred\n",
    "df_y.plot()\n",
    "pyplot.xticks(rotation=90)\n",
    "pyplot.show()"
   ]
  }
 ],
 "metadata": {
  "kernelspec": {
   "display_name": "Python 3",
   "language": "python",
   "name": "python3"
  },
  "language_info": {
   "codemirror_mode": {
    "name": "ipython",
    "version": 3
   },
   "file_extension": ".py",
   "mimetype": "text/x-python",
   "name": "python",
   "nbconvert_exporter": "python",
   "pygments_lexer": "ipython3",
   "version": "3.8.8"
  }
 },
 "nbformat": 4,
 "nbformat_minor": 4
}

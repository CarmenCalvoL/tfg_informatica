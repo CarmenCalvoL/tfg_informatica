{
 "cells": [
  {
   "cell_type": "code",
   "execution_count": null,
   "metadata": {},
   "outputs": [],
   "source": [
    "# SALUD MURCIA"
   ]
  },
  {
   "cell_type": "code",
   "execution_count": 28,
   "metadata": {},
   "outputs": [],
   "source": [
    "# Lectura del conjunto de datos obtenido de la pagina de salud de Murcia \n",
    "# https://www.murciasalud.es/pagina.php?id=458869\n",
    "# Recogidos desde el 08/03/2020 hasta el dia 25/03/2020\n",
    "from pandas import read_csv\n",
    "lectura = read_csv('casos_diarios_total_regional.csv', skiprows = 4, encoding='latin-1', sep = ';', index_col = 0, na_values = ['NaN', 'NaT'])\n",
    "#lectura = read_csv('casos_diarios_total_regional.csv', skiprows = 4, encoding='latin-1', sep = ';', index_col = 0, parse_dates = ['Fecha'], na_values = ['NaN', 'NaT'])\n",
    "\n",
    "# Headers = columnas de mi conjunto de datos. Si no especificamos asume que son las de la primera fila leida\n",
    "# Skiprows = n: con n = numero de filas que quiero saltar. Las cuatro primeras son texto -> las saltamos\n",
    "# Encoding = 'latin-1': para que no de errores de codificacion de algunos caracteres \n",
    "# Sep = ';': delimitador que separa las columnas\n",
    "# Index_col = 0: usar la primera columna (fechas) como filas del dataframe"
   ]
  },
  {
   "cell_type": "code",
   "execution_count": 29,
   "metadata": {},
   "outputs": [],
   "source": [
    "# Renombramos los nombres de algunas de las columnas para que queden mas compactos\n",
    "datos = lectura.rename(columns={'Pruebas_PCR_Ag':'Pruebas_PCR_Ag',\n",
    "                                'Casos_incidentes_PCR/Ag+':'Incidentes_PCR_Ag',\n",
    "                                'Hospitalizados': 'H',\n",
    "                                'Hospitaliz_UCI':'H_UCI',\n",
    "                                'Asintomatico_hombre_<45años': 'Asint_H_<45',\n",
    "                                'Asintomatico_hombre_45a64años': 'Asint_H_45a64',\n",
    "                                'Asintomatico_hombre_+65años': 'Asint_H_+65',\n",
    "                                'Sintomatico_hombre_<45años': 'Sint_H_<45',\n",
    "                                'Sintomatico_hombre_45a64años': 'Sint_H_45a64',\n",
    "                                'Sintomatico_hombre_+65años': 'Sint_H_+65',\n",
    "                                'Asintomatico_mujer_<45años': 'Asint_M_<45',\n",
    "                                'Asintomatico_mujer_45a64años': 'Asint_M_45a64',\n",
    "                                'Asintomatico_mujer_+65años': 'Asint_M_+65',\n",
    "                                'Sintomatico_mujer_<45años': 'Sint_M_<45',\n",
    "                                'Sintomatico_mujer_45a64años': 'Sint_M_45a64',\n",
    "                                'Sintomatico_mujer_+65años': 'Sint_M_+65'})"
   ]
  },
  {
   "cell_type": "code",
   "execution_count": 30,
   "metadata": {},
   "outputs": [],
   "source": [
    "import pandas as pd\n",
    "df = pd.DataFrame(datos)"
   ]
  },
  {
   "cell_type": "code",
   "execution_count": 31,
   "metadata": {},
   "outputs": [
    {
     "data": {
      "text/html": [
       "<div>\n",
       "<style scoped>\n",
       "    .dataframe tbody tr th:only-of-type {\n",
       "        vertical-align: middle;\n",
       "    }\n",
       "\n",
       "    .dataframe tbody tr th {\n",
       "        vertical-align: top;\n",
       "    }\n",
       "\n",
       "    .dataframe thead th {\n",
       "        text-align: right;\n",
       "    }\n",
       "</style>\n",
       "<table border=\"1\" class=\"dataframe\">\n",
       "  <thead>\n",
       "    <tr style=\"text-align: right;\">\n",
       "      <th></th>\n",
       "      <th>Pruebas_PCR_Ag</th>\n",
       "      <th>Incidentes_PCR_Ag</th>\n",
       "      <th>H</th>\n",
       "      <th>H_UCI</th>\n",
       "      <th>Defunciones</th>\n",
       "      <th>Asint_H_&lt;45</th>\n",
       "      <th>Asint_H_45a64</th>\n",
       "      <th>Asint_H_+65</th>\n",
       "      <th>Sint_H_&lt;45</th>\n",
       "      <th>Sint_H_45a64</th>\n",
       "      <th>Sint_H_+65</th>\n",
       "      <th>Asint_M_&lt;45</th>\n",
       "      <th>Asint_M_45a64</th>\n",
       "      <th>Asint_M_+65</th>\n",
       "      <th>Sint_M_&lt;45</th>\n",
       "      <th>Sint_M_45a64</th>\n",
       "      <th>Sint_M_+65</th>\n",
       "    </tr>\n",
       "    <tr>\n",
       "      <th>Fecha</th>\n",
       "      <th></th>\n",
       "      <th></th>\n",
       "      <th></th>\n",
       "      <th></th>\n",
       "      <th></th>\n",
       "      <th></th>\n",
       "      <th></th>\n",
       "      <th></th>\n",
       "      <th></th>\n",
       "      <th></th>\n",
       "      <th></th>\n",
       "      <th></th>\n",
       "      <th></th>\n",
       "      <th></th>\n",
       "      <th></th>\n",
       "      <th></th>\n",
       "      <th></th>\n",
       "    </tr>\n",
       "  </thead>\n",
       "  <tbody>\n",
       "    <tr>\n",
       "      <th>08/03/2020</th>\n",
       "      <td>130.0</td>\n",
       "      <td>1.0</td>\n",
       "      <td>0.0</td>\n",
       "      <td>0.0</td>\n",
       "      <td>0.0</td>\n",
       "      <td>1.0</td>\n",
       "      <td>0.0</td>\n",
       "      <td>0.0</td>\n",
       "      <td>0.0</td>\n",
       "      <td>0.0</td>\n",
       "      <td>0.0</td>\n",
       "      <td>1.0</td>\n",
       "      <td>0.0</td>\n",
       "      <td>0.0</td>\n",
       "      <td>1.0</td>\n",
       "      <td>0.0</td>\n",
       "      <td>0.0</td>\n",
       "    </tr>\n",
       "    <tr>\n",
       "      <th>09/03/2020</th>\n",
       "      <td>21.0</td>\n",
       "      <td>3.0</td>\n",
       "      <td>0.0</td>\n",
       "      <td>0.0</td>\n",
       "      <td>0.0</td>\n",
       "      <td>0.0</td>\n",
       "      <td>0.0</td>\n",
       "      <td>0.0</td>\n",
       "      <td>0.0</td>\n",
       "      <td>1.0</td>\n",
       "      <td>0.0</td>\n",
       "      <td>0.0</td>\n",
       "      <td>0.0</td>\n",
       "      <td>0.0</td>\n",
       "      <td>3.0</td>\n",
       "      <td>0.0</td>\n",
       "      <td>0.0</td>\n",
       "    </tr>\n",
       "    <tr>\n",
       "      <th>10/03/2020</th>\n",
       "      <td>39.0</td>\n",
       "      <td>6.0</td>\n",
       "      <td>0.0</td>\n",
       "      <td>0.0</td>\n",
       "      <td>0.0</td>\n",
       "      <td>0.0</td>\n",
       "      <td>0.0</td>\n",
       "      <td>0.0</td>\n",
       "      <td>1.0</td>\n",
       "      <td>0.0</td>\n",
       "      <td>1.0</td>\n",
       "      <td>0.0</td>\n",
       "      <td>0.0</td>\n",
       "      <td>0.0</td>\n",
       "      <td>2.0</td>\n",
       "      <td>0.0</td>\n",
       "      <td>0.0</td>\n",
       "    </tr>\n",
       "    <tr>\n",
       "      <th>11/03/2020</th>\n",
       "      <td>116.0</td>\n",
       "      <td>12.0</td>\n",
       "      <td>0.0</td>\n",
       "      <td>0.0</td>\n",
       "      <td>0.0</td>\n",
       "      <td>1.0</td>\n",
       "      <td>0.0</td>\n",
       "      <td>0.0</td>\n",
       "      <td>2.0</td>\n",
       "      <td>0.0</td>\n",
       "      <td>2.0</td>\n",
       "      <td>1.0</td>\n",
       "      <td>0.0</td>\n",
       "      <td>0.0</td>\n",
       "      <td>4.0</td>\n",
       "      <td>1.0</td>\n",
       "      <td>1.0</td>\n",
       "    </tr>\n",
       "    <tr>\n",
       "      <th>12/03/2020</th>\n",
       "      <td>136.0</td>\n",
       "      <td>9.0</td>\n",
       "      <td>4.0</td>\n",
       "      <td>1.0</td>\n",
       "      <td>0.0</td>\n",
       "      <td>3.0</td>\n",
       "      <td>1.0</td>\n",
       "      <td>0.0</td>\n",
       "      <td>3.0</td>\n",
       "      <td>1.0</td>\n",
       "      <td>1.0</td>\n",
       "      <td>1.0</td>\n",
       "      <td>0.0</td>\n",
       "      <td>0.0</td>\n",
       "      <td>1.0</td>\n",
       "      <td>0.0</td>\n",
       "      <td>1.0</td>\n",
       "    </tr>\n",
       "  </tbody>\n",
       "</table>\n",
       "</div>"
      ],
      "text/plain": [
       "            Pruebas_PCR_Ag  Incidentes_PCR_Ag    H  H_UCI  Defunciones  \\\n",
       "Fecha                                                                    \n",
       "08/03/2020           130.0                1.0  0.0    0.0          0.0   \n",
       "09/03/2020            21.0                3.0  0.0    0.0          0.0   \n",
       "10/03/2020            39.0                6.0  0.0    0.0          0.0   \n",
       "11/03/2020           116.0               12.0  0.0    0.0          0.0   \n",
       "12/03/2020           136.0                9.0  4.0    1.0          0.0   \n",
       "\n",
       "            Asint_H_<45  Asint_H_45a64  Asint_H_+65  Sint_H_<45  Sint_H_45a64  \\\n",
       "Fecha                                                                           \n",
       "08/03/2020          1.0            0.0          0.0         0.0           0.0   \n",
       "09/03/2020          0.0            0.0          0.0         0.0           1.0   \n",
       "10/03/2020          0.0            0.0          0.0         1.0           0.0   \n",
       "11/03/2020          1.0            0.0          0.0         2.0           0.0   \n",
       "12/03/2020          3.0            1.0          0.0         3.0           1.0   \n",
       "\n",
       "            Sint_H_+65  Asint_M_<45  Asint_M_45a64  Asint_M_+65  Sint_M_<45  \\\n",
       "Fecha                                                                         \n",
       "08/03/2020         0.0          1.0            0.0          0.0         1.0   \n",
       "09/03/2020         0.0          0.0            0.0          0.0         3.0   \n",
       "10/03/2020         1.0          0.0            0.0          0.0         2.0   \n",
       "11/03/2020         2.0          1.0            0.0          0.0         4.0   \n",
       "12/03/2020         1.0          1.0            0.0          0.0         1.0   \n",
       "\n",
       "            Sint_M_45a64  Sint_M_+65  \n",
       "Fecha                                 \n",
       "08/03/2020           0.0         0.0  \n",
       "09/03/2020           0.0         0.0  \n",
       "10/03/2020           0.0         0.0  \n",
       "11/03/2020           1.0         1.0  \n",
       "12/03/2020           0.0         1.0  "
      ]
     },
     "execution_count": 31,
     "metadata": {},
     "output_type": "execute_result"
    }
   ],
   "source": [
    "df.head(5)"
   ]
  },
  {
   "cell_type": "code",
   "execution_count": 38,
   "metadata": {},
   "outputs": [
    {
     "name": "stdout",
     "output_type": "stream",
     "text": [
      "Fecha\n",
      "08/03/2020     1.0\n",
      "09/03/2020     3.0\n",
      "10/03/2020     6.0\n",
      "11/03/2020    12.0\n",
      "12/03/2020     9.0\n",
      "Name: Incidentes_PCR_Ag, dtype: float64\n"
     ]
    }
   ],
   "source": [
    "# Nos quedamos solo con la serie de casos incidentes (casos totales) por pruebas PCR o antigenos\n",
    "# (En principio considero que estos son los datos mas relevantes para mi estudio)\n",
    "df_positivos = df['Incidentes_PCR_Ag']\n",
    "print(df_positivos.head(5))"
   ]
  },
  {
   "cell_type": "code",
   "execution_count": 39,
   "metadata": {},
   "outputs": [
    {
     "data": {
      "text/plain": [
       "495"
      ]
     },
     "execution_count": 39,
     "metadata": {},
     "output_type": "execute_result"
    }
   ],
   "source": [
    "df_positivos.size"
   ]
  },
  {
   "cell_type": "code",
   "execution_count": 40,
   "metadata": {},
   "outputs": [
    {
     "data": {
      "text/plain": [
       "Fecha\n",
       "25/03/2021    88.0\n",
       "NaN            NaN\n",
       "NaN            NaN\n",
       "NaN            NaN\n",
       "NaN            NaN\n",
       "              ... \n",
       "NaN            NaN\n",
       "NaN            NaN\n",
       "NaN            NaN\n",
       "NaN            NaN\n",
       "NaN            NaN\n",
       "Name: Incidentes_PCR_Ag, Length: 113, dtype: float64"
      ]
     },
     "execution_count": 40,
     "metadata": {},
     "output_type": "execute_result"
    }
   ],
   "source": [
    "# Fijandonos en las columnas del archivo .csv vemos que hay un total de 382 filas de datos (dias)\n",
    "# Como el tamaño de df_positivos es 495 > 382, podemos sospechar que existen datos de mas\n",
    "# Mostramos las 113 ultimas filas para ver que en efecto existen valores NaN no definidos\n",
    "df_positivos.tail(113)"
   ]
  },
  {
   "cell_type": "code",
   "execution_count": 41,
   "metadata": {},
   "outputs": [],
   "source": [
    "# Como podemos observar, hay muchas columnas que tienen datos desconocidos (identificados con NaN)\n",
    "# https://stackabuse.com/python-how-to-handle-missing-dataframe-values-in-pandas/\n",
    "# En este enlace vemos como podemos eliminar las filas cuyos valores son NaN -> mediante la funcion dropna\n",
    "# De esta forma los datos ya se visualizaran solo en las fechas correctas, es decir, las puestas en el .csv\n",
    "df_positivos.dropna(axis = 0, inplace = True)"
   ]
  },
  {
   "cell_type": "code",
   "execution_count": 43,
   "metadata": {},
   "outputs": [
    {
     "data": {
      "image/png": "[encoded data removed]",
      "text/plain": [
       "<Figure size 432x288 with 1 Axes>"
      ]
     },
     "metadata": {
      "needs_background": "light"
     },
     "output_type": "display_data"
    }
   ],
   "source": [
    "# Visualización de los datos con un plot simple\n",
    "from matplotlib import pyplot\n",
    "df_positivos.plot()\n",
    "# Rotamos 45º las fechas para que se vean correctamente\n",
    "pyplot.xticks(rotation=90)\n",
    "pyplot.show()"
   ]
  },
  {
   "cell_type": "code",
   "execution_count": 44,
   "metadata": {},
   "outputs": [
    {
     "data": {
      "image/png": "[encoded data removed]",
      "text/plain": [
       "<Figure size 432x288 with 1 Axes>"
      ]
     },
     "metadata": {
      "needs_background": "light"
     },
     "output_type": "display_data"
    }
   ],
   "source": [
    "# Con el siguiente gráfico podemos hacer una primera aproximación sobre la presencia del virus\n",
    "# en la Región de Murcia. A simple vista, la pandemia parece haber sido bien controlada, puesto que\n",
    "# la nube de puntos más densa de encuentra entre los 0 y 500 casos\n",
    "from pandas.plotting import lag_plot\n",
    "lag_plot(df_positivos)\n",
    "pyplot.show()"
   ]
  },
  {
   "cell_type": "code",
   "execution_count": null,
   "metadata": {},
   "outputs": [],
   "source": []
  }
 ],
 "metadata": {
  "kernelspec": {
   "display_name": "Python 3",
   "language": "python",
   "name": "python3"
  },
  "language_info": {
   "codemirror_mode": {
    "name": "ipython",
    "version": 3
   },
   "file_extension": ".py",
   "mimetype": "text/x-python",
   "name": "python",
   "nbconvert_exporter": "python",
   "pygments_lexer": "ipython3",
   "version": "3.8.5"
  }
 },
 "nbformat": 4,
 "nbformat_minor": 4
}
